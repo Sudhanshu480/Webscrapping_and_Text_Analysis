{
  "nbformat": 4,
  "nbformat_minor": 0,
  "metadata": {
    "colab": {
      "provenance": []
    },
    "kernelspec": {
      "name": "python3",
      "display_name": "Python 3"
    },
    "language_info": {
      "name": "python"
    }
  },
  "cells": [
    {
      "cell_type": "code",
      "execution_count": 1,
      "metadata": {
        "id": "qhp0MUR5ABM6"
      },
      "outputs": [],
      "source": [
        "import pandas as pd\n",
        "import requests\n",
        "from bs4 import BeautifulSoup\n",
        "import numpy as np\n",
        "from google.colab import files\n",
        "import nltk\n",
        "import string\n",
        "import re"
      ]
    },
    {
      "cell_type": "code",
      "source": [
        "import nltk\n",
        "nltk.download('punkt')"
      ],
      "metadata": {
        "colab": {
          "base_uri": "https://localhost:8080/"
        },
        "id": "IRciCDVjAEQe",
        "outputId": "c98c29a9-40cb-416b-832a-ead540da1f17"
      },
      "execution_count": 2,
      "outputs": [
        {
          "output_type": "stream",
          "name": "stderr",
          "text": [
            "[nltk_data] Downloading package punkt to /root/nltk_data...\n",
            "[nltk_data]   Unzipping tokenizers/punkt.zip.\n"
          ]
        },
        {
          "output_type": "execute_result",
          "data": {
            "text/plain": [
              "True"
            ]
          },
          "metadata": {},
          "execution_count": 2
        }
      ]
    },
    {
      "cell_type": "code",
      "source": [
        "import nltk\n",
        "nltk.download('punkt')"
      ],
      "metadata": {
        "colab": {
          "base_uri": "https://localhost:8080/"
        },
        "id": "rKfphLWwAL3z",
        "outputId": "47f2fff8-b511-48a0-a9ee-ef0ab6623487"
      },
      "execution_count": 3,
      "outputs": [
        {
          "output_type": "stream",
          "name": "stderr",
          "text": [
            "[nltk_data] Downloading package punkt to /root/nltk_data...\n",
            "[nltk_data]   Package punkt is already up-to-date!\n"
          ]
        },
        {
          "output_type": "execute_result",
          "data": {
            "text/plain": [
              "True"
            ]
          },
          "metadata": {},
          "execution_count": 3
        }
      ]
    },
    {
      "cell_type": "code",
      "source": [
        "from google.colab import drive\n",
        "drive.mount('/content/drive')"
      ],
      "metadata": {
        "colab": {
          "base_uri": "https://localhost:8080/"
        },
        "id": "LF13JWy3AabL",
        "outputId": "24cf1666-e6de-4e08-f3a3-24a39fd6c04e"
      },
      "execution_count": 5,
      "outputs": [
        {
          "output_type": "stream",
          "name": "stdout",
          "text": [
            "Mounted at /content/drive\n"
          ]
        }
      ]
    },
    {
      "cell_type": "code",
      "source": [
        "dataset=pd.read_csv('/content/drive/MyDrive/BC_Test/Input.csv')[['URL_ID','URL']]"
      ],
      "metadata": {
        "id": "_vihtBxcAXIx"
      },
      "execution_count": 6,
      "outputs": []
    },
    {
      "cell_type": "code",
      "source": [
        "punc=[punc for punc in string.punctuation]\n",
        "punc"
      ],
      "metadata": {
        "colab": {
          "base_uri": "https://localhost:8080/"
        },
        "id": "v7hJ-0fUAROo",
        "outputId": "aa0e9d81-225f-4cb1-fe16-c8265c819ee3"
      },
      "execution_count": 7,
      "outputs": [
        {
          "output_type": "execute_result",
          "data": {
            "text/plain": [
              "['!',\n",
              " '\"',\n",
              " '#',\n",
              " '$',\n",
              " '%',\n",
              " '&',\n",
              " \"'\",\n",
              " '(',\n",
              " ')',\n",
              " '*',\n",
              " '+',\n",
              " ',',\n",
              " '-',\n",
              " '.',\n",
              " '/',\n",
              " ':',\n",
              " ';',\n",
              " '<',\n",
              " '=',\n",
              " '>',\n",
              " '?',\n",
              " '@',\n",
              " '[',\n",
              " '\\\\',\n",
              " ']',\n",
              " '^',\n",
              " '_',\n",
              " '`',\n",
              " '{',\n",
              " '|',\n",
              " '}',\n",
              " '~']"
            ]
          },
          "metadata": {},
          "execution_count": 7
        }
      ]
    },
    {
      "cell_type": "code",
      "source": [
        "#importing stop words files that are provided\n",
        "StopWords_Auditor = pd.read_csv(\"/content/drive/MyDrive/BC_Test/StopWords/StopWords_Auditor.txt\", header=None)[0].tolist()\n",
        "StopWords_Currencies = pd.read_csv(\"/content/drive/MyDrive/BC_Test/StopWords/StopWords_Currencies.txt\", header=None, encoding=\"ISO-8859-1\", sep='delimiter')[0].tolist()\n",
        "StopWords_DatesandNumbers = pd.read_csv(\"/content/drive/MyDrive/BC_Test/StopWords/StopWords_DatesandNumbers.txt\", header=None)[0].tolist()\n",
        "StopWords_Generic = pd.read_csv(\"/content/drive/MyDrive/BC_Test/StopWords/StopWords_Generic.txt\", header=None)[0].tolist()\n",
        "StopWords_GenericLong = pd.read_csv(\"/content/drive/MyDrive/BC_Test/StopWords/StopWords_GenericLong.txt\", header=None)[0].tolist()\n",
        "StopWords_Geographic = pd.read_csv(\"/content/drive/MyDrive/BC_Test/StopWords/StopWords_Geographic.txt\", header=None)[0].tolist()\n",
        "StopWords_Names = pd.read_csv(\"/content/drive/MyDrive/BC_Test/StopWords/StopWords_Names.txt\", header=None)[0].tolist()"
      ],
      "metadata": {
        "colab": {
          "base_uri": "https://localhost:8080/"
        },
        "id": "PYMLniqFBnfq",
        "outputId": "d090067a-822a-4702-e576-69bbe7a794c8"
      },
      "execution_count": 9,
      "outputs": [
        {
          "output_type": "stream",
          "name": "stderr",
          "text": [
            "<ipython-input-9-bbbe7b8418d7>:3: ParserWarning: Falling back to the 'python' engine because the 'c' engine does not support regex separators (separators > 1 char and different from '\\s+' are interpreted as regex); you can avoid this warning by specifying engine='python'.\n",
            "  StopWords_Currencies = pd.read_csv(\"/content/drive/MyDrive/BC_Test/StopWords/StopWords_Currencies.txt\", header=None, encoding=\"ISO-8859-1\", sep='delimiter')[0].tolist()\n"
          ]
        }
      ]
    },
    {
      "cell_type": "code",
      "source": [
        "#creating func for removing stop words\n",
        "def text_process(text):\n",
        "    nopunc =[char for char in text if char not in punc or char not in [':',',','(',')','’','?']]\n",
        "    nopunc=''.join(nopunc)\n",
        "    txt=' '.join([word for word in nopunc.split() if word.lower() not in StopWords_Auditor])\n",
        "    txt1=' '.join([word for word in txt.split() if word.lower() not in StopWords_Currencies])\n",
        "    txt2=' '.join([word for word in txt1.split() if word.lower() not in StopWords_DatesandNumbers])\n",
        "    txt3=' '.join([word for word in txt2.split() if word.lower() not in StopWords_Generic])\n",
        "    txt4=' '.join([word for word in txt3.split() if word.lower() not in StopWords_GenericLong])\n",
        "    txt5=' '.join([word for word in txt4.split() if word.lower() not in StopWords_Geographic])\n",
        "    return ' '.join([word for word in txt5.split() if word.lower() not in StopWords_Names])\n"
      ],
      "metadata": {
        "id": "jl4ycl-fBp06"
      },
      "execution_count": 10,
      "outputs": []
    },
    {
      "cell_type": "code",
      "source": [
        "#importing master Dictionary\n",
        "positive=pd.read_csv(\"/content/drive/MyDrive/BC_Test/MasterDictionary/positive-words.txt\", names=[\"Positive text\"],header=None)\n",
        "negative=pd.read_csv(\"/content/drive/MyDrive/BC_Test/MasterDictionary/negative-words.txt\", names=[\"Negative text\"],header=None,encoding=\"ISO-8859-1\",sep='delimiter' )"
      ],
      "metadata": {
        "colab": {
          "base_uri": "https://localhost:8080/"
        },
        "id": "JymoysnHB13t",
        "outputId": "38600e86-3980-4d75-c283-3a1b2eeb1840"
      },
      "execution_count": 11,
      "outputs": [
        {
          "output_type": "stream",
          "name": "stderr",
          "text": [
            "<ipython-input-11-40dff0f77a5e>:3: ParserWarning: Falling back to the 'python' engine because the 'c' engine does not support regex separators (separators > 1 char and different from '\\s+' are interpreted as regex); you can avoid this warning by specifying engine='python'.\n",
            "  negative=pd.read_csv(\"/content/drive/MyDrive/BC_Test/MasterDictionary/negative-words.txt\", names=[\"Negative text\"],header=None,encoding=\"ISO-8859-1\",sep='delimiter' )\n"
          ]
        }
      ]
    },
    {
      "cell_type": "code",
      "source": [
        "#positive and negative dictionary without stopwords\n",
        "positive['Positive text']=positive['Positive text'].apply(text_process)\n",
        "negative['Negative text']=negative['Negative text'].apply(text_process)"
      ],
      "metadata": {
        "id": "ziF2nNl2B7XG"
      },
      "execution_count": 12,
      "outputs": []
    },
    {
      "cell_type": "code",
      "source": [
        "# Creating final positive and negative list\n",
        "positiveWordList = positive['Positive text'].tolist()\n",
        "negativeWordList = negative['Negative text'].tolist()"
      ],
      "metadata": {
        "id": "bsJ_hRVEB_oe"
      },
      "execution_count": 13,
      "outputs": []
    },
    {
      "cell_type": "code",
      "source": [
        "output = pd.DataFrame(columns=['URL_ID', 'URL', 'Positive Score', 'Negative Score', 'Polarity Score', 'Subjectivity Score', 'Average Sentence Length', 'Percentage of Complex Words','Fog Index', 'Average Number of Words Per Sentence', 'Complex Word Count', 'Word Count', 'Syllables per Word', 'Personal Pronouns', 'Average Word Length'])"
      ],
      "metadata": {
        "id": "68fazDaFCB11"
      },
      "execution_count": 14,
      "outputs": []
    },
    {
      "cell_type": "code",
      "source": [
        "\n",
        "# Iterate through each URL in the dataframe\n",
        "for i, row in dataset.iterrows():\n",
        "    url_id = row['URL_ID']\n",
        "    url = row['URL']\n",
        "\n",
        "    try:\n",
        "        print(f\"Processing article {i + 1}: {url_id} - {url}\")\n",
        "        # Fetch HTML content\n",
        "        page = requests.get(url, headers={\"User-Agent\": \"XY\"})\n",
        "        soup = BeautifulSoup(page.text, 'html.parser')\n",
        "\n",
        "        # Extract article text\n",
        "        text = soup.find(attrs={'class': 'td-post-content'}).get_text()\n",
        "        lines = (line.strip() for line in text.splitlines())\n",
        "        chunks = (phrase.strip() for line in lines for phrase in line.split(\"  \"))\n",
        "        text = ' '.join(chunk for chunk in chunks if chunk)\n",
        "\n",
        "        # Tokenization\n",
        "        tokenize_text = nltk.word_tokenize(text)\n",
        "\n",
        "        # Positive score\n",
        "        positive_score = sum(1 for word in tokenize_text if word.lower() in positiveWordList)\n",
        "\n",
        "        # Negative score\n",
        "        negative_score = sum(1 for word in tokenize_text if word.lower() in negativeWordList)\n",
        "\n",
        "        # Polarity score\n",
        "        x = positive_score - negative_score\n",
        "        y = positive_score + negative_score\n",
        "        polarity_score = (x / y) + 0.000001\n",
        "\n",
        "        # Subjectivity score\n",
        "        subjectivity_score = y / (len(tokenize_text) + 0.000001)\n",
        "\n",
        "        # Average sentence length\n",
        "        num_sentences = len(nltk.sent_tokenize(text))\n",
        "        words_ = sum(len(sentence) for sentence in nltk.sent_tokenize(text))\n",
        "        avg_sentence_length = words_ / num_sentences\n",
        "\n",
        "        # Percentage of complex words\n",
        "        def is_complex_word(word):\n",
        "            d = {}.fromkeys('aeiou', 0)\n",
        "            has_lots_of_vowels = False\n",
        "\n",
        "            for x in word.lower():\n",
        "                if x in d:\n",
        "                    d[x] += 1\n",
        "\n",
        "            for q in d.values():\n",
        "                if q > 2:\n",
        "                    has_lots_of_vowels = True\n",
        "\n",
        "            if word.lower() not in string.punctuation and has_lots_of_vowels:\n",
        "                return True\n",
        "            return False\n",
        "\n",
        "        complex_words = sum(1 for word in tokenize_text if is_complex_word(word))\n",
        "        percentage_of_complex_words = complex_words / len(tokenize_text)\n",
        "\n",
        "        # Fog Index\n",
        "        fog_index = 0.4 * (avg_sentence_length + percentage_of_complex_words)\n",
        "\n",
        "        # Average number of words per sentence\n",
        "        avg_words_per_sentence = words_ / num_sentences\n",
        "\n",
        "        # Complex word count\n",
        "        complex_word_count = complex_words\n",
        "\n",
        "        # Word count\n",
        "        word_count = len(tokenize_text)\n",
        "\n",
        "        # Syllables per word\n",
        "        # Function to count syllables in a word\n",
        "        def count_syllables(word):\n",
        "            word = word.lower()\n",
        "            if word in ['a', 'i', 'o', 'u', 'e']:\n",
        "                return 1\n",
        "            count = 0\n",
        "            vowels = 'aeiou'\n",
        "            if word[0] in vowels:\n",
        "                count += 1\n",
        "            for index in range(1, len(word)):\n",
        "                if word[index] in vowels and word[index - 1] not in vowels:\n",
        "                    count += 1\n",
        "            if word.endswith('e'):\n",
        "                count -= 1\n",
        "            if word.endswith('le'):\n",
        "                count += 1\n",
        "            if count == 0:\n",
        "                count += 1\n",
        "            if word.endswith(('es', 'ed')):\n",
        "                count -= 1\n",
        "            return count\n",
        "\n",
        "        syllable_count = sum(count_syllables(word) for word in tokenize_text)\n",
        "        syllables_per_word = syllable_count / len(tokenize_text)\n",
        "\n",
        "        # Personal pronouns count\n",
        "        pronouns = ['i', 'we', 'my', 'ours', 'us']\n",
        "        personal_pronouns_count = sum(1 for word in tokenize_text if word.lower() in pronouns)\n",
        "\n",
        "        # Average word length\n",
        "        total_chars = sum(len(word) for word in tokenize_text)\n",
        "        average_word_length = total_chars / len(tokenize_text)\n",
        "\n",
        "        # Append to output dataframe\n",
        "        output = output.append({'URL_ID': url_id,\n",
        "                                'URL': url,\n",
        "                                'Positive Score': positive_score,\n",
        "                                'Negative Score': negative_score,\n",
        "                                'Polarity Score': polarity_score,\n",
        "                                'Subjectivity Score': subjectivity_score,\n",
        "                                'Average Sentence Length': avg_sentence_length,\n",
        "                                'Percentage of Complex Words': percentage_of_complex_words,\n",
        "                                'Fog Index': fog_index,\n",
        "                                'Average Number of Words Per Sentence': avg_words_per_sentence,\n",
        "                                'Complex Word Count': complex_word_count,\n",
        "                                'Word Count': word_count,\n",
        "                                'Syllables per Word': syllables_per_word,\n",
        "                                'Personal Pronouns': personal_pronouns_count,\n",
        "                                'Average Word Length': average_word_length}, ignore_index=True)\n",
        "\n",
        "        print(f'Successfully processed article {i + 1}: {url}')\n",
        "\n",
        "    except Exception as e:\n",
        "        print(f'Error occurred while processing article {i + 1}: {e}')"
      ],
      "metadata": {
        "colab": {
          "base_uri": "https://localhost:8080/"
        },
        "id": "R3ZyvQ7GCEBK",
        "outputId": "27f1c8ab-81bb-4a1c-d71d-3aa17d08ba1e"
      },
      "execution_count": 15,
      "outputs": [
        {
          "output_type": "stream",
          "name": "stdout",
          "text": [
            "Processing article 1: blackassign0001 - https://insights.blackcoffer.com/rising-it-cities-and-its-impact-on-the-economy-environment-infrastructure-and-city-life-by-the-year-2040-2/\n"
          ]
        },
        {
          "output_type": "stream",
          "name": "stderr",
          "text": [
            "<ipython-input-15-ed0d1a691144>:107: FutureWarning: The frame.append method is deprecated and will be removed from pandas in a future version. Use pandas.concat instead.\n",
            "  output = output.append({'URL_ID': url_id,\n"
          ]
        },
        {
          "output_type": "stream",
          "name": "stdout",
          "text": [
            "Successfully processed article 1: https://insights.blackcoffer.com/rising-it-cities-and-its-impact-on-the-economy-environment-infrastructure-and-city-life-by-the-year-2040-2/\n",
            "Processing article 2: blackassign0002 - https://insights.blackcoffer.com/rising-it-cities-and-their-impact-on-the-economy-environment-infrastructure-and-city-life-in-future/\n"
          ]
        },
        {
          "output_type": "stream",
          "name": "stderr",
          "text": [
            "<ipython-input-15-ed0d1a691144>:107: FutureWarning: The frame.append method is deprecated and will be removed from pandas in a future version. Use pandas.concat instead.\n",
            "  output = output.append({'URL_ID': url_id,\n"
          ]
        },
        {
          "output_type": "stream",
          "name": "stdout",
          "text": [
            "Successfully processed article 2: https://insights.blackcoffer.com/rising-it-cities-and-their-impact-on-the-economy-environment-infrastructure-and-city-life-in-future/\n",
            "Processing article 3: blackassign0003 - https://insights.blackcoffer.com/internet-demands-evolution-communication-impact-and-2035s-alternative-pathways/\n"
          ]
        },
        {
          "output_type": "stream",
          "name": "stderr",
          "text": [
            "<ipython-input-15-ed0d1a691144>:107: FutureWarning: The frame.append method is deprecated and will be removed from pandas in a future version. Use pandas.concat instead.\n",
            "  output = output.append({'URL_ID': url_id,\n"
          ]
        },
        {
          "output_type": "stream",
          "name": "stdout",
          "text": [
            "Successfully processed article 3: https://insights.blackcoffer.com/internet-demands-evolution-communication-impact-and-2035s-alternative-pathways/\n",
            "Processing article 4: blackassign0004 - https://insights.blackcoffer.com/rise-of-cybercrime-and-its-effect-in-upcoming-future/\n"
          ]
        },
        {
          "output_type": "stream",
          "name": "stderr",
          "text": [
            "<ipython-input-15-ed0d1a691144>:107: FutureWarning: The frame.append method is deprecated and will be removed from pandas in a future version. Use pandas.concat instead.\n",
            "  output = output.append({'URL_ID': url_id,\n"
          ]
        },
        {
          "output_type": "stream",
          "name": "stdout",
          "text": [
            "Successfully processed article 4: https://insights.blackcoffer.com/rise-of-cybercrime-and-its-effect-in-upcoming-future/\n",
            "Processing article 5: blackassign0005 - https://insights.blackcoffer.com/ott-platform-and-its-impact-on-the-entertainment-industry-in-future/\n"
          ]
        },
        {
          "output_type": "stream",
          "name": "stderr",
          "text": [
            "<ipython-input-15-ed0d1a691144>:107: FutureWarning: The frame.append method is deprecated and will be removed from pandas in a future version. Use pandas.concat instead.\n",
            "  output = output.append({'URL_ID': url_id,\n"
          ]
        },
        {
          "output_type": "stream",
          "name": "stdout",
          "text": [
            "Successfully processed article 5: https://insights.blackcoffer.com/ott-platform-and-its-impact-on-the-entertainment-industry-in-future/\n",
            "Processing article 6: blackassign0006 - https://insights.blackcoffer.com/the-rise-of-the-ott-platform-and-its-impact-on-the-entertainment-industry-by-2040/\n"
          ]
        },
        {
          "output_type": "stream",
          "name": "stderr",
          "text": [
            "<ipython-input-15-ed0d1a691144>:107: FutureWarning: The frame.append method is deprecated and will be removed from pandas in a future version. Use pandas.concat instead.\n",
            "  output = output.append({'URL_ID': url_id,\n"
          ]
        },
        {
          "output_type": "stream",
          "name": "stdout",
          "text": [
            "Successfully processed article 6: https://insights.blackcoffer.com/the-rise-of-the-ott-platform-and-its-impact-on-the-entertainment-industry-by-2040/\n",
            "Processing article 7: blackassign0007 - https://insights.blackcoffer.com/rise-of-cyber-crime-and-its-effects/\n"
          ]
        },
        {
          "output_type": "stream",
          "name": "stderr",
          "text": [
            "<ipython-input-15-ed0d1a691144>:107: FutureWarning: The frame.append method is deprecated and will be removed from pandas in a future version. Use pandas.concat instead.\n",
            "  output = output.append({'URL_ID': url_id,\n"
          ]
        },
        {
          "output_type": "stream",
          "name": "stdout",
          "text": [
            "Successfully processed article 7: https://insights.blackcoffer.com/rise-of-cyber-crime-and-its-effects/\n",
            "Processing article 8: blackassign0008 - https://insights.blackcoffer.com/rise-of-internet-demand-and-its-impact-on-communications-and-alternatives-by-the-year-2035-2/\n"
          ]
        },
        {
          "output_type": "stream",
          "name": "stderr",
          "text": [
            "<ipython-input-15-ed0d1a691144>:107: FutureWarning: The frame.append method is deprecated and will be removed from pandas in a future version. Use pandas.concat instead.\n",
            "  output = output.append({'URL_ID': url_id,\n"
          ]
        },
        {
          "output_type": "stream",
          "name": "stdout",
          "text": [
            "Successfully processed article 8: https://insights.blackcoffer.com/rise-of-internet-demand-and-its-impact-on-communications-and-alternatives-by-the-year-2035-2/\n",
            "Processing article 9: blackassign0009 - https://insights.blackcoffer.com/rise-of-cybercrime-and-its-effect-by-the-year-2040-2/\n"
          ]
        },
        {
          "output_type": "stream",
          "name": "stderr",
          "text": [
            "<ipython-input-15-ed0d1a691144>:107: FutureWarning: The frame.append method is deprecated and will be removed from pandas in a future version. Use pandas.concat instead.\n",
            "  output = output.append({'URL_ID': url_id,\n"
          ]
        },
        {
          "output_type": "stream",
          "name": "stdout",
          "text": [
            "Successfully processed article 9: https://insights.blackcoffer.com/rise-of-cybercrime-and-its-effect-by-the-year-2040-2/\n",
            "Processing article 10: blackassign0010 - https://insights.blackcoffer.com/rise-of-cybercrime-and-its-effect-by-the-year-2040/\n"
          ]
        },
        {
          "output_type": "stream",
          "name": "stderr",
          "text": [
            "<ipython-input-15-ed0d1a691144>:107: FutureWarning: The frame.append method is deprecated and will be removed from pandas in a future version. Use pandas.concat instead.\n",
            "  output = output.append({'URL_ID': url_id,\n"
          ]
        },
        {
          "output_type": "stream",
          "name": "stdout",
          "text": [
            "Successfully processed article 10: https://insights.blackcoffer.com/rise-of-cybercrime-and-its-effect-by-the-year-2040/\n",
            "Processing article 11: blackassign0011 - https://insights.blackcoffer.com/rise-of-internet-demand-and-its-impact-on-communications-and-alternatives-by-the-year-2035/\n"
          ]
        },
        {
          "output_type": "stream",
          "name": "stderr",
          "text": [
            "<ipython-input-15-ed0d1a691144>:107: FutureWarning: The frame.append method is deprecated and will be removed from pandas in a future version. Use pandas.concat instead.\n",
            "  output = output.append({'URL_ID': url_id,\n"
          ]
        },
        {
          "output_type": "stream",
          "name": "stdout",
          "text": [
            "Successfully processed article 11: https://insights.blackcoffer.com/rise-of-internet-demand-and-its-impact-on-communications-and-alternatives-by-the-year-2035/\n",
            "Processing article 12: blackassign0012 - https://insights.blackcoffer.com/rise-of-telemedicine-and-its-impact-on-livelihood-by-2040-3-2/\n"
          ]
        },
        {
          "output_type": "stream",
          "name": "stderr",
          "text": [
            "<ipython-input-15-ed0d1a691144>:107: FutureWarning: The frame.append method is deprecated and will be removed from pandas in a future version. Use pandas.concat instead.\n",
            "  output = output.append({'URL_ID': url_id,\n"
          ]
        },
        {
          "output_type": "stream",
          "name": "stdout",
          "text": [
            "Successfully processed article 12: https://insights.blackcoffer.com/rise-of-telemedicine-and-its-impact-on-livelihood-by-2040-3-2/\n",
            "Processing article 13: blackassign0013 - https://insights.blackcoffer.com/rise-of-e-health-and-its-impact-on-humans-by-the-year-2030/\n"
          ]
        },
        {
          "output_type": "stream",
          "name": "stderr",
          "text": [
            "<ipython-input-15-ed0d1a691144>:107: FutureWarning: The frame.append method is deprecated and will be removed from pandas in a future version. Use pandas.concat instead.\n",
            "  output = output.append({'URL_ID': url_id,\n"
          ]
        },
        {
          "output_type": "stream",
          "name": "stdout",
          "text": [
            "Successfully processed article 13: https://insights.blackcoffer.com/rise-of-e-health-and-its-impact-on-humans-by-the-year-2030/\n",
            "Processing article 14: blackassign0014 - https://insights.blackcoffer.com/rise-of-e-health-and-its-imapct-on-humans-by-the-year-2030-2/\n"
          ]
        },
        {
          "output_type": "stream",
          "name": "stderr",
          "text": [
            "<ipython-input-15-ed0d1a691144>:107: FutureWarning: The frame.append method is deprecated and will be removed from pandas in a future version. Use pandas.concat instead.\n",
            "  output = output.append({'URL_ID': url_id,\n"
          ]
        },
        {
          "output_type": "stream",
          "name": "stdout",
          "text": [
            "Successfully processed article 14: https://insights.blackcoffer.com/rise-of-e-health-and-its-imapct-on-humans-by-the-year-2030-2/\n",
            "Processing article 15: blackassign0015 - https://insights.blackcoffer.com/rise-of-telemedicine-and-its-impact-on-livelihood-by-2040-2/\n"
          ]
        },
        {
          "output_type": "stream",
          "name": "stderr",
          "text": [
            "<ipython-input-15-ed0d1a691144>:107: FutureWarning: The frame.append method is deprecated and will be removed from pandas in a future version. Use pandas.concat instead.\n",
            "  output = output.append({'URL_ID': url_id,\n"
          ]
        },
        {
          "output_type": "stream",
          "name": "stdout",
          "text": [
            "Successfully processed article 15: https://insights.blackcoffer.com/rise-of-telemedicine-and-its-impact-on-livelihood-by-2040-2/\n",
            "Processing article 16: blackassign0016 - https://insights.blackcoffer.com/rise-of-telemedicine-and-its-impact-on-livelihood-by-2040-2-2/\n"
          ]
        },
        {
          "output_type": "stream",
          "name": "stderr",
          "text": [
            "<ipython-input-15-ed0d1a691144>:107: FutureWarning: The frame.append method is deprecated and will be removed from pandas in a future version. Use pandas.concat instead.\n",
            "  output = output.append({'URL_ID': url_id,\n"
          ]
        },
        {
          "output_type": "stream",
          "name": "stdout",
          "text": [
            "Successfully processed article 16: https://insights.blackcoffer.com/rise-of-telemedicine-and-its-impact-on-livelihood-by-2040-2-2/\n",
            "Processing article 17: blackassign0017 - https://insights.blackcoffer.com/rise-of-chatbots-and-its-impact-on-customer-support-by-the-year-2040/\n"
          ]
        },
        {
          "output_type": "stream",
          "name": "stderr",
          "text": [
            "<ipython-input-15-ed0d1a691144>:107: FutureWarning: The frame.append method is deprecated and will be removed from pandas in a future version. Use pandas.concat instead.\n",
            "  output = output.append({'URL_ID': url_id,\n"
          ]
        },
        {
          "output_type": "stream",
          "name": "stdout",
          "text": [
            "Successfully processed article 17: https://insights.blackcoffer.com/rise-of-chatbots-and-its-impact-on-customer-support-by-the-year-2040/\n",
            "Processing article 18: blackassign0018 - https://insights.blackcoffer.com/rise-of-e-health-and-its-imapct-on-humans-by-the-year-2030/\n"
          ]
        },
        {
          "output_type": "stream",
          "name": "stderr",
          "text": [
            "<ipython-input-15-ed0d1a691144>:107: FutureWarning: The frame.append method is deprecated and will be removed from pandas in a future version. Use pandas.concat instead.\n",
            "  output = output.append({'URL_ID': url_id,\n"
          ]
        },
        {
          "output_type": "stream",
          "name": "stdout",
          "text": [
            "Successfully processed article 18: https://insights.blackcoffer.com/rise-of-e-health-and-its-imapct-on-humans-by-the-year-2030/\n",
            "Processing article 19: blackassign0019 - https://insights.blackcoffer.com/how-does-marketing-influence-businesses-and-consumers/\n"
          ]
        },
        {
          "output_type": "stream",
          "name": "stderr",
          "text": [
            "<ipython-input-15-ed0d1a691144>:107: FutureWarning: The frame.append method is deprecated and will be removed from pandas in a future version. Use pandas.concat instead.\n",
            "  output = output.append({'URL_ID': url_id,\n"
          ]
        },
        {
          "output_type": "stream",
          "name": "stdout",
          "text": [
            "Successfully processed article 19: https://insights.blackcoffer.com/how-does-marketing-influence-businesses-and-consumers/\n",
            "Processing article 20: blackassign0020 - https://insights.blackcoffer.com/how-advertisement-increase-your-market-value/\n"
          ]
        },
        {
          "output_type": "stream",
          "name": "stderr",
          "text": [
            "<ipython-input-15-ed0d1a691144>:107: FutureWarning: The frame.append method is deprecated and will be removed from pandas in a future version. Use pandas.concat instead.\n",
            "  output = output.append({'URL_ID': url_id,\n"
          ]
        },
        {
          "output_type": "stream",
          "name": "stdout",
          "text": [
            "Successfully processed article 20: https://insights.blackcoffer.com/how-advertisement-increase-your-market-value/\n",
            "Processing article 21: blackassign0021 - https://insights.blackcoffer.com/negative-effects-of-marketing-on-society/\n"
          ]
        },
        {
          "output_type": "stream",
          "name": "stderr",
          "text": [
            "<ipython-input-15-ed0d1a691144>:107: FutureWarning: The frame.append method is deprecated and will be removed from pandas in a future version. Use pandas.concat instead.\n",
            "  output = output.append({'URL_ID': url_id,\n"
          ]
        },
        {
          "output_type": "stream",
          "name": "stdout",
          "text": [
            "Successfully processed article 21: https://insights.blackcoffer.com/negative-effects-of-marketing-on-society/\n",
            "Processing article 22: blackassign0022 - https://insights.blackcoffer.com/how-advertisement-marketing-affects-business/\n"
          ]
        },
        {
          "output_type": "stream",
          "name": "stderr",
          "text": [
            "<ipython-input-15-ed0d1a691144>:107: FutureWarning: The frame.append method is deprecated and will be removed from pandas in a future version. Use pandas.concat instead.\n",
            "  output = output.append({'URL_ID': url_id,\n"
          ]
        },
        {
          "output_type": "stream",
          "name": "stdout",
          "text": [
            "Successfully processed article 22: https://insights.blackcoffer.com/how-advertisement-marketing-affects-business/\n",
            "Processing article 23: blackassign0023 - https://insights.blackcoffer.com/rising-it-cities-will-impact-the-economy-environment-infrastructure-and-city-life-by-the-year-2035/\n"
          ]
        },
        {
          "output_type": "stream",
          "name": "stderr",
          "text": [
            "<ipython-input-15-ed0d1a691144>:107: FutureWarning: The frame.append method is deprecated and will be removed from pandas in a future version. Use pandas.concat instead.\n",
            "  output = output.append({'URL_ID': url_id,\n"
          ]
        },
        {
          "output_type": "stream",
          "name": "stdout",
          "text": [
            "Successfully processed article 23: https://insights.blackcoffer.com/rising-it-cities-will-impact-the-economy-environment-infrastructure-and-city-life-by-the-year-2035/\n",
            "Processing article 24: blackassign0024 - https://insights.blackcoffer.com/rise-of-ott-platform-and-its-impact-on-entertainment-industry-by-the-year-2030/\n"
          ]
        },
        {
          "output_type": "stream",
          "name": "stderr",
          "text": [
            "<ipython-input-15-ed0d1a691144>:107: FutureWarning: The frame.append method is deprecated and will be removed from pandas in a future version. Use pandas.concat instead.\n",
            "  output = output.append({'URL_ID': url_id,\n"
          ]
        },
        {
          "output_type": "stream",
          "name": "stdout",
          "text": [
            "Successfully processed article 24: https://insights.blackcoffer.com/rise-of-ott-platform-and-its-impact-on-entertainment-industry-by-the-year-2030/\n",
            "Processing article 25: blackassign0025 - https://insights.blackcoffer.com/rise-of-electric-vehicles-and-its-impact-on-livelihood-by-2040/\n"
          ]
        },
        {
          "output_type": "stream",
          "name": "stderr",
          "text": [
            "<ipython-input-15-ed0d1a691144>:107: FutureWarning: The frame.append method is deprecated and will be removed from pandas in a future version. Use pandas.concat instead.\n",
            "  output = output.append({'URL_ID': url_id,\n"
          ]
        },
        {
          "output_type": "stream",
          "name": "stdout",
          "text": [
            "Successfully processed article 25: https://insights.blackcoffer.com/rise-of-electric-vehicles-and-its-impact-on-livelihood-by-2040/\n",
            "Processing article 26: blackassign0026 - https://insights.blackcoffer.com/rise-of-electric-vehicle-and-its-impact-on-livelihood-by-the-year-2040/\n"
          ]
        },
        {
          "output_type": "stream",
          "name": "stderr",
          "text": [
            "<ipython-input-15-ed0d1a691144>:107: FutureWarning: The frame.append method is deprecated and will be removed from pandas in a future version. Use pandas.concat instead.\n",
            "  output = output.append({'URL_ID': url_id,\n"
          ]
        },
        {
          "output_type": "stream",
          "name": "stdout",
          "text": [
            "Successfully processed article 26: https://insights.blackcoffer.com/rise-of-electric-vehicle-and-its-impact-on-livelihood-by-the-year-2040/\n",
            "Processing article 27: blackassign0027 - https://insights.blackcoffer.com/oil-prices-by-the-year-2040-and-how-it-will-impact-the-world-economy/\n"
          ]
        },
        {
          "output_type": "stream",
          "name": "stderr",
          "text": [
            "<ipython-input-15-ed0d1a691144>:107: FutureWarning: The frame.append method is deprecated and will be removed from pandas in a future version. Use pandas.concat instead.\n",
            "  output = output.append({'URL_ID': url_id,\n"
          ]
        },
        {
          "output_type": "stream",
          "name": "stdout",
          "text": [
            "Successfully processed article 27: https://insights.blackcoffer.com/oil-prices-by-the-year-2040-and-how-it-will-impact-the-world-economy/\n",
            "Processing article 28: blackassign0028 - https://insights.blackcoffer.com/an-outlook-of-healthcare-by-the-year-2040-and-how-it-will-impact-human-lives/\n"
          ]
        },
        {
          "output_type": "stream",
          "name": "stderr",
          "text": [
            "<ipython-input-15-ed0d1a691144>:107: FutureWarning: The frame.append method is deprecated and will be removed from pandas in a future version. Use pandas.concat instead.\n",
            "  output = output.append({'URL_ID': url_id,\n"
          ]
        },
        {
          "output_type": "stream",
          "name": "stdout",
          "text": [
            "Successfully processed article 28: https://insights.blackcoffer.com/an-outlook-of-healthcare-by-the-year-2040-and-how-it-will-impact-human-lives/\n",
            "Processing article 29: blackassign0029 - https://insights.blackcoffer.com/ai-in-healthcare-to-improve-patient-outcomes/\n"
          ]
        },
        {
          "output_type": "stream",
          "name": "stderr",
          "text": [
            "<ipython-input-15-ed0d1a691144>:107: FutureWarning: The frame.append method is deprecated and will be removed from pandas in a future version. Use pandas.concat instead.\n",
            "  output = output.append({'URL_ID': url_id,\n"
          ]
        },
        {
          "output_type": "stream",
          "name": "stdout",
          "text": [
            "Successfully processed article 29: https://insights.blackcoffer.com/ai-in-healthcare-to-improve-patient-outcomes/\n",
            "Processing article 30: blackassign0030 - https://insights.blackcoffer.com/what-if-the-creation-is-taking-over-the-creator/\n"
          ]
        },
        {
          "output_type": "stream",
          "name": "stderr",
          "text": [
            "<ipython-input-15-ed0d1a691144>:107: FutureWarning: The frame.append method is deprecated and will be removed from pandas in a future version. Use pandas.concat instead.\n",
            "  output = output.append({'URL_ID': url_id,\n"
          ]
        },
        {
          "output_type": "stream",
          "name": "stdout",
          "text": [
            "Successfully processed article 30: https://insights.blackcoffer.com/what-if-the-creation-is-taking-over-the-creator/\n",
            "Processing article 31: blackassign0031 - https://insights.blackcoffer.com/what-jobs-will-robots-take-from-humans-in-the-future/\n"
          ]
        },
        {
          "output_type": "stream",
          "name": "stderr",
          "text": [
            "<ipython-input-15-ed0d1a691144>:107: FutureWarning: The frame.append method is deprecated and will be removed from pandas in a future version. Use pandas.concat instead.\n",
            "  output = output.append({'URL_ID': url_id,\n"
          ]
        },
        {
          "output_type": "stream",
          "name": "stdout",
          "text": [
            "Successfully processed article 31: https://insights.blackcoffer.com/what-jobs-will-robots-take-from-humans-in-the-future/\n",
            "Processing article 32: blackassign0032 - https://insights.blackcoffer.com/will-machine-replace-the-human-in-the-future-of-work/\n"
          ]
        },
        {
          "output_type": "stream",
          "name": "stderr",
          "text": [
            "<ipython-input-15-ed0d1a691144>:107: FutureWarning: The frame.append method is deprecated and will be removed from pandas in a future version. Use pandas.concat instead.\n",
            "  output = output.append({'URL_ID': url_id,\n"
          ]
        },
        {
          "output_type": "stream",
          "name": "stdout",
          "text": [
            "Successfully processed article 32: https://insights.blackcoffer.com/will-machine-replace-the-human-in-the-future-of-work/\n",
            "Processing article 33: blackassign0033 - https://insights.blackcoffer.com/will-ai-replace-us-or-work-with-us/\n"
          ]
        },
        {
          "output_type": "stream",
          "name": "stderr",
          "text": [
            "<ipython-input-15-ed0d1a691144>:107: FutureWarning: The frame.append method is deprecated and will be removed from pandas in a future version. Use pandas.concat instead.\n",
            "  output = output.append({'URL_ID': url_id,\n"
          ]
        },
        {
          "output_type": "stream",
          "name": "stdout",
          "text": [
            "Successfully processed article 33: https://insights.blackcoffer.com/will-ai-replace-us-or-work-with-us/\n",
            "Processing article 34: blackassign0034 - https://insights.blackcoffer.com/man-and-machines-together-machines-are-more-diligent-than-humans-blackcoffe/\n"
          ]
        },
        {
          "output_type": "stream",
          "name": "stderr",
          "text": [
            "<ipython-input-15-ed0d1a691144>:107: FutureWarning: The frame.append method is deprecated and will be removed from pandas in a future version. Use pandas.concat instead.\n",
            "  output = output.append({'URL_ID': url_id,\n"
          ]
        },
        {
          "output_type": "stream",
          "name": "stdout",
          "text": [
            "Successfully processed article 34: https://insights.blackcoffer.com/man-and-machines-together-machines-are-more-diligent-than-humans-blackcoffe/\n",
            "Processing article 35: blackassign0035 - https://insights.blackcoffer.com/in-future-or-in-upcoming-years-humans-and-machines-are-going-to-work-together-in-every-field-of-work/\n"
          ]
        },
        {
          "output_type": "stream",
          "name": "stderr",
          "text": [
            "<ipython-input-15-ed0d1a691144>:107: FutureWarning: The frame.append method is deprecated and will be removed from pandas in a future version. Use pandas.concat instead.\n",
            "  output = output.append({'URL_ID': url_id,\n"
          ]
        },
        {
          "output_type": "stream",
          "name": "stdout",
          "text": [
            "Successfully processed article 35: https://insights.blackcoffer.com/in-future-or-in-upcoming-years-humans-and-machines-are-going-to-work-together-in-every-field-of-work/\n",
            "Processing article 36: blackassign0036 - https://insights.blackcoffer.com/how-neural-networks-can-be-applied-in-various-areas-in-the-future/\n",
            "Error occurred while processing article 36: 'NoneType' object has no attribute 'get_text'\n",
            "Processing article 37: blackassign0037 - https://insights.blackcoffer.com/how-machine-learning-will-affect-your-business/\n"
          ]
        },
        {
          "output_type": "stream",
          "name": "stderr",
          "text": [
            "<ipython-input-15-ed0d1a691144>:107: FutureWarning: The frame.append method is deprecated and will be removed from pandas in a future version. Use pandas.concat instead.\n",
            "  output = output.append({'URL_ID': url_id,\n"
          ]
        },
        {
          "output_type": "stream",
          "name": "stdout",
          "text": [
            "Successfully processed article 37: https://insights.blackcoffer.com/how-machine-learning-will-affect-your-business/\n",
            "Processing article 38: blackassign0038 - https://insights.blackcoffer.com/deep-learning-impact-on-areas-of-e-learning/\n"
          ]
        },
        {
          "output_type": "stream",
          "name": "stderr",
          "text": [
            "<ipython-input-15-ed0d1a691144>:107: FutureWarning: The frame.append method is deprecated and will be removed from pandas in a future version. Use pandas.concat instead.\n",
            "  output = output.append({'URL_ID': url_id,\n"
          ]
        },
        {
          "output_type": "stream",
          "name": "stdout",
          "text": [
            "Successfully processed article 38: https://insights.blackcoffer.com/deep-learning-impact-on-areas-of-e-learning/\n",
            "Processing article 39: blackassign0039 - https://insights.blackcoffer.com/how-to-protect-future-data-and-its-privacy-blackcoffer/\n"
          ]
        },
        {
          "output_type": "stream",
          "name": "stderr",
          "text": [
            "<ipython-input-15-ed0d1a691144>:107: FutureWarning: The frame.append method is deprecated and will be removed from pandas in a future version. Use pandas.concat instead.\n",
            "  output = output.append({'URL_ID': url_id,\n"
          ]
        },
        {
          "output_type": "stream",
          "name": "stdout",
          "text": [
            "Successfully processed article 39: https://insights.blackcoffer.com/how-to-protect-future-data-and-its-privacy-blackcoffer/\n",
            "Processing article 40: blackassign0040 - https://insights.blackcoffer.com/how-machines-ai-automations-and-robo-human-are-effective-in-finance-and-banking/\n"
          ]
        },
        {
          "output_type": "stream",
          "name": "stderr",
          "text": [
            "<ipython-input-15-ed0d1a691144>:107: FutureWarning: The frame.append method is deprecated and will be removed from pandas in a future version. Use pandas.concat instead.\n",
            "  output = output.append({'URL_ID': url_id,\n"
          ]
        },
        {
          "output_type": "stream",
          "name": "stdout",
          "text": [
            "Successfully processed article 40: https://insights.blackcoffer.com/how-machines-ai-automations-and-robo-human-are-effective-in-finance-and-banking/\n",
            "Processing article 41: blackassign0041 - https://insights.blackcoffer.com/ai-human-robotics-machine-future-planet-blackcoffer-thinking-jobs-workplace/\n"
          ]
        },
        {
          "output_type": "stream",
          "name": "stderr",
          "text": [
            "<ipython-input-15-ed0d1a691144>:107: FutureWarning: The frame.append method is deprecated and will be removed from pandas in a future version. Use pandas.concat instead.\n",
            "  output = output.append({'URL_ID': url_id,\n"
          ]
        },
        {
          "output_type": "stream",
          "name": "stdout",
          "text": [
            "Successfully processed article 41: https://insights.blackcoffer.com/ai-human-robotics-machine-future-planet-blackcoffer-thinking-jobs-workplace/\n",
            "Processing article 42: blackassign0042 - https://insights.blackcoffer.com/how-ai-will-change-the-world-blackcoffer/\n"
          ]
        },
        {
          "output_type": "stream",
          "name": "stderr",
          "text": [
            "<ipython-input-15-ed0d1a691144>:107: FutureWarning: The frame.append method is deprecated and will be removed from pandas in a future version. Use pandas.concat instead.\n",
            "  output = output.append({'URL_ID': url_id,\n"
          ]
        },
        {
          "output_type": "stream",
          "name": "stdout",
          "text": [
            "Successfully processed article 42: https://insights.blackcoffer.com/how-ai-will-change-the-world-blackcoffer/\n",
            "Processing article 43: blackassign0043 - https://insights.blackcoffer.com/future-of-work-how-ai-has-entered-the-workplace/\n"
          ]
        },
        {
          "output_type": "stream",
          "name": "stderr",
          "text": [
            "<ipython-input-15-ed0d1a691144>:107: FutureWarning: The frame.append method is deprecated and will be removed from pandas in a future version. Use pandas.concat instead.\n",
            "  output = output.append({'URL_ID': url_id,\n"
          ]
        },
        {
          "output_type": "stream",
          "name": "stdout",
          "text": [
            "Successfully processed article 43: https://insights.blackcoffer.com/future-of-work-how-ai-has-entered-the-workplace/\n",
            "Processing article 44: blackassign0044 - https://insights.blackcoffer.com/ai-tool-alexa-google-assistant-finance-banking-tool-future/\n"
          ]
        },
        {
          "output_type": "stream",
          "name": "stderr",
          "text": [
            "<ipython-input-15-ed0d1a691144>:107: FutureWarning: The frame.append method is deprecated and will be removed from pandas in a future version. Use pandas.concat instead.\n",
            "  output = output.append({'URL_ID': url_id,\n"
          ]
        },
        {
          "output_type": "stream",
          "name": "stdout",
          "text": [
            "Successfully processed article 44: https://insights.blackcoffer.com/ai-tool-alexa-google-assistant-finance-banking-tool-future/\n",
            "Processing article 45: blackassign0045 - https://insights.blackcoffer.com/ai-healthcare-revolution-ml-technology-algorithm-google-analytics-industrialrevolution/\n"
          ]
        },
        {
          "output_type": "stream",
          "name": "stderr",
          "text": [
            "<ipython-input-15-ed0d1a691144>:107: FutureWarning: The frame.append method is deprecated and will be removed from pandas in a future version. Use pandas.concat instead.\n",
            "  output = output.append({'URL_ID': url_id,\n"
          ]
        },
        {
          "output_type": "stream",
          "name": "stdout",
          "text": [
            "Successfully processed article 45: https://insights.blackcoffer.com/ai-healthcare-revolution-ml-technology-algorithm-google-analytics-industrialrevolution/\n",
            "Processing article 46: blackassign0046 - https://insights.blackcoffer.com/all-you-need-to-know-about-online-marketing/\n"
          ]
        },
        {
          "output_type": "stream",
          "name": "stderr",
          "text": [
            "<ipython-input-15-ed0d1a691144>:107: FutureWarning: The frame.append method is deprecated and will be removed from pandas in a future version. Use pandas.concat instead.\n",
            "  output = output.append({'URL_ID': url_id,\n"
          ]
        },
        {
          "output_type": "stream",
          "name": "stdout",
          "text": [
            "Successfully processed article 46: https://insights.blackcoffer.com/all-you-need-to-know-about-online-marketing/\n",
            "Processing article 47: blackassign0047 - https://insights.blackcoffer.com/evolution-of-advertising-industry/\n"
          ]
        },
        {
          "output_type": "stream",
          "name": "stderr",
          "text": [
            "<ipython-input-15-ed0d1a691144>:107: FutureWarning: The frame.append method is deprecated and will be removed from pandas in a future version. Use pandas.concat instead.\n",
            "  output = output.append({'URL_ID': url_id,\n"
          ]
        },
        {
          "output_type": "stream",
          "name": "stdout",
          "text": [
            "Successfully processed article 47: https://insights.blackcoffer.com/evolution-of-advertising-industry/\n",
            "Processing article 48: blackassign0048 - https://insights.blackcoffer.com/how-data-analytics-can-help-your-business-respond-to-the-impact-of-covid-19/\n"
          ]
        },
        {
          "output_type": "stream",
          "name": "stderr",
          "text": [
            "<ipython-input-15-ed0d1a691144>:107: FutureWarning: The frame.append method is deprecated and will be removed from pandas in a future version. Use pandas.concat instead.\n",
            "  output = output.append({'URL_ID': url_id,\n"
          ]
        },
        {
          "output_type": "stream",
          "name": "stdout",
          "text": [
            "Successfully processed article 48: https://insights.blackcoffer.com/how-data-analytics-can-help-your-business-respond-to-the-impact-of-covid-19/\n",
            "Processing article 49: blackassign0049 - https://insights.blackcoffer.com/covid-19-environmental-impact-for-the-future/\n",
            "Error occurred while processing article 49: 'NoneType' object has no attribute 'get_text'\n",
            "Processing article 50: blackassign0050 - https://insights.blackcoffer.com/environmental-impact-of-the-covid-19-pandemic-lesson-for-the-future/\n"
          ]
        },
        {
          "output_type": "stream",
          "name": "stderr",
          "text": [
            "<ipython-input-15-ed0d1a691144>:107: FutureWarning: The frame.append method is deprecated and will be removed from pandas in a future version. Use pandas.concat instead.\n",
            "  output = output.append({'URL_ID': url_id,\n"
          ]
        },
        {
          "output_type": "stream",
          "name": "stdout",
          "text": [
            "Successfully processed article 50: https://insights.blackcoffer.com/environmental-impact-of-the-covid-19-pandemic-lesson-for-the-future/\n",
            "Processing article 51: blackassign0051 - https://insights.blackcoffer.com/how-data-analytics-and-ai-are-used-to-halt-the-covid-19-pandemic/\n"
          ]
        },
        {
          "output_type": "stream",
          "name": "stderr",
          "text": [
            "<ipython-input-15-ed0d1a691144>:107: FutureWarning: The frame.append method is deprecated and will be removed from pandas in a future version. Use pandas.concat instead.\n",
            "  output = output.append({'URL_ID': url_id,\n"
          ]
        },
        {
          "output_type": "stream",
          "name": "stdout",
          "text": [
            "Successfully processed article 51: https://insights.blackcoffer.com/how-data-analytics-and-ai-are-used-to-halt-the-covid-19-pandemic/\n",
            "Processing article 52: blackassign0052 - https://insights.blackcoffer.com/difference-between-artificial-intelligence-machine-learning-statistics-and-data-mining/\n"
          ]
        },
        {
          "output_type": "stream",
          "name": "stderr",
          "text": [
            "<ipython-input-15-ed0d1a691144>:107: FutureWarning: The frame.append method is deprecated and will be removed from pandas in a future version. Use pandas.concat instead.\n",
            "  output = output.append({'URL_ID': url_id,\n"
          ]
        },
        {
          "output_type": "stream",
          "name": "stdout",
          "text": [
            "Successfully processed article 52: https://insights.blackcoffer.com/difference-between-artificial-intelligence-machine-learning-statistics-and-data-mining/\n",
            "Processing article 53: blackassign0053 - https://insights.blackcoffer.com/how-python-became-the-first-choice-for-data-science/\n"
          ]
        },
        {
          "output_type": "stream",
          "name": "stderr",
          "text": [
            "<ipython-input-15-ed0d1a691144>:107: FutureWarning: The frame.append method is deprecated and will be removed from pandas in a future version. Use pandas.concat instead.\n",
            "  output = output.append({'URL_ID': url_id,\n"
          ]
        },
        {
          "output_type": "stream",
          "name": "stdout",
          "text": [
            "Successfully processed article 53: https://insights.blackcoffer.com/how-python-became-the-first-choice-for-data-science/\n",
            "Processing article 54: blackassign0054 - https://insights.blackcoffer.com/how-google-fit-measure-heart-and-respiratory-rates-using-a-phone/\n"
          ]
        },
        {
          "output_type": "stream",
          "name": "stderr",
          "text": [
            "<ipython-input-15-ed0d1a691144>:107: FutureWarning: The frame.append method is deprecated and will be removed from pandas in a future version. Use pandas.concat instead.\n",
            "  output = output.append({'URL_ID': url_id,\n"
          ]
        },
        {
          "output_type": "stream",
          "name": "stdout",
          "text": [
            "Successfully processed article 54: https://insights.blackcoffer.com/how-google-fit-measure-heart-and-respiratory-rates-using-a-phone/\n",
            "Processing article 55: blackassign0055 - https://insights.blackcoffer.com/what-is-the-future-of-mobile-apps/\n"
          ]
        },
        {
          "output_type": "stream",
          "name": "stderr",
          "text": [
            "<ipython-input-15-ed0d1a691144>:107: FutureWarning: The frame.append method is deprecated and will be removed from pandas in a future version. Use pandas.concat instead.\n",
            "  output = output.append({'URL_ID': url_id,\n"
          ]
        },
        {
          "output_type": "stream",
          "name": "stdout",
          "text": [
            "Successfully processed article 55: https://insights.blackcoffer.com/what-is-the-future-of-mobile-apps/\n",
            "Processing article 56: blackassign0056 - https://insights.blackcoffer.com/impact-of-ai-in-health-and-medicine/\n"
          ]
        },
        {
          "output_type": "stream",
          "name": "stderr",
          "text": [
            "<ipython-input-15-ed0d1a691144>:107: FutureWarning: The frame.append method is deprecated and will be removed from pandas in a future version. Use pandas.concat instead.\n",
            "  output = output.append({'URL_ID': url_id,\n"
          ]
        },
        {
          "output_type": "stream",
          "name": "stdout",
          "text": [
            "Successfully processed article 56: https://insights.blackcoffer.com/impact-of-ai-in-health-and-medicine/\n",
            "Processing article 57: blackassign0057 - https://insights.blackcoffer.com/telemedicine-what-patients-like-and-dislike-about-it/\n"
          ]
        },
        {
          "output_type": "stream",
          "name": "stderr",
          "text": [
            "<ipython-input-15-ed0d1a691144>:107: FutureWarning: The frame.append method is deprecated and will be removed from pandas in a future version. Use pandas.concat instead.\n",
            "  output = output.append({'URL_ID': url_id,\n"
          ]
        },
        {
          "output_type": "stream",
          "name": "stdout",
          "text": [
            "Successfully processed article 57: https://insights.blackcoffer.com/telemedicine-what-patients-like-and-dislike-about-it/\n",
            "Processing article 58: blackassign0058 - https://insights.blackcoffer.com/how-we-forecast-future-technologies/\n"
          ]
        },
        {
          "output_type": "stream",
          "name": "stderr",
          "text": [
            "<ipython-input-15-ed0d1a691144>:107: FutureWarning: The frame.append method is deprecated and will be removed from pandas in a future version. Use pandas.concat instead.\n",
            "  output = output.append({'URL_ID': url_id,\n"
          ]
        },
        {
          "output_type": "stream",
          "name": "stdout",
          "text": [
            "Successfully processed article 58: https://insights.blackcoffer.com/how-we-forecast-future-technologies/\n",
            "Processing article 59: blackassign0059 - https://insights.blackcoffer.com/can-robots-tackle-late-life-loneliness/\n"
          ]
        },
        {
          "output_type": "stream",
          "name": "stderr",
          "text": [
            "<ipython-input-15-ed0d1a691144>:107: FutureWarning: The frame.append method is deprecated and will be removed from pandas in a future version. Use pandas.concat instead.\n",
            "  output = output.append({'URL_ID': url_id,\n"
          ]
        },
        {
          "output_type": "stream",
          "name": "stdout",
          "text": [
            "Successfully processed article 59: https://insights.blackcoffer.com/can-robots-tackle-late-life-loneliness/\n",
            "Processing article 60: blackassign0060 - https://insights.blackcoffer.com/embedding-care-robots-into-society-socio-technical-considerations/\n"
          ]
        },
        {
          "output_type": "stream",
          "name": "stderr",
          "text": [
            "<ipython-input-15-ed0d1a691144>:107: FutureWarning: The frame.append method is deprecated and will be removed from pandas in a future version. Use pandas.concat instead.\n",
            "  output = output.append({'URL_ID': url_id,\n"
          ]
        },
        {
          "output_type": "stream",
          "name": "stdout",
          "text": [
            "Successfully processed article 60: https://insights.blackcoffer.com/embedding-care-robots-into-society-socio-technical-considerations/\n",
            "Processing article 61: blackassign0061 - https://insights.blackcoffer.com/management-challenges-for-future-digitalization-of-healthcare-services/\n"
          ]
        },
        {
          "output_type": "stream",
          "name": "stderr",
          "text": [
            "<ipython-input-15-ed0d1a691144>:107: FutureWarning: The frame.append method is deprecated and will be removed from pandas in a future version. Use pandas.concat instead.\n",
            "  output = output.append({'URL_ID': url_id,\n"
          ]
        },
        {
          "output_type": "stream",
          "name": "stdout",
          "text": [
            "Successfully processed article 61: https://insights.blackcoffer.com/management-challenges-for-future-digitalization-of-healthcare-services/\n",
            "Processing article 62: blackassign0062 - https://insights.blackcoffer.com/are-we-any-closer-to-preventing-a-nuclear-holocaust/\n"
          ]
        },
        {
          "output_type": "stream",
          "name": "stderr",
          "text": [
            "<ipython-input-15-ed0d1a691144>:107: FutureWarning: The frame.append method is deprecated and will be removed from pandas in a future version. Use pandas.concat instead.\n",
            "  output = output.append({'URL_ID': url_id,\n"
          ]
        },
        {
          "output_type": "stream",
          "name": "stdout",
          "text": [
            "Successfully processed article 62: https://insights.blackcoffer.com/are-we-any-closer-to-preventing-a-nuclear-holocaust/\n",
            "Processing article 63: blackassign0063 - https://insights.blackcoffer.com/will-technology-eliminate-the-need-for-animal-testing-in-drug-development/\n"
          ]
        },
        {
          "output_type": "stream",
          "name": "stderr",
          "text": [
            "<ipython-input-15-ed0d1a691144>:107: FutureWarning: The frame.append method is deprecated and will be removed from pandas in a future version. Use pandas.concat instead.\n",
            "  output = output.append({'URL_ID': url_id,\n"
          ]
        },
        {
          "output_type": "stream",
          "name": "stdout",
          "text": [
            "Successfully processed article 63: https://insights.blackcoffer.com/will-technology-eliminate-the-need-for-animal-testing-in-drug-development/\n",
            "Processing article 64: blackassign0064 - https://insights.blackcoffer.com/will-we-ever-understand-the-nature-of-consciousness/\n"
          ]
        },
        {
          "output_type": "stream",
          "name": "stderr",
          "text": [
            "<ipython-input-15-ed0d1a691144>:107: FutureWarning: The frame.append method is deprecated and will be removed from pandas in a future version. Use pandas.concat instead.\n",
            "  output = output.append({'URL_ID': url_id,\n"
          ]
        },
        {
          "output_type": "stream",
          "name": "stdout",
          "text": [
            "Successfully processed article 64: https://insights.blackcoffer.com/will-we-ever-understand-the-nature-of-consciousness/\n",
            "Processing article 65: blackassign0065 - https://insights.blackcoffer.com/will-we-ever-colonize-outer-space/\n"
          ]
        },
        {
          "output_type": "stream",
          "name": "stderr",
          "text": [
            "<ipython-input-15-ed0d1a691144>:107: FutureWarning: The frame.append method is deprecated and will be removed from pandas in a future version. Use pandas.concat instead.\n",
            "  output = output.append({'URL_ID': url_id,\n"
          ]
        },
        {
          "output_type": "stream",
          "name": "stdout",
          "text": [
            "Successfully processed article 65: https://insights.blackcoffer.com/will-we-ever-colonize-outer-space/\n",
            "Processing article 66: blackassign0066 - https://insights.blackcoffer.com/what-is-the-chance-homo-sapiens-will-survive-for-the-next-500-years/\n"
          ]
        },
        {
          "output_type": "stream",
          "name": "stderr",
          "text": [
            "<ipython-input-15-ed0d1a691144>:107: FutureWarning: The frame.append method is deprecated and will be removed from pandas in a future version. Use pandas.concat instead.\n",
            "  output = output.append({'URL_ID': url_id,\n"
          ]
        },
        {
          "output_type": "stream",
          "name": "stdout",
          "text": [
            "Successfully processed article 66: https://insights.blackcoffer.com/what-is-the-chance-homo-sapiens-will-survive-for-the-next-500-years/\n",
            "Processing article 67: blackassign0067 - https://insights.blackcoffer.com/why-does-your-business-need-a-chatbot/\n"
          ]
        },
        {
          "output_type": "stream",
          "name": "stderr",
          "text": [
            "<ipython-input-15-ed0d1a691144>:107: FutureWarning: The frame.append method is deprecated and will be removed from pandas in a future version. Use pandas.concat instead.\n",
            "  output = output.append({'URL_ID': url_id,\n"
          ]
        },
        {
          "output_type": "stream",
          "name": "stdout",
          "text": [
            "Successfully processed article 67: https://insights.blackcoffer.com/why-does-your-business-need-a-chatbot/\n",
            "Processing article 68: blackassign0068 - https://insights.blackcoffer.com/how-you-lead-a-project-or-a-team-without-any-technical-expertise/\n"
          ]
        },
        {
          "output_type": "stream",
          "name": "stderr",
          "text": [
            "<ipython-input-15-ed0d1a691144>:107: FutureWarning: The frame.append method is deprecated and will be removed from pandas in a future version. Use pandas.concat instead.\n",
            "  output = output.append({'URL_ID': url_id,\n"
          ]
        },
        {
          "output_type": "stream",
          "name": "stdout",
          "text": [
            "Successfully processed article 68: https://insights.blackcoffer.com/how-you-lead-a-project-or-a-team-without-any-technical-expertise/\n",
            "Processing article 69: blackassign0069 - https://insights.blackcoffer.com/can-you-be-great-leader-without-technical-expertise/\n"
          ]
        },
        {
          "output_type": "stream",
          "name": "stderr",
          "text": [
            "<ipython-input-15-ed0d1a691144>:107: FutureWarning: The frame.append method is deprecated and will be removed from pandas in a future version. Use pandas.concat instead.\n",
            "  output = output.append({'URL_ID': url_id,\n"
          ]
        },
        {
          "output_type": "stream",
          "name": "stdout",
          "text": [
            "Successfully processed article 69: https://insights.blackcoffer.com/can-you-be-great-leader-without-technical-expertise/\n",
            "Processing article 70: blackassign0070 - https://insights.blackcoffer.com/how-does-artificial-intelligence-affect-the-environment/\n"
          ]
        },
        {
          "output_type": "stream",
          "name": "stderr",
          "text": [
            "<ipython-input-15-ed0d1a691144>:107: FutureWarning: The frame.append method is deprecated and will be removed from pandas in a future version. Use pandas.concat instead.\n",
            "  output = output.append({'URL_ID': url_id,\n"
          ]
        },
        {
          "output_type": "stream",
          "name": "stdout",
          "text": [
            "Successfully processed article 70: https://insights.blackcoffer.com/how-does-artificial-intelligence-affect-the-environment/\n",
            "Processing article 71: blackassign0071 - https://insights.blackcoffer.com/how-to-overcome-your-fear-of-making-mistakes-2/\n"
          ]
        },
        {
          "output_type": "stream",
          "name": "stderr",
          "text": [
            "<ipython-input-15-ed0d1a691144>:107: FutureWarning: The frame.append method is deprecated and will be removed from pandas in a future version. Use pandas.concat instead.\n",
            "  output = output.append({'URL_ID': url_id,\n"
          ]
        },
        {
          "output_type": "stream",
          "name": "stdout",
          "text": [
            "Successfully processed article 71: https://insights.blackcoffer.com/how-to-overcome-your-fear-of-making-mistakes-2/\n",
            "Processing article 72: blackassign0072 - https://insights.blackcoffer.com/is-perfection-the-greatest-enemy-of-productivity/\n"
          ]
        },
        {
          "output_type": "stream",
          "name": "stderr",
          "text": [
            "<ipython-input-15-ed0d1a691144>:107: FutureWarning: The frame.append method is deprecated and will be removed from pandas in a future version. Use pandas.concat instead.\n",
            "  output = output.append({'URL_ID': url_id,\n"
          ]
        },
        {
          "output_type": "stream",
          "name": "stdout",
          "text": [
            "Successfully processed article 72: https://insights.blackcoffer.com/is-perfection-the-greatest-enemy-of-productivity/\n",
            "Processing article 73: blackassign0073 - https://insights.blackcoffer.com/global-financial-crisis-2008-causes-effects-and-its-solution/\n"
          ]
        },
        {
          "output_type": "stream",
          "name": "stderr",
          "text": [
            "<ipython-input-15-ed0d1a691144>:107: FutureWarning: The frame.append method is deprecated and will be removed from pandas in a future version. Use pandas.concat instead.\n",
            "  output = output.append({'URL_ID': url_id,\n"
          ]
        },
        {
          "output_type": "stream",
          "name": "stdout",
          "text": [
            "Successfully processed article 73: https://insights.blackcoffer.com/global-financial-crisis-2008-causes-effects-and-its-solution/\n",
            "Processing article 74: blackassign0074 - https://insights.blackcoffer.com/gender-diversity-and-equality-in-the-tech-industry/\n"
          ]
        },
        {
          "output_type": "stream",
          "name": "stderr",
          "text": [
            "<ipython-input-15-ed0d1a691144>:107: FutureWarning: The frame.append method is deprecated and will be removed from pandas in a future version. Use pandas.concat instead.\n",
            "  output = output.append({'URL_ID': url_id,\n"
          ]
        },
        {
          "output_type": "stream",
          "name": "stdout",
          "text": [
            "Successfully processed article 74: https://insights.blackcoffer.com/gender-diversity-and-equality-in-the-tech-industry/\n",
            "Processing article 75: blackassign0075 - https://insights.blackcoffer.com/how-to-overcome-your-fear-of-making-mistakes/\n"
          ]
        },
        {
          "output_type": "stream",
          "name": "stderr",
          "text": [
            "<ipython-input-15-ed0d1a691144>:107: FutureWarning: The frame.append method is deprecated and will be removed from pandas in a future version. Use pandas.concat instead.\n",
            "  output = output.append({'URL_ID': url_id,\n"
          ]
        },
        {
          "output_type": "stream",
          "name": "stdout",
          "text": [
            "Successfully processed article 75: https://insights.blackcoffer.com/how-to-overcome-your-fear-of-making-mistakes/\n",
            "Processing article 76: blackassign0076 - https://insights.blackcoffer.com/how-small-business-can-survive-the-coronavirus-crisis/\n"
          ]
        },
        {
          "output_type": "stream",
          "name": "stderr",
          "text": [
            "<ipython-input-15-ed0d1a691144>:107: FutureWarning: The frame.append method is deprecated and will be removed from pandas in a future version. Use pandas.concat instead.\n",
            "  output = output.append({'URL_ID': url_id,\n"
          ]
        },
        {
          "output_type": "stream",
          "name": "stdout",
          "text": [
            "Successfully processed article 76: https://insights.blackcoffer.com/how-small-business-can-survive-the-coronavirus-crisis/\n",
            "Processing article 77: blackassign0077 - https://insights.blackcoffer.com/impacts-of-covid-19-on-vegetable-vendors-and-food-stalls/\n"
          ]
        },
        {
          "output_type": "stream",
          "name": "stderr",
          "text": [
            "<ipython-input-15-ed0d1a691144>:107: FutureWarning: The frame.append method is deprecated and will be removed from pandas in a future version. Use pandas.concat instead.\n",
            "  output = output.append({'URL_ID': url_id,\n"
          ]
        },
        {
          "output_type": "stream",
          "name": "stdout",
          "text": [
            "Successfully processed article 77: https://insights.blackcoffer.com/impacts-of-covid-19-on-vegetable-vendors-and-food-stalls/\n",
            "Processing article 78: blackassign0078 - https://insights.blackcoffer.com/impacts-of-covid-19-on-vegetable-vendors/\n"
          ]
        },
        {
          "output_type": "stream",
          "name": "stderr",
          "text": [
            "<ipython-input-15-ed0d1a691144>:107: FutureWarning: The frame.append method is deprecated and will be removed from pandas in a future version. Use pandas.concat instead.\n",
            "  output = output.append({'URL_ID': url_id,\n"
          ]
        },
        {
          "output_type": "stream",
          "name": "stdout",
          "text": [
            "Successfully processed article 78: https://insights.blackcoffer.com/impacts-of-covid-19-on-vegetable-vendors/\n",
            "Processing article 79: blackassign0079 - https://insights.blackcoffer.com/impact-of-covid-19-pandemic-on-tourism-aviation-industries/\n"
          ]
        },
        {
          "output_type": "stream",
          "name": "stderr",
          "text": [
            "<ipython-input-15-ed0d1a691144>:107: FutureWarning: The frame.append method is deprecated and will be removed from pandas in a future version. Use pandas.concat instead.\n",
            "  output = output.append({'URL_ID': url_id,\n"
          ]
        },
        {
          "output_type": "stream",
          "name": "stdout",
          "text": [
            "Successfully processed article 79: https://insights.blackcoffer.com/impact-of-covid-19-pandemic-on-tourism-aviation-industries/\n",
            "Processing article 80: blackassign0080 - https://insights.blackcoffer.com/impact-of-covid-19-pandemic-on-sports-events-around-the-world/\n"
          ]
        },
        {
          "output_type": "stream",
          "name": "stderr",
          "text": [
            "<ipython-input-15-ed0d1a691144>:107: FutureWarning: The frame.append method is deprecated and will be removed from pandas in a future version. Use pandas.concat instead.\n",
            "  output = output.append({'URL_ID': url_id,\n"
          ]
        },
        {
          "output_type": "stream",
          "name": "stdout",
          "text": [
            "Successfully processed article 80: https://insights.blackcoffer.com/impact-of-covid-19-pandemic-on-sports-events-around-the-world/\n",
            "Processing article 81: blackassign0081 - https://insights.blackcoffer.com/changing-landscape-and-emerging-trends-in-the-indian-it-ites-industry/\n"
          ]
        },
        {
          "output_type": "stream",
          "name": "stderr",
          "text": [
            "<ipython-input-15-ed0d1a691144>:107: FutureWarning: The frame.append method is deprecated and will be removed from pandas in a future version. Use pandas.concat instead.\n",
            "  output = output.append({'URL_ID': url_id,\n"
          ]
        },
        {
          "output_type": "stream",
          "name": "stdout",
          "text": [
            "Successfully processed article 81: https://insights.blackcoffer.com/changing-landscape-and-emerging-trends-in-the-indian-it-ites-industry/\n",
            "Processing article 82: blackassign0082 - https://insights.blackcoffer.com/online-gaming-adolescent-online-gaming-effects-demotivated-depression-musculoskeletal-and-psychosomatic-symptoms/\n"
          ]
        },
        {
          "output_type": "stream",
          "name": "stderr",
          "text": [
            "<ipython-input-15-ed0d1a691144>:107: FutureWarning: The frame.append method is deprecated and will be removed from pandas in a future version. Use pandas.concat instead.\n",
            "  output = output.append({'URL_ID': url_id,\n"
          ]
        },
        {
          "output_type": "stream",
          "name": "stdout",
          "text": [
            "Successfully processed article 82: https://insights.blackcoffer.com/online-gaming-adolescent-online-gaming-effects-demotivated-depression-musculoskeletal-and-psychosomatic-symptoms/\n",
            "Processing article 83: blackassign0083 - https://insights.blackcoffer.com/human-rights-outlook/\n"
          ]
        },
        {
          "output_type": "stream",
          "name": "stderr",
          "text": [
            "<ipython-input-15-ed0d1a691144>:107: FutureWarning: The frame.append method is deprecated and will be removed from pandas in a future version. Use pandas.concat instead.\n",
            "  output = output.append({'URL_ID': url_id,\n"
          ]
        },
        {
          "output_type": "stream",
          "name": "stdout",
          "text": [
            "Successfully processed article 83: https://insights.blackcoffer.com/human-rights-outlook/\n",
            "Processing article 84: blackassign0084 - https://insights.blackcoffer.com/how-voice-search-makes-your-business-a-successful-business/\n"
          ]
        },
        {
          "output_type": "stream",
          "name": "stderr",
          "text": [
            "<ipython-input-15-ed0d1a691144>:107: FutureWarning: The frame.append method is deprecated and will be removed from pandas in a future version. Use pandas.concat instead.\n",
            "  output = output.append({'URL_ID': url_id,\n"
          ]
        },
        {
          "output_type": "stream",
          "name": "stdout",
          "text": [
            "Successfully processed article 84: https://insights.blackcoffer.com/how-voice-search-makes-your-business-a-successful-business/\n",
            "Processing article 85: blackassign0085 - https://insights.blackcoffer.com/how-the-covid-19-crisis-is-redefining-jobs-and-services/\n"
          ]
        },
        {
          "output_type": "stream",
          "name": "stderr",
          "text": [
            "<ipython-input-15-ed0d1a691144>:107: FutureWarning: The frame.append method is deprecated and will be removed from pandas in a future version. Use pandas.concat instead.\n",
            "  output = output.append({'URL_ID': url_id,\n"
          ]
        },
        {
          "output_type": "stream",
          "name": "stdout",
          "text": [
            "Successfully processed article 85: https://insights.blackcoffer.com/how-the-covid-19-crisis-is-redefining-jobs-and-services/\n",
            "Processing article 86: blackassign0086 - https://insights.blackcoffer.com/how-to-increase-social-media-engagement-for-marketers/\n"
          ]
        },
        {
          "output_type": "stream",
          "name": "stderr",
          "text": [
            "<ipython-input-15-ed0d1a691144>:107: FutureWarning: The frame.append method is deprecated and will be removed from pandas in a future version. Use pandas.concat instead.\n",
            "  output = output.append({'URL_ID': url_id,\n"
          ]
        },
        {
          "output_type": "stream",
          "name": "stdout",
          "text": [
            "Successfully processed article 86: https://insights.blackcoffer.com/how-to-increase-social-media-engagement-for-marketers/\n",
            "Processing article 87: blackassign0087 - https://insights.blackcoffer.com/impacts-of-covid-19-on-streets-sides-food-stalls/\n"
          ]
        },
        {
          "output_type": "stream",
          "name": "stderr",
          "text": [
            "<ipython-input-15-ed0d1a691144>:107: FutureWarning: The frame.append method is deprecated and will be removed from pandas in a future version. Use pandas.concat instead.\n",
            "  output = output.append({'URL_ID': url_id,\n"
          ]
        },
        {
          "output_type": "stream",
          "name": "stdout",
          "text": [
            "Successfully processed article 87: https://insights.blackcoffer.com/impacts-of-covid-19-on-streets-sides-food-stalls/\n",
            "Processing article 88: blackassign0088 - https://insights.blackcoffer.com/coronavirus-impact-on-energy-markets-2/\n"
          ]
        },
        {
          "output_type": "stream",
          "name": "stderr",
          "text": [
            "<ipython-input-15-ed0d1a691144>:107: FutureWarning: The frame.append method is deprecated and will be removed from pandas in a future version. Use pandas.concat instead.\n",
            "  output = output.append({'URL_ID': url_id,\n"
          ]
        },
        {
          "output_type": "stream",
          "name": "stdout",
          "text": [
            "Successfully processed article 88: https://insights.blackcoffer.com/coronavirus-impact-on-energy-markets-2/\n",
            "Processing article 89: blackassign0089 - https://insights.blackcoffer.com/coronavirus-impact-on-the-hospitality-industry-5/\n"
          ]
        },
        {
          "output_type": "stream",
          "name": "stderr",
          "text": [
            "<ipython-input-15-ed0d1a691144>:107: FutureWarning: The frame.append method is deprecated and will be removed from pandas in a future version. Use pandas.concat instead.\n",
            "  output = output.append({'URL_ID': url_id,\n"
          ]
        },
        {
          "output_type": "stream",
          "name": "stdout",
          "text": [
            "Successfully processed article 89: https://insights.blackcoffer.com/coronavirus-impact-on-the-hospitality-industry-5/\n",
            "Processing article 90: blackassign0090 - https://insights.blackcoffer.com/lessons-from-the-past-some-key-learnings-relevant-to-the-coronavirus-crisis-4/\n"
          ]
        },
        {
          "output_type": "stream",
          "name": "stderr",
          "text": [
            "<ipython-input-15-ed0d1a691144>:107: FutureWarning: The frame.append method is deprecated and will be removed from pandas in a future version. Use pandas.concat instead.\n",
            "  output = output.append({'URL_ID': url_id,\n"
          ]
        },
        {
          "output_type": "stream",
          "name": "stdout",
          "text": [
            "Successfully processed article 90: https://insights.blackcoffer.com/lessons-from-the-past-some-key-learnings-relevant-to-the-coronavirus-crisis-4/\n",
            "Processing article 91: blackassign0091 - https://insights.blackcoffer.com/estimating-the-impact-of-covid-19-on-the-world-of-work-2/\n"
          ]
        },
        {
          "output_type": "stream",
          "name": "stderr",
          "text": [
            "<ipython-input-15-ed0d1a691144>:107: FutureWarning: The frame.append method is deprecated and will be removed from pandas in a future version. Use pandas.concat instead.\n",
            "  output = output.append({'URL_ID': url_id,\n"
          ]
        },
        {
          "output_type": "stream",
          "name": "stdout",
          "text": [
            "Successfully processed article 91: https://insights.blackcoffer.com/estimating-the-impact-of-covid-19-on-the-world-of-work-2/\n",
            "Processing article 92: blackassign0092 - https://insights.blackcoffer.com/estimating-the-impact-of-covid-19-on-the-world-of-work-3/\n"
          ]
        },
        {
          "output_type": "stream",
          "name": "stderr",
          "text": [
            "<ipython-input-15-ed0d1a691144>:107: FutureWarning: The frame.append method is deprecated and will be removed from pandas in a future version. Use pandas.concat instead.\n",
            "  output = output.append({'URL_ID': url_id,\n"
          ]
        },
        {
          "output_type": "stream",
          "name": "stdout",
          "text": [
            "Successfully processed article 92: https://insights.blackcoffer.com/estimating-the-impact-of-covid-19-on-the-world-of-work-3/\n",
            "Processing article 93: blackassign0093 - https://insights.blackcoffer.com/travel-and-tourism-outlook/\n"
          ]
        },
        {
          "output_type": "stream",
          "name": "stderr",
          "text": [
            "<ipython-input-15-ed0d1a691144>:107: FutureWarning: The frame.append method is deprecated and will be removed from pandas in a future version. Use pandas.concat instead.\n",
            "  output = output.append({'URL_ID': url_id,\n"
          ]
        },
        {
          "output_type": "stream",
          "name": "stdout",
          "text": [
            "Successfully processed article 93: https://insights.blackcoffer.com/travel-and-tourism-outlook/\n",
            "Processing article 94: blackassign0094 - https://insights.blackcoffer.com/gaming-disorder-and-effects-of-gaming-on-health/\n"
          ]
        },
        {
          "output_type": "stream",
          "name": "stderr",
          "text": [
            "<ipython-input-15-ed0d1a691144>:107: FutureWarning: The frame.append method is deprecated and will be removed from pandas in a future version. Use pandas.concat instead.\n",
            "  output = output.append({'URL_ID': url_id,\n"
          ]
        },
        {
          "output_type": "stream",
          "name": "stdout",
          "text": [
            "Successfully processed article 94: https://insights.blackcoffer.com/gaming-disorder-and-effects-of-gaming-on-health/\n",
            "Processing article 95: blackassign0095 - https://insights.blackcoffer.com/what-is-the-repercussion-of-the-environment-due-to-the-covid-19-pandemic-situation/\n"
          ]
        },
        {
          "output_type": "stream",
          "name": "stderr",
          "text": [
            "<ipython-input-15-ed0d1a691144>:107: FutureWarning: The frame.append method is deprecated and will be removed from pandas in a future version. Use pandas.concat instead.\n",
            "  output = output.append({'URL_ID': url_id,\n"
          ]
        },
        {
          "output_type": "stream",
          "name": "stdout",
          "text": [
            "Successfully processed article 95: https://insights.blackcoffer.com/what-is-the-repercussion-of-the-environment-due-to-the-covid-19-pandemic-situation/\n",
            "Processing article 96: blackassign0096 - https://insights.blackcoffer.com/what-is-the-repercussion-of-the-environment-due-to-the-covid-19-pandemic-situation-2/\n"
          ]
        },
        {
          "output_type": "stream",
          "name": "stderr",
          "text": [
            "<ipython-input-15-ed0d1a691144>:107: FutureWarning: The frame.append method is deprecated and will be removed from pandas in a future version. Use pandas.concat instead.\n",
            "  output = output.append({'URL_ID': url_id,\n"
          ]
        },
        {
          "output_type": "stream",
          "name": "stdout",
          "text": [
            "Successfully processed article 96: https://insights.blackcoffer.com/what-is-the-repercussion-of-the-environment-due-to-the-covid-19-pandemic-situation-2/\n",
            "Processing article 97: blackassign0097 - https://insights.blackcoffer.com/impact-of-covid-19-pandemic-on-office-space-and-co-working-industries/\n"
          ]
        },
        {
          "output_type": "stream",
          "name": "stderr",
          "text": [
            "<ipython-input-15-ed0d1a691144>:107: FutureWarning: The frame.append method is deprecated and will be removed from pandas in a future version. Use pandas.concat instead.\n",
            "  output = output.append({'URL_ID': url_id,\n"
          ]
        },
        {
          "output_type": "stream",
          "name": "stdout",
          "text": [
            "Successfully processed article 97: https://insights.blackcoffer.com/impact-of-covid-19-pandemic-on-office-space-and-co-working-industries/\n",
            "Processing article 98: blackassign0098 - https://insights.blackcoffer.com/contribution-of-handicrafts-visual-arts-literature-in-the-indian-economy/\n"
          ]
        },
        {
          "output_type": "stream",
          "name": "stderr",
          "text": [
            "<ipython-input-15-ed0d1a691144>:107: FutureWarning: The frame.append method is deprecated and will be removed from pandas in a future version. Use pandas.concat instead.\n",
            "  output = output.append({'URL_ID': url_id,\n"
          ]
        },
        {
          "output_type": "stream",
          "name": "stdout",
          "text": [
            "Successfully processed article 98: https://insights.blackcoffer.com/contribution-of-handicrafts-visual-arts-literature-in-the-indian-economy/\n",
            "Processing article 99: blackassign0099 - https://insights.blackcoffer.com/how-covid-19-is-impacting-payment-preferences/\n"
          ]
        },
        {
          "output_type": "stream",
          "name": "stderr",
          "text": [
            "<ipython-input-15-ed0d1a691144>:107: FutureWarning: The frame.append method is deprecated and will be removed from pandas in a future version. Use pandas.concat instead.\n",
            "  output = output.append({'URL_ID': url_id,\n"
          ]
        },
        {
          "output_type": "stream",
          "name": "stdout",
          "text": [
            "Successfully processed article 99: https://insights.blackcoffer.com/how-covid-19-is-impacting-payment-preferences/\n",
            "Processing article 100: blackassign0100 - https://insights.blackcoffer.com/how-will-covid-19-affect-the-world-of-work-2/\n"
          ]
        },
        {
          "output_type": "stream",
          "name": "stderr",
          "text": [
            "<ipython-input-15-ed0d1a691144>:107: FutureWarning: The frame.append method is deprecated and will be removed from pandas in a future version. Use pandas.concat instead.\n",
            "  output = output.append({'URL_ID': url_id,\n"
          ]
        },
        {
          "output_type": "stream",
          "name": "stdout",
          "text": [
            "Successfully processed article 100: https://insights.blackcoffer.com/how-will-covid-19-affect-the-world-of-work-2/\n",
            "Processing article 101: nan - nan\n",
            "Error occurred while processing article 101: Invalid URL 'nan': No scheme supplied. Perhaps you meant https://nan?\n",
            "Processing article 102: nan - nan\n",
            "Error occurred while processing article 102: Invalid URL 'nan': No scheme supplied. Perhaps you meant https://nan?\n",
            "Processing article 103: nan - nan\n",
            "Error occurred while processing article 103: Invalid URL 'nan': No scheme supplied. Perhaps you meant https://nan?\n",
            "Processing article 104: nan - nan\n",
            "Error occurred while processing article 104: Invalid URL 'nan': No scheme supplied. Perhaps you meant https://nan?\n",
            "Processing article 105: nan - nan\n",
            "Error occurred while processing article 105: Invalid URL 'nan': No scheme supplied. Perhaps you meant https://nan?\n",
            "Processing article 106: nan - nan\n",
            "Error occurred while processing article 106: Invalid URL 'nan': No scheme supplied. Perhaps you meant https://nan?\n",
            "Processing article 107: nan - nan\n",
            "Error occurred while processing article 107: Invalid URL 'nan': No scheme supplied. Perhaps you meant https://nan?\n",
            "Processing article 108: nan - nan\n",
            "Error occurred while processing article 108: Invalid URL 'nan': No scheme supplied. Perhaps you meant https://nan?\n",
            "Processing article 109: nan - nan\n",
            "Error occurred while processing article 109: Invalid URL 'nan': No scheme supplied. Perhaps you meant https://nan?\n",
            "Processing article 110: nan - nan\n",
            "Error occurred while processing article 110: Invalid URL 'nan': No scheme supplied. Perhaps you meant https://nan?\n",
            "Processing article 111: nan - nan\n",
            "Error occurred while processing article 111: Invalid URL 'nan': No scheme supplied. Perhaps you meant https://nan?\n",
            "Processing article 112: nan - nan\n",
            "Error occurred while processing article 112: Invalid URL 'nan': No scheme supplied. Perhaps you meant https://nan?\n",
            "Processing article 113: nan - nan\n",
            "Error occurred while processing article 113: Invalid URL 'nan': No scheme supplied. Perhaps you meant https://nan?\n",
            "Processing article 114: nan - nan\n",
            "Error occurred while processing article 114: Invalid URL 'nan': No scheme supplied. Perhaps you meant https://nan?\n",
            "Processing article 115: nan - nan\n",
            "Error occurred while processing article 115: Invalid URL 'nan': No scheme supplied. Perhaps you meant https://nan?\n",
            "Processing article 116: nan - nan\n",
            "Error occurred while processing article 116: Invalid URL 'nan': No scheme supplied. Perhaps you meant https://nan?\n",
            "Processing article 117: nan - nan\n",
            "Error occurred while processing article 117: Invalid URL 'nan': No scheme supplied. Perhaps you meant https://nan?\n",
            "Processing article 118: nan - nan\n",
            "Error occurred while processing article 118: Invalid URL 'nan': No scheme supplied. Perhaps you meant https://nan?\n",
            "Processing article 119: nan - nan\n",
            "Error occurred while processing article 119: Invalid URL 'nan': No scheme supplied. Perhaps you meant https://nan?\n",
            "Processing article 120: nan - nan\n",
            "Error occurred while processing article 120: Invalid URL 'nan': No scheme supplied. Perhaps you meant https://nan?\n",
            "Processing article 121: nan - nan\n",
            "Error occurred while processing article 121: Invalid URL 'nan': No scheme supplied. Perhaps you meant https://nan?\n",
            "Processing article 122: nan - nan\n",
            "Error occurred while processing article 122: Invalid URL 'nan': No scheme supplied. Perhaps you meant https://nan?\n",
            "Processing article 123: nan - nan\n",
            "Error occurred while processing article 123: Invalid URL 'nan': No scheme supplied. Perhaps you meant https://nan?\n",
            "Processing article 124: nan - nan\n",
            "Error occurred while processing article 124: Invalid URL 'nan': No scheme supplied. Perhaps you meant https://nan?\n",
            "Processing article 125: nan - nan\n",
            "Error occurred while processing article 125: Invalid URL 'nan': No scheme supplied. Perhaps you meant https://nan?\n",
            "Processing article 126: nan - nan\n",
            "Error occurred while processing article 126: Invalid URL 'nan': No scheme supplied. Perhaps you meant https://nan?\n",
            "Processing article 127: nan - nan\n",
            "Error occurred while processing article 127: Invalid URL 'nan': No scheme supplied. Perhaps you meant https://nan?\n",
            "Processing article 128: nan - nan\n",
            "Error occurred while processing article 128: Invalid URL 'nan': No scheme supplied. Perhaps you meant https://nan?\n",
            "Processing article 129: nan - nan\n",
            "Error occurred while processing article 129: Invalid URL 'nan': No scheme supplied. Perhaps you meant https://nan?\n",
            "Processing article 130: nan - nan\n",
            "Error occurred while processing article 130: Invalid URL 'nan': No scheme supplied. Perhaps you meant https://nan?\n",
            "Processing article 131: nan - nan\n",
            "Error occurred while processing article 131: Invalid URL 'nan': No scheme supplied. Perhaps you meant https://nan?\n",
            "Processing article 132: nan - nan\n",
            "Error occurred while processing article 132: Invalid URL 'nan': No scheme supplied. Perhaps you meant https://nan?\n",
            "Processing article 133: nan - nan\n",
            "Error occurred while processing article 133: Invalid URL 'nan': No scheme supplied. Perhaps you meant https://nan?\n",
            "Processing article 134: nan - nan\n",
            "Error occurred while processing article 134: Invalid URL 'nan': No scheme supplied. Perhaps you meant https://nan?\n",
            "Processing article 135: nan - nan\n",
            "Error occurred while processing article 135: Invalid URL 'nan': No scheme supplied. Perhaps you meant https://nan?\n",
            "Processing article 136: nan - nan\n",
            "Error occurred while processing article 136: Invalid URL 'nan': No scheme supplied. Perhaps you meant https://nan?\n",
            "Processing article 137: nan - nan\n",
            "Error occurred while processing article 137: Invalid URL 'nan': No scheme supplied. Perhaps you meant https://nan?\n",
            "Processing article 138: nan - nan\n",
            "Error occurred while processing article 138: Invalid URL 'nan': No scheme supplied. Perhaps you meant https://nan?\n",
            "Processing article 139: nan - nan\n",
            "Error occurred while processing article 139: Invalid URL 'nan': No scheme supplied. Perhaps you meant https://nan?\n",
            "Processing article 140: nan - nan\n",
            "Error occurred while processing article 140: Invalid URL 'nan': No scheme supplied. Perhaps you meant https://nan?\n",
            "Processing article 141: nan - nan\n",
            "Error occurred while processing article 141: Invalid URL 'nan': No scheme supplied. Perhaps you meant https://nan?\n",
            "Processing article 142: nan - nan\n",
            "Error occurred while processing article 142: Invalid URL 'nan': No scheme supplied. Perhaps you meant https://nan?\n",
            "Processing article 143: nan - nan\n",
            "Error occurred while processing article 143: Invalid URL 'nan': No scheme supplied. Perhaps you meant https://nan?\n",
            "Processing article 144: nan - nan\n",
            "Error occurred while processing article 144: Invalid URL 'nan': No scheme supplied. Perhaps you meant https://nan?\n",
            "Processing article 145: nan - nan\n",
            "Error occurred while processing article 145: Invalid URL 'nan': No scheme supplied. Perhaps you meant https://nan?\n",
            "Processing article 146: nan - nan\n",
            "Error occurred while processing article 146: Invalid URL 'nan': No scheme supplied. Perhaps you meant https://nan?\n",
            "Processing article 147: nan - nan\n",
            "Error occurred while processing article 147: Invalid URL 'nan': No scheme supplied. Perhaps you meant https://nan?\n",
            "Processing article 148: nan - nan\n",
            "Error occurred while processing article 148: Invalid URL 'nan': No scheme supplied. Perhaps you meant https://nan?\n",
            "Processing article 149: nan - nan\n",
            "Error occurred while processing article 149: Invalid URL 'nan': No scheme supplied. Perhaps you meant https://nan?\n",
            "Processing article 150: nan - nan\n",
            "Error occurred while processing article 150: Invalid URL 'nan': No scheme supplied. Perhaps you meant https://nan?\n",
            "Processing article 151: nan - nan\n",
            "Error occurred while processing article 151: Invalid URL 'nan': No scheme supplied. Perhaps you meant https://nan?\n",
            "Processing article 152: nan - nan\n",
            "Error occurred while processing article 152: Invalid URL 'nan': No scheme supplied. Perhaps you meant https://nan?\n",
            "Processing article 153: nan - nan\n",
            "Error occurred while processing article 153: Invalid URL 'nan': No scheme supplied. Perhaps you meant https://nan?\n",
            "Processing article 154: nan - nan\n",
            "Error occurred while processing article 154: Invalid URL 'nan': No scheme supplied. Perhaps you meant https://nan?\n",
            "Processing article 155: nan - nan\n",
            "Error occurred while processing article 155: Invalid URL 'nan': No scheme supplied. Perhaps you meant https://nan?\n",
            "Processing article 156: nan - nan\n",
            "Error occurred while processing article 156: Invalid URL 'nan': No scheme supplied. Perhaps you meant https://nan?\n",
            "Processing article 157: nan - nan\n",
            "Error occurred while processing article 157: Invalid URL 'nan': No scheme supplied. Perhaps you meant https://nan?\n",
            "Processing article 158: nan - nan\n",
            "Error occurred while processing article 158: Invalid URL 'nan': No scheme supplied. Perhaps you meant https://nan?\n",
            "Processing article 159: nan - nan\n",
            "Error occurred while processing article 159: Invalid URL 'nan': No scheme supplied. Perhaps you meant https://nan?\n",
            "Processing article 160: nan - nan\n",
            "Error occurred while processing article 160: Invalid URL 'nan': No scheme supplied. Perhaps you meant https://nan?\n",
            "Processing article 161: nan - nan\n",
            "Error occurred while processing article 161: Invalid URL 'nan': No scheme supplied. Perhaps you meant https://nan?\n",
            "Processing article 162: nan - nan\n",
            "Error occurred while processing article 162: Invalid URL 'nan': No scheme supplied. Perhaps you meant https://nan?\n",
            "Processing article 163: nan - nan\n",
            "Error occurred while processing article 163: Invalid URL 'nan': No scheme supplied. Perhaps you meant https://nan?\n",
            "Processing article 164: nan - nan\n",
            "Error occurred while processing article 164: Invalid URL 'nan': No scheme supplied. Perhaps you meant https://nan?\n",
            "Processing article 165: nan - nan\n",
            "Error occurred while processing article 165: Invalid URL 'nan': No scheme supplied. Perhaps you meant https://nan?\n",
            "Processing article 166: nan - nan\n",
            "Error occurred while processing article 166: Invalid URL 'nan': No scheme supplied. Perhaps you meant https://nan?\n",
            "Processing article 167: nan - nan\n",
            "Error occurred while processing article 167: Invalid URL 'nan': No scheme supplied. Perhaps you meant https://nan?\n",
            "Processing article 168: nan - nan\n",
            "Error occurred while processing article 168: Invalid URL 'nan': No scheme supplied. Perhaps you meant https://nan?\n",
            "Processing article 169: nan - nan\n",
            "Error occurred while processing article 169: Invalid URL 'nan': No scheme supplied. Perhaps you meant https://nan?\n",
            "Processing article 170: nan - nan\n",
            "Error occurred while processing article 170: Invalid URL 'nan': No scheme supplied. Perhaps you meant https://nan?\n",
            "Processing article 171: nan - nan\n",
            "Error occurred while processing article 171: Invalid URL 'nan': No scheme supplied. Perhaps you meant https://nan?\n",
            "Processing article 172: nan - nan\n",
            "Error occurred while processing article 172: Invalid URL 'nan': No scheme supplied. Perhaps you meant https://nan?\n",
            "Processing article 173: nan - nan\n",
            "Error occurred while processing article 173: Invalid URL 'nan': No scheme supplied. Perhaps you meant https://nan?\n",
            "Processing article 174: nan - nan\n",
            "Error occurred while processing article 174: Invalid URL 'nan': No scheme supplied. Perhaps you meant https://nan?\n",
            "Processing article 175: nan - nan\n",
            "Error occurred while processing article 175: Invalid URL 'nan': No scheme supplied. Perhaps you meant https://nan?\n",
            "Processing article 176: nan - nan\n",
            "Error occurred while processing article 176: Invalid URL 'nan': No scheme supplied. Perhaps you meant https://nan?\n",
            "Processing article 177: nan - nan\n",
            "Error occurred while processing article 177: Invalid URL 'nan': No scheme supplied. Perhaps you meant https://nan?\n",
            "Processing article 178: nan - nan\n",
            "Error occurred while processing article 178: Invalid URL 'nan': No scheme supplied. Perhaps you meant https://nan?\n",
            "Processing article 179: nan - nan\n",
            "Error occurred while processing article 179: Invalid URL 'nan': No scheme supplied. Perhaps you meant https://nan?\n",
            "Processing article 180: nan - nan\n",
            "Error occurred while processing article 180: Invalid URL 'nan': No scheme supplied. Perhaps you meant https://nan?\n",
            "Processing article 181: nan - nan\n",
            "Error occurred while processing article 181: Invalid URL 'nan': No scheme supplied. Perhaps you meant https://nan?\n",
            "Processing article 182: nan - nan\n",
            "Error occurred while processing article 182: Invalid URL 'nan': No scheme supplied. Perhaps you meant https://nan?\n",
            "Processing article 183: nan - nan\n",
            "Error occurred while processing article 183: Invalid URL 'nan': No scheme supplied. Perhaps you meant https://nan?\n",
            "Processing article 184: nan - nan\n",
            "Error occurred while processing article 184: Invalid URL 'nan': No scheme supplied. Perhaps you meant https://nan?\n",
            "Processing article 185: nan - nan\n",
            "Error occurred while processing article 185: Invalid URL 'nan': No scheme supplied. Perhaps you meant https://nan?\n",
            "Processing article 186: nan - nan\n",
            "Error occurred while processing article 186: Invalid URL 'nan': No scheme supplied. Perhaps you meant https://nan?\n",
            "Processing article 187: nan - nan\n",
            "Error occurred while processing article 187: Invalid URL 'nan': No scheme supplied. Perhaps you meant https://nan?\n",
            "Processing article 188: nan - nan\n",
            "Error occurred while processing article 188: Invalid URL 'nan': No scheme supplied. Perhaps you meant https://nan?\n",
            "Processing article 189: nan - nan\n",
            "Error occurred while processing article 189: Invalid URL 'nan': No scheme supplied. Perhaps you meant https://nan?\n",
            "Processing article 190: nan - nan\n",
            "Error occurred while processing article 190: Invalid URL 'nan': No scheme supplied. Perhaps you meant https://nan?\n",
            "Processing article 191: nan - nan\n",
            "Error occurred while processing article 191: Invalid URL 'nan': No scheme supplied. Perhaps you meant https://nan?\n",
            "Processing article 192: nan - nan\n",
            "Error occurred while processing article 192: Invalid URL 'nan': No scheme supplied. Perhaps you meant https://nan?\n",
            "Processing article 193: nan - nan\n",
            "Error occurred while processing article 193: Invalid URL 'nan': No scheme supplied. Perhaps you meant https://nan?\n",
            "Processing article 194: nan - nan\n",
            "Error occurred while processing article 194: Invalid URL 'nan': No scheme supplied. Perhaps you meant https://nan?\n",
            "Processing article 195: nan - nan\n",
            "Error occurred while processing article 195: Invalid URL 'nan': No scheme supplied. Perhaps you meant https://nan?\n",
            "Processing article 196: nan - nan\n",
            "Error occurred while processing article 196: Invalid URL 'nan': No scheme supplied. Perhaps you meant https://nan?\n",
            "Processing article 197: nan - nan\n",
            "Error occurred while processing article 197: Invalid URL 'nan': No scheme supplied. Perhaps you meant https://nan?\n",
            "Processing article 198: nan - nan\n",
            "Error occurred while processing article 198: Invalid URL 'nan': No scheme supplied. Perhaps you meant https://nan?\n",
            "Processing article 199: nan - nan\n",
            "Error occurred while processing article 199: Invalid URL 'nan': No scheme supplied. Perhaps you meant https://nan?\n",
            "Processing article 200: nan - nan\n",
            "Error occurred while processing article 200: Invalid URL 'nan': No scheme supplied. Perhaps you meant https://nan?\n",
            "Processing article 201: nan - nan\n",
            "Error occurred while processing article 201: Invalid URL 'nan': No scheme supplied. Perhaps you meant https://nan?\n",
            "Processing article 202: nan - nan\n",
            "Error occurred while processing article 202: Invalid URL 'nan': No scheme supplied. Perhaps you meant https://nan?\n",
            "Processing article 203: nan - nan\n",
            "Error occurred while processing article 203: Invalid URL 'nan': No scheme supplied. Perhaps you meant https://nan?\n",
            "Processing article 204: nan - nan\n",
            "Error occurred while processing article 204: Invalid URL 'nan': No scheme supplied. Perhaps you meant https://nan?\n",
            "Processing article 205: nan - nan\n",
            "Error occurred while processing article 205: Invalid URL 'nan': No scheme supplied. Perhaps you meant https://nan?\n",
            "Processing article 206: nan - nan\n",
            "Error occurred while processing article 206: Invalid URL 'nan': No scheme supplied. Perhaps you meant https://nan?\n",
            "Processing article 207: nan - nan\n",
            "Error occurred while processing article 207: Invalid URL 'nan': No scheme supplied. Perhaps you meant https://nan?\n",
            "Processing article 208: nan - nan\n",
            "Error occurred while processing article 208: Invalid URL 'nan': No scheme supplied. Perhaps you meant https://nan?\n",
            "Processing article 209: nan - nan\n",
            "Error occurred while processing article 209: Invalid URL 'nan': No scheme supplied. Perhaps you meant https://nan?\n",
            "Processing article 210: nan - nan\n",
            "Error occurred while processing article 210: Invalid URL 'nan': No scheme supplied. Perhaps you meant https://nan?\n",
            "Processing article 211: nan - nan\n",
            "Error occurred while processing article 211: Invalid URL 'nan': No scheme supplied. Perhaps you meant https://nan?\n",
            "Processing article 212: nan - nan\n",
            "Error occurred while processing article 212: Invalid URL 'nan': No scheme supplied. Perhaps you meant https://nan?\n",
            "Processing article 213: nan - nan\n",
            "Error occurred while processing article 213: Invalid URL 'nan': No scheme supplied. Perhaps you meant https://nan?\n",
            "Processing article 214: nan - nan\n",
            "Error occurred while processing article 214: Invalid URL 'nan': No scheme supplied. Perhaps you meant https://nan?\n",
            "Processing article 215: nan - nan\n",
            "Error occurred while processing article 215: Invalid URL 'nan': No scheme supplied. Perhaps you meant https://nan?\n",
            "Processing article 216: nan - nan\n",
            "Error occurred while processing article 216: Invalid URL 'nan': No scheme supplied. Perhaps you meant https://nan?\n",
            "Processing article 217: nan - nan\n",
            "Error occurred while processing article 217: Invalid URL 'nan': No scheme supplied. Perhaps you meant https://nan?\n",
            "Processing article 218: nan - nan\n",
            "Error occurred while processing article 218: Invalid URL 'nan': No scheme supplied. Perhaps you meant https://nan?\n",
            "Processing article 219: nan - nan\n",
            "Error occurred while processing article 219: Invalid URL 'nan': No scheme supplied. Perhaps you meant https://nan?\n",
            "Processing article 220: nan - nan\n",
            "Error occurred while processing article 220: Invalid URL 'nan': No scheme supplied. Perhaps you meant https://nan?\n",
            "Processing article 221: nan - nan\n",
            "Error occurred while processing article 221: Invalid URL 'nan': No scheme supplied. Perhaps you meant https://nan?\n",
            "Processing article 222: nan - nan\n",
            "Error occurred while processing article 222: Invalid URL 'nan': No scheme supplied. Perhaps you meant https://nan?\n",
            "Processing article 223: nan - nan\n",
            "Error occurred while processing article 223: Invalid URL 'nan': No scheme supplied. Perhaps you meant https://nan?\n",
            "Processing article 224: nan - nan\n",
            "Error occurred while processing article 224: Invalid URL 'nan': No scheme supplied. Perhaps you meant https://nan?\n",
            "Processing article 225: nan - nan\n",
            "Error occurred while processing article 225: Invalid URL 'nan': No scheme supplied. Perhaps you meant https://nan?\n",
            "Processing article 226: nan - nan\n",
            "Error occurred while processing article 226: Invalid URL 'nan': No scheme supplied. Perhaps you meant https://nan?\n",
            "Processing article 227: nan - nan\n",
            "Error occurred while processing article 227: Invalid URL 'nan': No scheme supplied. Perhaps you meant https://nan?\n",
            "Processing article 228: nan - nan\n",
            "Error occurred while processing article 228: Invalid URL 'nan': No scheme supplied. Perhaps you meant https://nan?\n",
            "Processing article 229: nan - nan\n",
            "Error occurred while processing article 229: Invalid URL 'nan': No scheme supplied. Perhaps you meant https://nan?\n",
            "Processing article 230: nan - nan\n",
            "Error occurred while processing article 230: Invalid URL 'nan': No scheme supplied. Perhaps you meant https://nan?\n",
            "Processing article 231: nan - nan\n",
            "Error occurred while processing article 231: Invalid URL 'nan': No scheme supplied. Perhaps you meant https://nan?\n",
            "Processing article 232: nan - nan\n",
            "Error occurred while processing article 232: Invalid URL 'nan': No scheme supplied. Perhaps you meant https://nan?\n",
            "Processing article 233: nan - nan\n",
            "Error occurred while processing article 233: Invalid URL 'nan': No scheme supplied. Perhaps you meant https://nan?\n",
            "Processing article 234: nan - nan\n",
            "Error occurred while processing article 234: Invalid URL 'nan': No scheme supplied. Perhaps you meant https://nan?\n",
            "Processing article 235: nan - nan\n",
            "Error occurred while processing article 235: Invalid URL 'nan': No scheme supplied. Perhaps you meant https://nan?\n",
            "Processing article 236: nan - nan\n",
            "Error occurred while processing article 236: Invalid URL 'nan': No scheme supplied. Perhaps you meant https://nan?\n",
            "Processing article 237: nan - nan\n",
            "Error occurred while processing article 237: Invalid URL 'nan': No scheme supplied. Perhaps you meant https://nan?\n",
            "Processing article 238: nan - nan\n",
            "Error occurred while processing article 238: Invalid URL 'nan': No scheme supplied. Perhaps you meant https://nan?\n",
            "Processing article 239: nan - nan\n",
            "Error occurred while processing article 239: Invalid URL 'nan': No scheme supplied. Perhaps you meant https://nan?\n",
            "Processing article 240: nan - nan\n",
            "Error occurred while processing article 240: Invalid URL 'nan': No scheme supplied. Perhaps you meant https://nan?\n",
            "Processing article 241: nan - nan\n",
            "Error occurred while processing article 241: Invalid URL 'nan': No scheme supplied. Perhaps you meant https://nan?\n",
            "Processing article 242: nan - nan\n",
            "Error occurred while processing article 242: Invalid URL 'nan': No scheme supplied. Perhaps you meant https://nan?\n",
            "Processing article 243: nan - nan\n",
            "Error occurred while processing article 243: Invalid URL 'nan': No scheme supplied. Perhaps you meant https://nan?\n",
            "Processing article 244: nan - nan\n",
            "Error occurred while processing article 244: Invalid URL 'nan': No scheme supplied. Perhaps you meant https://nan?\n",
            "Processing article 245: nan - nan\n",
            "Error occurred while processing article 245: Invalid URL 'nan': No scheme supplied. Perhaps you meant https://nan?\n",
            "Processing article 246: nan - nan\n",
            "Error occurred while processing article 246: Invalid URL 'nan': No scheme supplied. Perhaps you meant https://nan?\n",
            "Processing article 247: nan - nan\n",
            "Error occurred while processing article 247: Invalid URL 'nan': No scheme supplied. Perhaps you meant https://nan?\n",
            "Processing article 248: nan - nan\n",
            "Error occurred while processing article 248: Invalid URL 'nan': No scheme supplied. Perhaps you meant https://nan?\n",
            "Processing article 249: nan - nan\n",
            "Error occurred while processing article 249: Invalid URL 'nan': No scheme supplied. Perhaps you meant https://nan?\n",
            "Processing article 250: nan - nan\n",
            "Error occurred while processing article 250: Invalid URL 'nan': No scheme supplied. Perhaps you meant https://nan?\n",
            "Processing article 251: nan - nan\n",
            "Error occurred while processing article 251: Invalid URL 'nan': No scheme supplied. Perhaps you meant https://nan?\n",
            "Processing article 252: nan - nan\n",
            "Error occurred while processing article 252: Invalid URL 'nan': No scheme supplied. Perhaps you meant https://nan?\n",
            "Processing article 253: nan - nan\n",
            "Error occurred while processing article 253: Invalid URL 'nan': No scheme supplied. Perhaps you meant https://nan?\n",
            "Processing article 254: nan - nan\n",
            "Error occurred while processing article 254: Invalid URL 'nan': No scheme supplied. Perhaps you meant https://nan?\n",
            "Processing article 255: nan - nan\n",
            "Error occurred while processing article 255: Invalid URL 'nan': No scheme supplied. Perhaps you meant https://nan?\n",
            "Processing article 256: nan - nan\n",
            "Error occurred while processing article 256: Invalid URL 'nan': No scheme supplied. Perhaps you meant https://nan?\n",
            "Processing article 257: nan - nan\n",
            "Error occurred while processing article 257: Invalid URL 'nan': No scheme supplied. Perhaps you meant https://nan?\n",
            "Processing article 258: nan - nan\n",
            "Error occurred while processing article 258: Invalid URL 'nan': No scheme supplied. Perhaps you meant https://nan?\n",
            "Processing article 259: nan - nan\n",
            "Error occurred while processing article 259: Invalid URL 'nan': No scheme supplied. Perhaps you meant https://nan?\n",
            "Processing article 260: nan - nan\n",
            "Error occurred while processing article 260: Invalid URL 'nan': No scheme supplied. Perhaps you meant https://nan?\n",
            "Processing article 261: nan - nan\n",
            "Error occurred while processing article 261: Invalid URL 'nan': No scheme supplied. Perhaps you meant https://nan?\n",
            "Processing article 262: nan - nan\n",
            "Error occurred while processing article 262: Invalid URL 'nan': No scheme supplied. Perhaps you meant https://nan?\n",
            "Processing article 263: nan - nan\n",
            "Error occurred while processing article 263: Invalid URL 'nan': No scheme supplied. Perhaps you meant https://nan?\n",
            "Processing article 264: nan - nan\n",
            "Error occurred while processing article 264: Invalid URL 'nan': No scheme supplied. Perhaps you meant https://nan?\n",
            "Processing article 265: nan - nan\n",
            "Error occurred while processing article 265: Invalid URL 'nan': No scheme supplied. Perhaps you meant https://nan?\n",
            "Processing article 266: nan - nan\n",
            "Error occurred while processing article 266: Invalid URL 'nan': No scheme supplied. Perhaps you meant https://nan?\n",
            "Processing article 267: nan - nan\n",
            "Error occurred while processing article 267: Invalid URL 'nan': No scheme supplied. Perhaps you meant https://nan?\n",
            "Processing article 268: nan - nan\n",
            "Error occurred while processing article 268: Invalid URL 'nan': No scheme supplied. Perhaps you meant https://nan?\n",
            "Processing article 269: nan - nan\n",
            "Error occurred while processing article 269: Invalid URL 'nan': No scheme supplied. Perhaps you meant https://nan?\n",
            "Processing article 270: nan - nan\n",
            "Error occurred while processing article 270: Invalid URL 'nan': No scheme supplied. Perhaps you meant https://nan?\n",
            "Processing article 271: nan - nan\n",
            "Error occurred while processing article 271: Invalid URL 'nan': No scheme supplied. Perhaps you meant https://nan?\n",
            "Processing article 272: nan - nan\n",
            "Error occurred while processing article 272: Invalid URL 'nan': No scheme supplied. Perhaps you meant https://nan?\n",
            "Processing article 273: nan - nan\n",
            "Error occurred while processing article 273: Invalid URL 'nan': No scheme supplied. Perhaps you meant https://nan?\n",
            "Processing article 274: nan - nan\n",
            "Error occurred while processing article 274: Invalid URL 'nan': No scheme supplied. Perhaps you meant https://nan?\n",
            "Processing article 275: nan - nan\n",
            "Error occurred while processing article 275: Invalid URL 'nan': No scheme supplied. Perhaps you meant https://nan?\n",
            "Processing article 276: nan - nan\n",
            "Error occurred while processing article 276: Invalid URL 'nan': No scheme supplied. Perhaps you meant https://nan?\n",
            "Processing article 277: nan - nan\n",
            "Error occurred while processing article 277: Invalid URL 'nan': No scheme supplied. Perhaps you meant https://nan?\n",
            "Processing article 278: nan - nan\n",
            "Error occurred while processing article 278: Invalid URL 'nan': No scheme supplied. Perhaps you meant https://nan?\n",
            "Processing article 279: nan - nan\n",
            "Error occurred while processing article 279: Invalid URL 'nan': No scheme supplied. Perhaps you meant https://nan?\n",
            "Processing article 280: nan - nan\n",
            "Error occurred while processing article 280: Invalid URL 'nan': No scheme supplied. Perhaps you meant https://nan?\n",
            "Processing article 281: nan - nan\n",
            "Error occurred while processing article 281: Invalid URL 'nan': No scheme supplied. Perhaps you meant https://nan?\n",
            "Processing article 282: nan - nan\n",
            "Error occurred while processing article 282: Invalid URL 'nan': No scheme supplied. Perhaps you meant https://nan?\n",
            "Processing article 283: nan - nan\n",
            "Error occurred while processing article 283: Invalid URL 'nan': No scheme supplied. Perhaps you meant https://nan?\n",
            "Processing article 284: nan - nan\n",
            "Error occurred while processing article 284: Invalid URL 'nan': No scheme supplied. Perhaps you meant https://nan?\n",
            "Processing article 285: nan - nan\n",
            "Error occurred while processing article 285: Invalid URL 'nan': No scheme supplied. Perhaps you meant https://nan?\n",
            "Processing article 286: nan - nan\n",
            "Error occurred while processing article 286: Invalid URL 'nan': No scheme supplied. Perhaps you meant https://nan?\n",
            "Processing article 287: nan - nan\n",
            "Error occurred while processing article 287: Invalid URL 'nan': No scheme supplied. Perhaps you meant https://nan?\n",
            "Processing article 288: nan - nan\n",
            "Error occurred while processing article 288: Invalid URL 'nan': No scheme supplied. Perhaps you meant https://nan?\n",
            "Processing article 289: nan - nan\n",
            "Error occurred while processing article 289: Invalid URL 'nan': No scheme supplied. Perhaps you meant https://nan?\n",
            "Processing article 290: nan - nan\n",
            "Error occurred while processing article 290: Invalid URL 'nan': No scheme supplied. Perhaps you meant https://nan?\n",
            "Processing article 291: nan - nan\n",
            "Error occurred while processing article 291: Invalid URL 'nan': No scheme supplied. Perhaps you meant https://nan?\n",
            "Processing article 292: nan - nan\n",
            "Error occurred while processing article 292: Invalid URL 'nan': No scheme supplied. Perhaps you meant https://nan?\n",
            "Processing article 293: nan - nan\n",
            "Error occurred while processing article 293: Invalid URL 'nan': No scheme supplied. Perhaps you meant https://nan?\n",
            "Processing article 294: nan - nan\n",
            "Error occurred while processing article 294: Invalid URL 'nan': No scheme supplied. Perhaps you meant https://nan?\n",
            "Processing article 295: nan - nan\n",
            "Error occurred while processing article 295: Invalid URL 'nan': No scheme supplied. Perhaps you meant https://nan?\n",
            "Processing article 296: nan - nan\n",
            "Error occurred while processing article 296: Invalid URL 'nan': No scheme supplied. Perhaps you meant https://nan?\n",
            "Processing article 297: nan - nan\n",
            "Error occurred while processing article 297: Invalid URL 'nan': No scheme supplied. Perhaps you meant https://nan?\n",
            "Processing article 298: nan - nan\n",
            "Error occurred while processing article 298: Invalid URL 'nan': No scheme supplied. Perhaps you meant https://nan?\n",
            "Processing article 299: nan - nan\n",
            "Error occurred while processing article 299: Invalid URL 'nan': No scheme supplied. Perhaps you meant https://nan?\n",
            "Processing article 300: nan - nan\n",
            "Error occurred while processing article 300: Invalid URL 'nan': No scheme supplied. Perhaps you meant https://nan?\n",
            "Processing article 301: nan - nan\n",
            "Error occurred while processing article 301: Invalid URL 'nan': No scheme supplied. Perhaps you meant https://nan?\n",
            "Processing article 302: nan - nan\n",
            "Error occurred while processing article 302: Invalid URL 'nan': No scheme supplied. Perhaps you meant https://nan?\n",
            "Processing article 303: nan - nan\n",
            "Error occurred while processing article 303: Invalid URL 'nan': No scheme supplied. Perhaps you meant https://nan?\n",
            "Processing article 304: nan - nan\n",
            "Error occurred while processing article 304: Invalid URL 'nan': No scheme supplied. Perhaps you meant https://nan?\n",
            "Processing article 305: nan - nan\n",
            "Error occurred while processing article 305: Invalid URL 'nan': No scheme supplied. Perhaps you meant https://nan?\n",
            "Processing article 306: nan - nan\n",
            "Error occurred while processing article 306: Invalid URL 'nan': No scheme supplied. Perhaps you meant https://nan?\n",
            "Processing article 307: nan - nan\n",
            "Error occurred while processing article 307: Invalid URL 'nan': No scheme supplied. Perhaps you meant https://nan?\n",
            "Processing article 308: nan - nan\n",
            "Error occurred while processing article 308: Invalid URL 'nan': No scheme supplied. Perhaps you meant https://nan?\n",
            "Processing article 309: nan - nan\n",
            "Error occurred while processing article 309: Invalid URL 'nan': No scheme supplied. Perhaps you meant https://nan?\n",
            "Processing article 310: nan - nan\n",
            "Error occurred while processing article 310: Invalid URL 'nan': No scheme supplied. Perhaps you meant https://nan?\n",
            "Processing article 311: nan - nan\n",
            "Error occurred while processing article 311: Invalid URL 'nan': No scheme supplied. Perhaps you meant https://nan?\n",
            "Processing article 312: nan - nan\n",
            "Error occurred while processing article 312: Invalid URL 'nan': No scheme supplied. Perhaps you meant https://nan?\n",
            "Processing article 313: nan - nan\n",
            "Error occurred while processing article 313: Invalid URL 'nan': No scheme supplied. Perhaps you meant https://nan?\n",
            "Processing article 314: nan - nan\n",
            "Error occurred while processing article 314: Invalid URL 'nan': No scheme supplied. Perhaps you meant https://nan?\n",
            "Processing article 315: nan - nan\n",
            "Error occurred while processing article 315: Invalid URL 'nan': No scheme supplied. Perhaps you meant https://nan?\n",
            "Processing article 316: nan - nan\n",
            "Error occurred while processing article 316: Invalid URL 'nan': No scheme supplied. Perhaps you meant https://nan?\n",
            "Processing article 317: nan - nan\n",
            "Error occurred while processing article 317: Invalid URL 'nan': No scheme supplied. Perhaps you meant https://nan?\n",
            "Processing article 318: nan - nan\n",
            "Error occurred while processing article 318: Invalid URL 'nan': No scheme supplied. Perhaps you meant https://nan?\n",
            "Processing article 319: nan - nan\n",
            "Error occurred while processing article 319: Invalid URL 'nan': No scheme supplied. Perhaps you meant https://nan?\n",
            "Processing article 320: nan - nan\n",
            "Error occurred while processing article 320: Invalid URL 'nan': No scheme supplied. Perhaps you meant https://nan?\n",
            "Processing article 321: nan - nan\n",
            "Error occurred while processing article 321: Invalid URL 'nan': No scheme supplied. Perhaps you meant https://nan?\n",
            "Processing article 322: nan - nan\n",
            "Error occurred while processing article 322: Invalid URL 'nan': No scheme supplied. Perhaps you meant https://nan?\n",
            "Processing article 323: nan - nan\n",
            "Error occurred while processing article 323: Invalid URL 'nan': No scheme supplied. Perhaps you meant https://nan?\n",
            "Processing article 324: nan - nan\n",
            "Error occurred while processing article 324: Invalid URL 'nan': No scheme supplied. Perhaps you meant https://nan?\n",
            "Processing article 325: nan - nan\n",
            "Error occurred while processing article 325: Invalid URL 'nan': No scheme supplied. Perhaps you meant https://nan?\n",
            "Processing article 326: nan - nan\n",
            "Error occurred while processing article 326: Invalid URL 'nan': No scheme supplied. Perhaps you meant https://nan?\n",
            "Processing article 327: nan - nan\n",
            "Error occurred while processing article 327: Invalid URL 'nan': No scheme supplied. Perhaps you meant https://nan?\n",
            "Processing article 328: nan - nan\n",
            "Error occurred while processing article 328: Invalid URL 'nan': No scheme supplied. Perhaps you meant https://nan?\n",
            "Processing article 329: nan - nan\n",
            "Error occurred while processing article 329: Invalid URL 'nan': No scheme supplied. Perhaps you meant https://nan?\n",
            "Processing article 330: nan - nan\n",
            "Error occurred while processing article 330: Invalid URL 'nan': No scheme supplied. Perhaps you meant https://nan?\n",
            "Processing article 331: nan - nan\n",
            "Error occurred while processing article 331: Invalid URL 'nan': No scheme supplied. Perhaps you meant https://nan?\n",
            "Processing article 332: nan - nan\n",
            "Error occurred while processing article 332: Invalid URL 'nan': No scheme supplied. Perhaps you meant https://nan?\n",
            "Processing article 333: nan - nan\n",
            "Error occurred while processing article 333: Invalid URL 'nan': No scheme supplied. Perhaps you meant https://nan?\n",
            "Processing article 334: nan - nan\n",
            "Error occurred while processing article 334: Invalid URL 'nan': No scheme supplied. Perhaps you meant https://nan?\n",
            "Processing article 335: nan - nan\n",
            "Error occurred while processing article 335: Invalid URL 'nan': No scheme supplied. Perhaps you meant https://nan?\n",
            "Processing article 336: nan - nan\n",
            "Error occurred while processing article 336: Invalid URL 'nan': No scheme supplied. Perhaps you meant https://nan?\n",
            "Processing article 337: nan - nan\n",
            "Error occurred while processing article 337: Invalid URL 'nan': No scheme supplied. Perhaps you meant https://nan?\n",
            "Processing article 338: nan - nan\n",
            "Error occurred while processing article 338: Invalid URL 'nan': No scheme supplied. Perhaps you meant https://nan?\n",
            "Processing article 339: nan - nan\n",
            "Error occurred while processing article 339: Invalid URL 'nan': No scheme supplied. Perhaps you meant https://nan?\n",
            "Processing article 340: nan - nan\n",
            "Error occurred while processing article 340: Invalid URL 'nan': No scheme supplied. Perhaps you meant https://nan?\n",
            "Processing article 341: nan - nan\n",
            "Error occurred while processing article 341: Invalid URL 'nan': No scheme supplied. Perhaps you meant https://nan?\n",
            "Processing article 342: nan - nan\n",
            "Error occurred while processing article 342: Invalid URL 'nan': No scheme supplied. Perhaps you meant https://nan?\n",
            "Processing article 343: nan - nan\n",
            "Error occurred while processing article 343: Invalid URL 'nan': No scheme supplied. Perhaps you meant https://nan?\n",
            "Processing article 344: nan - nan\n",
            "Error occurred while processing article 344: Invalid URL 'nan': No scheme supplied. Perhaps you meant https://nan?\n",
            "Processing article 345: nan - nan\n",
            "Error occurred while processing article 345: Invalid URL 'nan': No scheme supplied. Perhaps you meant https://nan?\n",
            "Processing article 346: nan - nan\n",
            "Error occurred while processing article 346: Invalid URL 'nan': No scheme supplied. Perhaps you meant https://nan?\n",
            "Processing article 347: nan - nan\n",
            "Error occurred while processing article 347: Invalid URL 'nan': No scheme supplied. Perhaps you meant https://nan?\n",
            "Processing article 348: nan - nan\n",
            "Error occurred while processing article 348: Invalid URL 'nan': No scheme supplied. Perhaps you meant https://nan?\n",
            "Processing article 349: nan - nan\n",
            "Error occurred while processing article 349: Invalid URL 'nan': No scheme supplied. Perhaps you meant https://nan?\n",
            "Processing article 350: nan - nan\n",
            "Error occurred while processing article 350: Invalid URL 'nan': No scheme supplied. Perhaps you meant https://nan?\n",
            "Processing article 351: nan - nan\n",
            "Error occurred while processing article 351: Invalid URL 'nan': No scheme supplied. Perhaps you meant https://nan?\n",
            "Processing article 352: nan - nan\n",
            "Error occurred while processing article 352: Invalid URL 'nan': No scheme supplied. Perhaps you meant https://nan?\n",
            "Processing article 353: nan - nan\n",
            "Error occurred while processing article 353: Invalid URL 'nan': No scheme supplied. Perhaps you meant https://nan?\n",
            "Processing article 354: nan - nan\n",
            "Error occurred while processing article 354: Invalid URL 'nan': No scheme supplied. Perhaps you meant https://nan?\n",
            "Processing article 355: nan - nan\n",
            "Error occurred while processing article 355: Invalid URL 'nan': No scheme supplied. Perhaps you meant https://nan?\n",
            "Processing article 356: nan - nan\n",
            "Error occurred while processing article 356: Invalid URL 'nan': No scheme supplied. Perhaps you meant https://nan?\n",
            "Processing article 357: nan - nan\n",
            "Error occurred while processing article 357: Invalid URL 'nan': No scheme supplied. Perhaps you meant https://nan?\n",
            "Processing article 358: nan - nan\n",
            "Error occurred while processing article 358: Invalid URL 'nan': No scheme supplied. Perhaps you meant https://nan?\n",
            "Processing article 359: nan - nan\n",
            "Error occurred while processing article 359: Invalid URL 'nan': No scheme supplied. Perhaps you meant https://nan?\n",
            "Processing article 360: nan - nan\n",
            "Error occurred while processing article 360: Invalid URL 'nan': No scheme supplied. Perhaps you meant https://nan?\n",
            "Processing article 361: nan - nan\n",
            "Error occurred while processing article 361: Invalid URL 'nan': No scheme supplied. Perhaps you meant https://nan?\n",
            "Processing article 362: nan - nan\n",
            "Error occurred while processing article 362: Invalid URL 'nan': No scheme supplied. Perhaps you meant https://nan?\n",
            "Processing article 363: nan - nan\n",
            "Error occurred while processing article 363: Invalid URL 'nan': No scheme supplied. Perhaps you meant https://nan?\n",
            "Processing article 364: nan - nan\n",
            "Error occurred while processing article 364: Invalid URL 'nan': No scheme supplied. Perhaps you meant https://nan?\n",
            "Processing article 365: nan - nan\n",
            "Error occurred while processing article 365: Invalid URL 'nan': No scheme supplied. Perhaps you meant https://nan?\n",
            "Processing article 366: nan - nan\n",
            "Error occurred while processing article 366: Invalid URL 'nan': No scheme supplied. Perhaps you meant https://nan?\n",
            "Processing article 367: nan - nan\n",
            "Error occurred while processing article 367: Invalid URL 'nan': No scheme supplied. Perhaps you meant https://nan?\n",
            "Processing article 368: nan - nan\n",
            "Error occurred while processing article 368: Invalid URL 'nan': No scheme supplied. Perhaps you meant https://nan?\n",
            "Processing article 369: nan - nan\n",
            "Error occurred while processing article 369: Invalid URL 'nan': No scheme supplied. Perhaps you meant https://nan?\n",
            "Processing article 370: nan - nan\n",
            "Error occurred while processing article 370: Invalid URL 'nan': No scheme supplied. Perhaps you meant https://nan?\n",
            "Processing article 371: nan - nan\n",
            "Error occurred while processing article 371: Invalid URL 'nan': No scheme supplied. Perhaps you meant https://nan?\n",
            "Processing article 372: nan - nan\n",
            "Error occurred while processing article 372: Invalid URL 'nan': No scheme supplied. Perhaps you meant https://nan?\n",
            "Processing article 373: nan - nan\n",
            "Error occurred while processing article 373: Invalid URL 'nan': No scheme supplied. Perhaps you meant https://nan?\n",
            "Processing article 374: nan - nan\n",
            "Error occurred while processing article 374: Invalid URL 'nan': No scheme supplied. Perhaps you meant https://nan?\n",
            "Processing article 375: nan - nan\n",
            "Error occurred while processing article 375: Invalid URL 'nan': No scheme supplied. Perhaps you meant https://nan?\n",
            "Processing article 376: nan - nan\n",
            "Error occurred while processing article 376: Invalid URL 'nan': No scheme supplied. Perhaps you meant https://nan?\n",
            "Processing article 377: nan - nan\n",
            "Error occurred while processing article 377: Invalid URL 'nan': No scheme supplied. Perhaps you meant https://nan?\n",
            "Processing article 378: nan - nan\n",
            "Error occurred while processing article 378: Invalid URL 'nan': No scheme supplied. Perhaps you meant https://nan?\n",
            "Processing article 379: nan - nan\n",
            "Error occurred while processing article 379: Invalid URL 'nan': No scheme supplied. Perhaps you meant https://nan?\n",
            "Processing article 380: nan - nan\n",
            "Error occurred while processing article 380: Invalid URL 'nan': No scheme supplied. Perhaps you meant https://nan?\n",
            "Processing article 381: nan - nan\n",
            "Error occurred while processing article 381: Invalid URL 'nan': No scheme supplied. Perhaps you meant https://nan?\n",
            "Processing article 382: nan - nan\n",
            "Error occurred while processing article 382: Invalid URL 'nan': No scheme supplied. Perhaps you meant https://nan?\n",
            "Processing article 383: nan - nan\n",
            "Error occurred while processing article 383: Invalid URL 'nan': No scheme supplied. Perhaps you meant https://nan?\n",
            "Processing article 384: nan - nan\n",
            "Error occurred while processing article 384: Invalid URL 'nan': No scheme supplied. Perhaps you meant https://nan?\n",
            "Processing article 385: nan - nan\n",
            "Error occurred while processing article 385: Invalid URL 'nan': No scheme supplied. Perhaps you meant https://nan?\n",
            "Processing article 386: nan - nan\n",
            "Error occurred while processing article 386: Invalid URL 'nan': No scheme supplied. Perhaps you meant https://nan?\n",
            "Processing article 387: nan - nan\n",
            "Error occurred while processing article 387: Invalid URL 'nan': No scheme supplied. Perhaps you meant https://nan?\n",
            "Processing article 388: nan - nan\n",
            "Error occurred while processing article 388: Invalid URL 'nan': No scheme supplied. Perhaps you meant https://nan?\n",
            "Processing article 389: nan - nan\n",
            "Error occurred while processing article 389: Invalid URL 'nan': No scheme supplied. Perhaps you meant https://nan?\n",
            "Processing article 390: nan - nan\n",
            "Error occurred while processing article 390: Invalid URL 'nan': No scheme supplied. Perhaps you meant https://nan?\n",
            "Processing article 391: nan - nan\n",
            "Error occurred while processing article 391: Invalid URL 'nan': No scheme supplied. Perhaps you meant https://nan?\n",
            "Processing article 392: nan - nan\n",
            "Error occurred while processing article 392: Invalid URL 'nan': No scheme supplied. Perhaps you meant https://nan?\n",
            "Processing article 393: nan - nan\n",
            "Error occurred while processing article 393: Invalid URL 'nan': No scheme supplied. Perhaps you meant https://nan?\n",
            "Processing article 394: nan - nan\n",
            "Error occurred while processing article 394: Invalid URL 'nan': No scheme supplied. Perhaps you meant https://nan?\n",
            "Processing article 395: nan - nan\n",
            "Error occurred while processing article 395: Invalid URL 'nan': No scheme supplied. Perhaps you meant https://nan?\n",
            "Processing article 396: nan - nan\n",
            "Error occurred while processing article 396: Invalid URL 'nan': No scheme supplied. Perhaps you meant https://nan?\n",
            "Processing article 397: nan - nan\n",
            "Error occurred while processing article 397: Invalid URL 'nan': No scheme supplied. Perhaps you meant https://nan?\n",
            "Processing article 398: nan - nan\n",
            "Error occurred while processing article 398: Invalid URL 'nan': No scheme supplied. Perhaps you meant https://nan?\n",
            "Processing article 399: nan - nan\n",
            "Error occurred while processing article 399: Invalid URL 'nan': No scheme supplied. Perhaps you meant https://nan?\n",
            "Processing article 400: nan - nan\n",
            "Error occurred while processing article 400: Invalid URL 'nan': No scheme supplied. Perhaps you meant https://nan?\n",
            "Processing article 401: nan - nan\n",
            "Error occurred while processing article 401: Invalid URL 'nan': No scheme supplied. Perhaps you meant https://nan?\n",
            "Processing article 402: nan - nan\n",
            "Error occurred while processing article 402: Invalid URL 'nan': No scheme supplied. Perhaps you meant https://nan?\n",
            "Processing article 403: nan - nan\n",
            "Error occurred while processing article 403: Invalid URL 'nan': No scheme supplied. Perhaps you meant https://nan?\n",
            "Processing article 404: nan - nan\n",
            "Error occurred while processing article 404: Invalid URL 'nan': No scheme supplied. Perhaps you meant https://nan?\n",
            "Processing article 405: nan - nan\n",
            "Error occurred while processing article 405: Invalid URL 'nan': No scheme supplied. Perhaps you meant https://nan?\n",
            "Processing article 406: nan - nan\n",
            "Error occurred while processing article 406: Invalid URL 'nan': No scheme supplied. Perhaps you meant https://nan?\n",
            "Processing article 407: nan - nan\n",
            "Error occurred while processing article 407: Invalid URL 'nan': No scheme supplied. Perhaps you meant https://nan?\n",
            "Processing article 408: nan - nan\n",
            "Error occurred while processing article 408: Invalid URL 'nan': No scheme supplied. Perhaps you meant https://nan?\n",
            "Processing article 409: nan - nan\n",
            "Error occurred while processing article 409: Invalid URL 'nan': No scheme supplied. Perhaps you meant https://nan?\n",
            "Processing article 410: nan - nan\n",
            "Error occurred while processing article 410: Invalid URL 'nan': No scheme supplied. Perhaps you meant https://nan?\n",
            "Processing article 411: nan - nan\n",
            "Error occurred while processing article 411: Invalid URL 'nan': No scheme supplied. Perhaps you meant https://nan?\n",
            "Processing article 412: nan - nan\n",
            "Error occurred while processing article 412: Invalid URL 'nan': No scheme supplied. Perhaps you meant https://nan?\n",
            "Processing article 413: nan - nan\n",
            "Error occurred while processing article 413: Invalid URL 'nan': No scheme supplied. Perhaps you meant https://nan?\n",
            "Processing article 414: nan - nan\n",
            "Error occurred while processing article 414: Invalid URL 'nan': No scheme supplied. Perhaps you meant https://nan?\n",
            "Processing article 415: nan - nan\n",
            "Error occurred while processing article 415: Invalid URL 'nan': No scheme supplied. Perhaps you meant https://nan?\n",
            "Processing article 416: nan - nan\n",
            "Error occurred while processing article 416: Invalid URL 'nan': No scheme supplied. Perhaps you meant https://nan?\n",
            "Processing article 417: nan - nan\n",
            "Error occurred while processing article 417: Invalid URL 'nan': No scheme supplied. Perhaps you meant https://nan?\n",
            "Processing article 418: nan - nan\n",
            "Error occurred while processing article 418: Invalid URL 'nan': No scheme supplied. Perhaps you meant https://nan?\n",
            "Processing article 419: nan - nan\n",
            "Error occurred while processing article 419: Invalid URL 'nan': No scheme supplied. Perhaps you meant https://nan?\n",
            "Processing article 420: nan - nan\n",
            "Error occurred while processing article 420: Invalid URL 'nan': No scheme supplied. Perhaps you meant https://nan?\n",
            "Processing article 421: nan - nan\n",
            "Error occurred while processing article 421: Invalid URL 'nan': No scheme supplied. Perhaps you meant https://nan?\n",
            "Processing article 422: nan - nan\n",
            "Error occurred while processing article 422: Invalid URL 'nan': No scheme supplied. Perhaps you meant https://nan?\n",
            "Processing article 423: nan - nan\n",
            "Error occurred while processing article 423: Invalid URL 'nan': No scheme supplied. Perhaps you meant https://nan?\n",
            "Processing article 424: nan - nan\n",
            "Error occurred while processing article 424: Invalid URL 'nan': No scheme supplied. Perhaps you meant https://nan?\n",
            "Processing article 425: nan - nan\n",
            "Error occurred while processing article 425: Invalid URL 'nan': No scheme supplied. Perhaps you meant https://nan?\n",
            "Processing article 426: nan - nan\n",
            "Error occurred while processing article 426: Invalid URL 'nan': No scheme supplied. Perhaps you meant https://nan?\n",
            "Processing article 427: nan - nan\n",
            "Error occurred while processing article 427: Invalid URL 'nan': No scheme supplied. Perhaps you meant https://nan?\n",
            "Processing article 428: nan - nan\n",
            "Error occurred while processing article 428: Invalid URL 'nan': No scheme supplied. Perhaps you meant https://nan?\n",
            "Processing article 429: nan - nan\n",
            "Error occurred while processing article 429: Invalid URL 'nan': No scheme supplied. Perhaps you meant https://nan?\n",
            "Processing article 430: nan - nan\n",
            "Error occurred while processing article 430: Invalid URL 'nan': No scheme supplied. Perhaps you meant https://nan?\n",
            "Processing article 431: nan - nan\n",
            "Error occurred while processing article 431: Invalid URL 'nan': No scheme supplied. Perhaps you meant https://nan?\n",
            "Processing article 432: nan - nan\n",
            "Error occurred while processing article 432: Invalid URL 'nan': No scheme supplied. Perhaps you meant https://nan?\n",
            "Processing article 433: nan - nan\n",
            "Error occurred while processing article 433: Invalid URL 'nan': No scheme supplied. Perhaps you meant https://nan?\n",
            "Processing article 434: nan - nan\n",
            "Error occurred while processing article 434: Invalid URL 'nan': No scheme supplied. Perhaps you meant https://nan?\n",
            "Processing article 435: nan - nan\n",
            "Error occurred while processing article 435: Invalid URL 'nan': No scheme supplied. Perhaps you meant https://nan?\n",
            "Processing article 436: nan - nan\n",
            "Error occurred while processing article 436: Invalid URL 'nan': No scheme supplied. Perhaps you meant https://nan?\n",
            "Processing article 437: nan - nan\n",
            "Error occurred while processing article 437: Invalid URL 'nan': No scheme supplied. Perhaps you meant https://nan?\n",
            "Processing article 438: nan - nan\n",
            "Error occurred while processing article 438: Invalid URL 'nan': No scheme supplied. Perhaps you meant https://nan?\n",
            "Processing article 439: nan - nan\n",
            "Error occurred while processing article 439: Invalid URL 'nan': No scheme supplied. Perhaps you meant https://nan?\n",
            "Processing article 440: nan - nan\n",
            "Error occurred while processing article 440: Invalid URL 'nan': No scheme supplied. Perhaps you meant https://nan?\n",
            "Processing article 441: nan - nan\n",
            "Error occurred while processing article 441: Invalid URL 'nan': No scheme supplied. Perhaps you meant https://nan?\n",
            "Processing article 442: nan - nan\n",
            "Error occurred while processing article 442: Invalid URL 'nan': No scheme supplied. Perhaps you meant https://nan?\n",
            "Processing article 443: nan - nan\n",
            "Error occurred while processing article 443: Invalid URL 'nan': No scheme supplied. Perhaps you meant https://nan?\n",
            "Processing article 444: nan - nan\n",
            "Error occurred while processing article 444: Invalid URL 'nan': No scheme supplied. Perhaps you meant https://nan?\n",
            "Processing article 445: nan - nan\n",
            "Error occurred while processing article 445: Invalid URL 'nan': No scheme supplied. Perhaps you meant https://nan?\n",
            "Processing article 446: nan - nan\n",
            "Error occurred while processing article 446: Invalid URL 'nan': No scheme supplied. Perhaps you meant https://nan?\n",
            "Processing article 447: nan - nan\n",
            "Error occurred while processing article 447: Invalid URL 'nan': No scheme supplied. Perhaps you meant https://nan?\n",
            "Processing article 448: nan - nan\n",
            "Error occurred while processing article 448: Invalid URL 'nan': No scheme supplied. Perhaps you meant https://nan?\n",
            "Processing article 449: nan - nan\n",
            "Error occurred while processing article 449: Invalid URL 'nan': No scheme supplied. Perhaps you meant https://nan?\n",
            "Processing article 450: nan - nan\n",
            "Error occurred while processing article 450: Invalid URL 'nan': No scheme supplied. Perhaps you meant https://nan?\n",
            "Processing article 451: nan - nan\n",
            "Error occurred while processing article 451: Invalid URL 'nan': No scheme supplied. Perhaps you meant https://nan?\n",
            "Processing article 452: nan - nan\n",
            "Error occurred while processing article 452: Invalid URL 'nan': No scheme supplied. Perhaps you meant https://nan?\n",
            "Processing article 453: nan - nan\n",
            "Error occurred while processing article 453: Invalid URL 'nan': No scheme supplied. Perhaps you meant https://nan?\n",
            "Processing article 454: nan - nan\n",
            "Error occurred while processing article 454: Invalid URL 'nan': No scheme supplied. Perhaps you meant https://nan?\n",
            "Processing article 455: nan - nan\n",
            "Error occurred while processing article 455: Invalid URL 'nan': No scheme supplied. Perhaps you meant https://nan?\n",
            "Processing article 456: nan - nan\n",
            "Error occurred while processing article 456: Invalid URL 'nan': No scheme supplied. Perhaps you meant https://nan?\n",
            "Processing article 457: nan - nan\n",
            "Error occurred while processing article 457: Invalid URL 'nan': No scheme supplied. Perhaps you meant https://nan?\n",
            "Processing article 458: nan - nan\n",
            "Error occurred while processing article 458: Invalid URL 'nan': No scheme supplied. Perhaps you meant https://nan?\n",
            "Processing article 459: nan - nan\n",
            "Error occurred while processing article 459: Invalid URL 'nan': No scheme supplied. Perhaps you meant https://nan?\n",
            "Processing article 460: nan - nan\n",
            "Error occurred while processing article 460: Invalid URL 'nan': No scheme supplied. Perhaps you meant https://nan?\n",
            "Processing article 461: nan - nan\n",
            "Error occurred while processing article 461: Invalid URL 'nan': No scheme supplied. Perhaps you meant https://nan?\n",
            "Processing article 462: nan - nan\n",
            "Error occurred while processing article 462: Invalid URL 'nan': No scheme supplied. Perhaps you meant https://nan?\n",
            "Processing article 463: nan - nan\n",
            "Error occurred while processing article 463: Invalid URL 'nan': No scheme supplied. Perhaps you meant https://nan?\n",
            "Processing article 464: nan - nan\n",
            "Error occurred while processing article 464: Invalid URL 'nan': No scheme supplied. Perhaps you meant https://nan?\n",
            "Processing article 465: nan - nan\n",
            "Error occurred while processing article 465: Invalid URL 'nan': No scheme supplied. Perhaps you meant https://nan?\n",
            "Processing article 466: nan - nan\n",
            "Error occurred while processing article 466: Invalid URL 'nan': No scheme supplied. Perhaps you meant https://nan?\n",
            "Processing article 467: nan - nan\n",
            "Error occurred while processing article 467: Invalid URL 'nan': No scheme supplied. Perhaps you meant https://nan?\n",
            "Processing article 468: nan - nan\n",
            "Error occurred while processing article 468: Invalid URL 'nan': No scheme supplied. Perhaps you meant https://nan?\n",
            "Processing article 469: nan - nan\n",
            "Error occurred while processing article 469: Invalid URL 'nan': No scheme supplied. Perhaps you meant https://nan?\n",
            "Processing article 470: nan - nan\n",
            "Error occurred while processing article 470: Invalid URL 'nan': No scheme supplied. Perhaps you meant https://nan?\n",
            "Processing article 471: nan - nan\n",
            "Error occurred while processing article 471: Invalid URL 'nan': No scheme supplied. Perhaps you meant https://nan?\n",
            "Processing article 472: nan - nan\n",
            "Error occurred while processing article 472: Invalid URL 'nan': No scheme supplied. Perhaps you meant https://nan?\n",
            "Processing article 473: nan - nan\n",
            "Error occurred while processing article 473: Invalid URL 'nan': No scheme supplied. Perhaps you meant https://nan?\n",
            "Processing article 474: nan - nan\n",
            "Error occurred while processing article 474: Invalid URL 'nan': No scheme supplied. Perhaps you meant https://nan?\n",
            "Processing article 475: nan - nan\n",
            "Error occurred while processing article 475: Invalid URL 'nan': No scheme supplied. Perhaps you meant https://nan?\n",
            "Processing article 476: nan - nan\n",
            "Error occurred while processing article 476: Invalid URL 'nan': No scheme supplied. Perhaps you meant https://nan?\n",
            "Processing article 477: nan - nan\n",
            "Error occurred while processing article 477: Invalid URL 'nan': No scheme supplied. Perhaps you meant https://nan?\n",
            "Processing article 478: nan - nan\n",
            "Error occurred while processing article 478: Invalid URL 'nan': No scheme supplied. Perhaps you meant https://nan?\n",
            "Processing article 479: nan - nan\n",
            "Error occurred while processing article 479: Invalid URL 'nan': No scheme supplied. Perhaps you meant https://nan?\n",
            "Processing article 480: nan - nan\n",
            "Error occurred while processing article 480: Invalid URL 'nan': No scheme supplied. Perhaps you meant https://nan?\n",
            "Processing article 481: nan - nan\n",
            "Error occurred while processing article 481: Invalid URL 'nan': No scheme supplied. Perhaps you meant https://nan?\n",
            "Processing article 482: nan - nan\n",
            "Error occurred while processing article 482: Invalid URL 'nan': No scheme supplied. Perhaps you meant https://nan?\n",
            "Processing article 483: nan - nan\n",
            "Error occurred while processing article 483: Invalid URL 'nan': No scheme supplied. Perhaps you meant https://nan?\n",
            "Processing article 484: nan - nan\n",
            "Error occurred while processing article 484: Invalid URL 'nan': No scheme supplied. Perhaps you meant https://nan?\n",
            "Processing article 485: nan - nan\n",
            "Error occurred while processing article 485: Invalid URL 'nan': No scheme supplied. Perhaps you meant https://nan?\n",
            "Processing article 486: nan - nan\n",
            "Error occurred while processing article 486: Invalid URL 'nan': No scheme supplied. Perhaps you meant https://nan?\n",
            "Processing article 487: nan - nan\n",
            "Error occurred while processing article 487: Invalid URL 'nan': No scheme supplied. Perhaps you meant https://nan?\n",
            "Processing article 488: nan - nan\n",
            "Error occurred while processing article 488: Invalid URL 'nan': No scheme supplied. Perhaps you meant https://nan?\n",
            "Processing article 489: nan - nan\n",
            "Error occurred while processing article 489: Invalid URL 'nan': No scheme supplied. Perhaps you meant https://nan?\n",
            "Processing article 490: nan - nan\n",
            "Error occurred while processing article 490: Invalid URL 'nan': No scheme supplied. Perhaps you meant https://nan?\n",
            "Processing article 491: nan - nan\n",
            "Error occurred while processing article 491: Invalid URL 'nan': No scheme supplied. Perhaps you meant https://nan?\n",
            "Processing article 492: nan - nan\n",
            "Error occurred while processing article 492: Invalid URL 'nan': No scheme supplied. Perhaps you meant https://nan?\n",
            "Processing article 493: nan - nan\n",
            "Error occurred while processing article 493: Invalid URL 'nan': No scheme supplied. Perhaps you meant https://nan?\n",
            "Processing article 494: nan - nan\n",
            "Error occurred while processing article 494: Invalid URL 'nan': No scheme supplied. Perhaps you meant https://nan?\n",
            "Processing article 495: nan - nan\n",
            "Error occurred while processing article 495: Invalid URL 'nan': No scheme supplied. Perhaps you meant https://nan?\n",
            "Processing article 496: nan - nan\n",
            "Error occurred while processing article 496: Invalid URL 'nan': No scheme supplied. Perhaps you meant https://nan?\n",
            "Processing article 497: nan - nan\n",
            "Error occurred while processing article 497: Invalid URL 'nan': No scheme supplied. Perhaps you meant https://nan?\n",
            "Processing article 498: nan - nan\n",
            "Error occurred while processing article 498: Invalid URL 'nan': No scheme supplied. Perhaps you meant https://nan?\n",
            "Processing article 499: nan - nan\n",
            "Error occurred while processing article 499: Invalid URL 'nan': No scheme supplied. Perhaps you meant https://nan?\n",
            "Processing article 500: nan - nan\n",
            "Error occurred while processing article 500: Invalid URL 'nan': No scheme supplied. Perhaps you meant https://nan?\n",
            "Processing article 501: nan - nan\n",
            "Error occurred while processing article 501: Invalid URL 'nan': No scheme supplied. Perhaps you meant https://nan?\n",
            "Processing article 502: nan - nan\n",
            "Error occurred while processing article 502: Invalid URL 'nan': No scheme supplied. Perhaps you meant https://nan?\n",
            "Processing article 503: nan - nan\n",
            "Error occurred while processing article 503: Invalid URL 'nan': No scheme supplied. Perhaps you meant https://nan?\n",
            "Processing article 504: nan - nan\n",
            "Error occurred while processing article 504: Invalid URL 'nan': No scheme supplied. Perhaps you meant https://nan?\n",
            "Processing article 505: nan - nan\n",
            "Error occurred while processing article 505: Invalid URL 'nan': No scheme supplied. Perhaps you meant https://nan?\n",
            "Processing article 506: nan - nan\n",
            "Error occurred while processing article 506: Invalid URL 'nan': No scheme supplied. Perhaps you meant https://nan?\n",
            "Processing article 507: nan - nan\n",
            "Error occurred while processing article 507: Invalid URL 'nan': No scheme supplied. Perhaps you meant https://nan?\n",
            "Processing article 508: nan - nan\n",
            "Error occurred while processing article 508: Invalid URL 'nan': No scheme supplied. Perhaps you meant https://nan?\n",
            "Processing article 509: nan - nan\n",
            "Error occurred while processing article 509: Invalid URL 'nan': No scheme supplied. Perhaps you meant https://nan?\n",
            "Processing article 510: nan - nan\n",
            "Error occurred while processing article 510: Invalid URL 'nan': No scheme supplied. Perhaps you meant https://nan?\n",
            "Processing article 511: nan - nan\n",
            "Error occurred while processing article 511: Invalid URL 'nan': No scheme supplied. Perhaps you meant https://nan?\n",
            "Processing article 512: nan - nan\n",
            "Error occurred while processing article 512: Invalid URL 'nan': No scheme supplied. Perhaps you meant https://nan?\n",
            "Processing article 513: nan - nan\n",
            "Error occurred while processing article 513: Invalid URL 'nan': No scheme supplied. Perhaps you meant https://nan?\n",
            "Processing article 514: nan - nan\n",
            "Error occurred while processing article 514: Invalid URL 'nan': No scheme supplied. Perhaps you meant https://nan?\n",
            "Processing article 515: nan - nan\n",
            "Error occurred while processing article 515: Invalid URL 'nan': No scheme supplied. Perhaps you meant https://nan?\n",
            "Processing article 516: nan - nan\n",
            "Error occurred while processing article 516: Invalid URL 'nan': No scheme supplied. Perhaps you meant https://nan?\n",
            "Processing article 517: nan - nan\n",
            "Error occurred while processing article 517: Invalid URL 'nan': No scheme supplied. Perhaps you meant https://nan?\n",
            "Processing article 518: nan - nan\n",
            "Error occurred while processing article 518: Invalid URL 'nan': No scheme supplied. Perhaps you meant https://nan?\n",
            "Processing article 519: nan - nan\n",
            "Error occurred while processing article 519: Invalid URL 'nan': No scheme supplied. Perhaps you meant https://nan?\n",
            "Processing article 520: nan - nan\n",
            "Error occurred while processing article 520: Invalid URL 'nan': No scheme supplied. Perhaps you meant https://nan?\n",
            "Processing article 521: nan - nan\n",
            "Error occurred while processing article 521: Invalid URL 'nan': No scheme supplied. Perhaps you meant https://nan?\n",
            "Processing article 522: nan - nan\n",
            "Error occurred while processing article 522: Invalid URL 'nan': No scheme supplied. Perhaps you meant https://nan?\n",
            "Processing article 523: nan - nan\n",
            "Error occurred while processing article 523: Invalid URL 'nan': No scheme supplied. Perhaps you meant https://nan?\n",
            "Processing article 524: nan - nan\n",
            "Error occurred while processing article 524: Invalid URL 'nan': No scheme supplied. Perhaps you meant https://nan?\n",
            "Processing article 525: nan - nan\n",
            "Error occurred while processing article 525: Invalid URL 'nan': No scheme supplied. Perhaps you meant https://nan?\n",
            "Processing article 526: nan - nan\n",
            "Error occurred while processing article 526: Invalid URL 'nan': No scheme supplied. Perhaps you meant https://nan?\n",
            "Processing article 527: nan - nan\n",
            "Error occurred while processing article 527: Invalid URL 'nan': No scheme supplied. Perhaps you meant https://nan?\n",
            "Processing article 528: nan - nan\n",
            "Error occurred while processing article 528: Invalid URL 'nan': No scheme supplied. Perhaps you meant https://nan?\n",
            "Processing article 529: nan - nan\n",
            "Error occurred while processing article 529: Invalid URL 'nan': No scheme supplied. Perhaps you meant https://nan?\n",
            "Processing article 530: nan - nan\n",
            "Error occurred while processing article 530: Invalid URL 'nan': No scheme supplied. Perhaps you meant https://nan?\n",
            "Processing article 531: nan - nan\n",
            "Error occurred while processing article 531: Invalid URL 'nan': No scheme supplied. Perhaps you meant https://nan?\n",
            "Processing article 532: nan - nan\n",
            "Error occurred while processing article 532: Invalid URL 'nan': No scheme supplied. Perhaps you meant https://nan?\n",
            "Processing article 533: nan - nan\n",
            "Error occurred while processing article 533: Invalid URL 'nan': No scheme supplied. Perhaps you meant https://nan?\n",
            "Processing article 534: nan - nan\n",
            "Error occurred while processing article 534: Invalid URL 'nan': No scheme supplied. Perhaps you meant https://nan?\n",
            "Processing article 535: nan - nan\n",
            "Error occurred while processing article 535: Invalid URL 'nan': No scheme supplied. Perhaps you meant https://nan?\n",
            "Processing article 536: nan - nan\n",
            "Error occurred while processing article 536: Invalid URL 'nan': No scheme supplied. Perhaps you meant https://nan?\n",
            "Processing article 537: nan - nan\n",
            "Error occurred while processing article 537: Invalid URL 'nan': No scheme supplied. Perhaps you meant https://nan?\n",
            "Processing article 538: nan - nan\n",
            "Error occurred while processing article 538: Invalid URL 'nan': No scheme supplied. Perhaps you meant https://nan?\n",
            "Processing article 539: nan - nan\n",
            "Error occurred while processing article 539: Invalid URL 'nan': No scheme supplied. Perhaps you meant https://nan?\n",
            "Processing article 540: nan - nan\n",
            "Error occurred while processing article 540: Invalid URL 'nan': No scheme supplied. Perhaps you meant https://nan?\n",
            "Processing article 541: nan - nan\n",
            "Error occurred while processing article 541: Invalid URL 'nan': No scheme supplied. Perhaps you meant https://nan?\n",
            "Processing article 542: nan - nan\n",
            "Error occurred while processing article 542: Invalid URL 'nan': No scheme supplied. Perhaps you meant https://nan?\n",
            "Processing article 543: nan - nan\n",
            "Error occurred while processing article 543: Invalid URL 'nan': No scheme supplied. Perhaps you meant https://nan?\n",
            "Processing article 544: nan - nan\n",
            "Error occurred while processing article 544: Invalid URL 'nan': No scheme supplied. Perhaps you meant https://nan?\n",
            "Processing article 545: nan - nan\n",
            "Error occurred while processing article 545: Invalid URL 'nan': No scheme supplied. Perhaps you meant https://nan?\n",
            "Processing article 546: nan - nan\n",
            "Error occurred while processing article 546: Invalid URL 'nan': No scheme supplied. Perhaps you meant https://nan?\n",
            "Processing article 547: nan - nan\n",
            "Error occurred while processing article 547: Invalid URL 'nan': No scheme supplied. Perhaps you meant https://nan?\n",
            "Processing article 548: nan - nan\n",
            "Error occurred while processing article 548: Invalid URL 'nan': No scheme supplied. Perhaps you meant https://nan?\n",
            "Processing article 549: nan - nan\n",
            "Error occurred while processing article 549: Invalid URL 'nan': No scheme supplied. Perhaps you meant https://nan?\n",
            "Processing article 550: nan - nan\n",
            "Error occurred while processing article 550: Invalid URL 'nan': No scheme supplied. Perhaps you meant https://nan?\n",
            "Processing article 551: nan - nan\n",
            "Error occurred while processing article 551: Invalid URL 'nan': No scheme supplied. Perhaps you meant https://nan?\n",
            "Processing article 552: nan - nan\n",
            "Error occurred while processing article 552: Invalid URL 'nan': No scheme supplied. Perhaps you meant https://nan?\n",
            "Processing article 553: nan - nan\n",
            "Error occurred while processing article 553: Invalid URL 'nan': No scheme supplied. Perhaps you meant https://nan?\n",
            "Processing article 554: nan - nan\n",
            "Error occurred while processing article 554: Invalid URL 'nan': No scheme supplied. Perhaps you meant https://nan?\n",
            "Processing article 555: nan - nan\n",
            "Error occurred while processing article 555: Invalid URL 'nan': No scheme supplied. Perhaps you meant https://nan?\n",
            "Processing article 556: nan - nan\n",
            "Error occurred while processing article 556: Invalid URL 'nan': No scheme supplied. Perhaps you meant https://nan?\n",
            "Processing article 557: nan - nan\n",
            "Error occurred while processing article 557: Invalid URL 'nan': No scheme supplied. Perhaps you meant https://nan?\n",
            "Processing article 558: nan - nan\n",
            "Error occurred while processing article 558: Invalid URL 'nan': No scheme supplied. Perhaps you meant https://nan?\n",
            "Processing article 559: nan - nan\n",
            "Error occurred while processing article 559: Invalid URL 'nan': No scheme supplied. Perhaps you meant https://nan?\n",
            "Processing article 560: nan - nan\n",
            "Error occurred while processing article 560: Invalid URL 'nan': No scheme supplied. Perhaps you meant https://nan?\n",
            "Processing article 561: nan - nan\n",
            "Error occurred while processing article 561: Invalid URL 'nan': No scheme supplied. Perhaps you meant https://nan?\n",
            "Processing article 562: nan - nan\n",
            "Error occurred while processing article 562: Invalid URL 'nan': No scheme supplied. Perhaps you meant https://nan?\n",
            "Processing article 563: nan - nan\n",
            "Error occurred while processing article 563: Invalid URL 'nan': No scheme supplied. Perhaps you meant https://nan?\n",
            "Processing article 564: nan - nan\n",
            "Error occurred while processing article 564: Invalid URL 'nan': No scheme supplied. Perhaps you meant https://nan?\n",
            "Processing article 565: nan - nan\n",
            "Error occurred while processing article 565: Invalid URL 'nan': No scheme supplied. Perhaps you meant https://nan?\n",
            "Processing article 566: nan - nan\n",
            "Error occurred while processing article 566: Invalid URL 'nan': No scheme supplied. Perhaps you meant https://nan?\n",
            "Processing article 567: nan - nan\n",
            "Error occurred while processing article 567: Invalid URL 'nan': No scheme supplied. Perhaps you meant https://nan?\n",
            "Processing article 568: nan - nan\n",
            "Error occurred while processing article 568: Invalid URL 'nan': No scheme supplied. Perhaps you meant https://nan?\n",
            "Processing article 569: nan - nan\n",
            "Error occurred while processing article 569: Invalid URL 'nan': No scheme supplied. Perhaps you meant https://nan?\n",
            "Processing article 570: nan - nan\n",
            "Error occurred while processing article 570: Invalid URL 'nan': No scheme supplied. Perhaps you meant https://nan?\n",
            "Processing article 571: nan - nan\n",
            "Error occurred while processing article 571: Invalid URL 'nan': No scheme supplied. Perhaps you meant https://nan?\n",
            "Processing article 572: nan - nan\n",
            "Error occurred while processing article 572: Invalid URL 'nan': No scheme supplied. Perhaps you meant https://nan?\n",
            "Processing article 573: nan - nan\n",
            "Error occurred while processing article 573: Invalid URL 'nan': No scheme supplied. Perhaps you meant https://nan?\n",
            "Processing article 574: nan - nan\n",
            "Error occurred while processing article 574: Invalid URL 'nan': No scheme supplied. Perhaps you meant https://nan?\n",
            "Processing article 575: nan - nan\n",
            "Error occurred while processing article 575: Invalid URL 'nan': No scheme supplied. Perhaps you meant https://nan?\n",
            "Processing article 576: nan - nan\n",
            "Error occurred while processing article 576: Invalid URL 'nan': No scheme supplied. Perhaps you meant https://nan?\n",
            "Processing article 577: nan - nan\n",
            "Error occurred while processing article 577: Invalid URL 'nan': No scheme supplied. Perhaps you meant https://nan?\n",
            "Processing article 578: nan - nan\n",
            "Error occurred while processing article 578: Invalid URL 'nan': No scheme supplied. Perhaps you meant https://nan?\n",
            "Processing article 579: nan - nan\n",
            "Error occurred while processing article 579: Invalid URL 'nan': No scheme supplied. Perhaps you meant https://nan?\n",
            "Processing article 580: nan - nan\n",
            "Error occurred while processing article 580: Invalid URL 'nan': No scheme supplied. Perhaps you meant https://nan?\n",
            "Processing article 581: nan - nan\n",
            "Error occurred while processing article 581: Invalid URL 'nan': No scheme supplied. Perhaps you meant https://nan?\n",
            "Processing article 582: nan - nan\n",
            "Error occurred while processing article 582: Invalid URL 'nan': No scheme supplied. Perhaps you meant https://nan?\n",
            "Processing article 583: nan - nan\n",
            "Error occurred while processing article 583: Invalid URL 'nan': No scheme supplied. Perhaps you meant https://nan?\n",
            "Processing article 584: nan - nan\n",
            "Error occurred while processing article 584: Invalid URL 'nan': No scheme supplied. Perhaps you meant https://nan?\n",
            "Processing article 585: nan - nan\n",
            "Error occurred while processing article 585: Invalid URL 'nan': No scheme supplied. Perhaps you meant https://nan?\n",
            "Processing article 586: nan - nan\n",
            "Error occurred while processing article 586: Invalid URL 'nan': No scheme supplied. Perhaps you meant https://nan?\n",
            "Processing article 587: nan - nan\n",
            "Error occurred while processing article 587: Invalid URL 'nan': No scheme supplied. Perhaps you meant https://nan?\n",
            "Processing article 588: nan - nan\n",
            "Error occurred while processing article 588: Invalid URL 'nan': No scheme supplied. Perhaps you meant https://nan?\n",
            "Processing article 589: nan - nan\n",
            "Error occurred while processing article 589: Invalid URL 'nan': No scheme supplied. Perhaps you meant https://nan?\n",
            "Processing article 590: nan - nan\n",
            "Error occurred while processing article 590: Invalid URL 'nan': No scheme supplied. Perhaps you meant https://nan?\n",
            "Processing article 591: nan - nan\n",
            "Error occurred while processing article 591: Invalid URL 'nan': No scheme supplied. Perhaps you meant https://nan?\n",
            "Processing article 592: nan - nan\n",
            "Error occurred while processing article 592: Invalid URL 'nan': No scheme supplied. Perhaps you meant https://nan?\n",
            "Processing article 593: nan - nan\n",
            "Error occurred while processing article 593: Invalid URL 'nan': No scheme supplied. Perhaps you meant https://nan?\n",
            "Processing article 594: nan - nan\n",
            "Error occurred while processing article 594: Invalid URL 'nan': No scheme supplied. Perhaps you meant https://nan?\n",
            "Processing article 595: nan - nan\n",
            "Error occurred while processing article 595: Invalid URL 'nan': No scheme supplied. Perhaps you meant https://nan?\n",
            "Processing article 596: nan - nan\n",
            "Error occurred while processing article 596: Invalid URL 'nan': No scheme supplied. Perhaps you meant https://nan?\n",
            "Processing article 597: nan - nan\n",
            "Error occurred while processing article 597: Invalid URL 'nan': No scheme supplied. Perhaps you meant https://nan?\n",
            "Processing article 598: nan - nan\n",
            "Error occurred while processing article 598: Invalid URL 'nan': No scheme supplied. Perhaps you meant https://nan?\n",
            "Processing article 599: nan - nan\n",
            "Error occurred while processing article 599: Invalid URL 'nan': No scheme supplied. Perhaps you meant https://nan?\n",
            "Processing article 600: nan - nan\n",
            "Error occurred while processing article 600: Invalid URL 'nan': No scheme supplied. Perhaps you meant https://nan?\n",
            "Processing article 601: nan - nan\n",
            "Error occurred while processing article 601: Invalid URL 'nan': No scheme supplied. Perhaps you meant https://nan?\n",
            "Processing article 602: nan - nan\n",
            "Error occurred while processing article 602: Invalid URL 'nan': No scheme supplied. Perhaps you meant https://nan?\n",
            "Processing article 603: nan - nan\n",
            "Error occurred while processing article 603: Invalid URL 'nan': No scheme supplied. Perhaps you meant https://nan?\n",
            "Processing article 604: nan - nan\n",
            "Error occurred while processing article 604: Invalid URL 'nan': No scheme supplied. Perhaps you meant https://nan?\n",
            "Processing article 605: nan - nan\n",
            "Error occurred while processing article 605: Invalid URL 'nan': No scheme supplied. Perhaps you meant https://nan?\n",
            "Processing article 606: nan - nan\n",
            "Error occurred while processing article 606: Invalid URL 'nan': No scheme supplied. Perhaps you meant https://nan?\n",
            "Processing article 607: nan - nan\n",
            "Error occurred while processing article 607: Invalid URL 'nan': No scheme supplied. Perhaps you meant https://nan?\n",
            "Processing article 608: nan - nan\n",
            "Error occurred while processing article 608: Invalid URL 'nan': No scheme supplied. Perhaps you meant https://nan?\n",
            "Processing article 609: nan - nan\n",
            "Error occurred while processing article 609: Invalid URL 'nan': No scheme supplied. Perhaps you meant https://nan?\n",
            "Processing article 610: nan - nan\n",
            "Error occurred while processing article 610: Invalid URL 'nan': No scheme supplied. Perhaps you meant https://nan?\n",
            "Processing article 611: nan - nan\n",
            "Error occurred while processing article 611: Invalid URL 'nan': No scheme supplied. Perhaps you meant https://nan?\n",
            "Processing article 612: nan - nan\n",
            "Error occurred while processing article 612: Invalid URL 'nan': No scheme supplied. Perhaps you meant https://nan?\n",
            "Processing article 613: nan - nan\n",
            "Error occurred while processing article 613: Invalid URL 'nan': No scheme supplied. Perhaps you meant https://nan?\n",
            "Processing article 614: nan - nan\n",
            "Error occurred while processing article 614: Invalid URL 'nan': No scheme supplied. Perhaps you meant https://nan?\n",
            "Processing article 615: nan - nan\n",
            "Error occurred while processing article 615: Invalid URL 'nan': No scheme supplied. Perhaps you meant https://nan?\n",
            "Processing article 616: nan - nan\n",
            "Error occurred while processing article 616: Invalid URL 'nan': No scheme supplied. Perhaps you meant https://nan?\n",
            "Processing article 617: nan - nan\n",
            "Error occurred while processing article 617: Invalid URL 'nan': No scheme supplied. Perhaps you meant https://nan?\n",
            "Processing article 618: nan - nan\n",
            "Error occurred while processing article 618: Invalid URL 'nan': No scheme supplied. Perhaps you meant https://nan?\n",
            "Processing article 619: nan - nan\n",
            "Error occurred while processing article 619: Invalid URL 'nan': No scheme supplied. Perhaps you meant https://nan?\n",
            "Processing article 620: nan - nan\n",
            "Error occurred while processing article 620: Invalid URL 'nan': No scheme supplied. Perhaps you meant https://nan?\n",
            "Processing article 621: nan - nan\n",
            "Error occurred while processing article 621: Invalid URL 'nan': No scheme supplied. Perhaps you meant https://nan?\n",
            "Processing article 622: nan - nan\n",
            "Error occurred while processing article 622: Invalid URL 'nan': No scheme supplied. Perhaps you meant https://nan?\n",
            "Processing article 623: nan - nan\n",
            "Error occurred while processing article 623: Invalid URL 'nan': No scheme supplied. Perhaps you meant https://nan?\n",
            "Processing article 624: nan - nan\n",
            "Error occurred while processing article 624: Invalid URL 'nan': No scheme supplied. Perhaps you meant https://nan?\n",
            "Processing article 625: nan - nan\n",
            "Error occurred while processing article 625: Invalid URL 'nan': No scheme supplied. Perhaps you meant https://nan?\n",
            "Processing article 626: nan - nan\n",
            "Error occurred while processing article 626: Invalid URL 'nan': No scheme supplied. Perhaps you meant https://nan?\n",
            "Processing article 627: nan - nan\n",
            "Error occurred while processing article 627: Invalid URL 'nan': No scheme supplied. Perhaps you meant https://nan?\n",
            "Processing article 628: nan - nan\n",
            "Error occurred while processing article 628: Invalid URL 'nan': No scheme supplied. Perhaps you meant https://nan?\n",
            "Processing article 629: nan - nan\n",
            "Error occurred while processing article 629: Invalid URL 'nan': No scheme supplied. Perhaps you meant https://nan?\n",
            "Processing article 630: nan - nan\n",
            "Error occurred while processing article 630: Invalid URL 'nan': No scheme supplied. Perhaps you meant https://nan?\n",
            "Processing article 631: nan - nan\n",
            "Error occurred while processing article 631: Invalid URL 'nan': No scheme supplied. Perhaps you meant https://nan?\n",
            "Processing article 632: nan - nan\n",
            "Error occurred while processing article 632: Invalid URL 'nan': No scheme supplied. Perhaps you meant https://nan?\n",
            "Processing article 633: nan - nan\n",
            "Error occurred while processing article 633: Invalid URL 'nan': No scheme supplied. Perhaps you meant https://nan?\n",
            "Processing article 634: nan - nan\n",
            "Error occurred while processing article 634: Invalid URL 'nan': No scheme supplied. Perhaps you meant https://nan?\n",
            "Processing article 635: nan - nan\n",
            "Error occurred while processing article 635: Invalid URL 'nan': No scheme supplied. Perhaps you meant https://nan?\n",
            "Processing article 636: nan - nan\n",
            "Error occurred while processing article 636: Invalid URL 'nan': No scheme supplied. Perhaps you meant https://nan?\n",
            "Processing article 637: nan - nan\n",
            "Error occurred while processing article 637: Invalid URL 'nan': No scheme supplied. Perhaps you meant https://nan?\n",
            "Processing article 638: nan - nan\n",
            "Error occurred while processing article 638: Invalid URL 'nan': No scheme supplied. Perhaps you meant https://nan?\n",
            "Processing article 639: nan - nan\n",
            "Error occurred while processing article 639: Invalid URL 'nan': No scheme supplied. Perhaps you meant https://nan?\n",
            "Processing article 640: nan - nan\n",
            "Error occurred while processing article 640: Invalid URL 'nan': No scheme supplied. Perhaps you meant https://nan?\n",
            "Processing article 641: nan - nan\n",
            "Error occurred while processing article 641: Invalid URL 'nan': No scheme supplied. Perhaps you meant https://nan?\n",
            "Processing article 642: nan - nan\n",
            "Error occurred while processing article 642: Invalid URL 'nan': No scheme supplied. Perhaps you meant https://nan?\n",
            "Processing article 643: nan - nan\n",
            "Error occurred while processing article 643: Invalid URL 'nan': No scheme supplied. Perhaps you meant https://nan?\n",
            "Processing article 644: nan - nan\n",
            "Error occurred while processing article 644: Invalid URL 'nan': No scheme supplied. Perhaps you meant https://nan?\n",
            "Processing article 645: nan - nan\n",
            "Error occurred while processing article 645: Invalid URL 'nan': No scheme supplied. Perhaps you meant https://nan?\n",
            "Processing article 646: nan - nan\n",
            "Error occurred while processing article 646: Invalid URL 'nan': No scheme supplied. Perhaps you meant https://nan?\n",
            "Processing article 647: nan - nan\n",
            "Error occurred while processing article 647: Invalid URL 'nan': No scheme supplied. Perhaps you meant https://nan?\n",
            "Processing article 648: nan - nan\n",
            "Error occurred while processing article 648: Invalid URL 'nan': No scheme supplied. Perhaps you meant https://nan?\n",
            "Processing article 649: nan - nan\n",
            "Error occurred while processing article 649: Invalid URL 'nan': No scheme supplied. Perhaps you meant https://nan?\n",
            "Processing article 650: nan - nan\n",
            "Error occurred while processing article 650: Invalid URL 'nan': No scheme supplied. Perhaps you meant https://nan?\n",
            "Processing article 651: nan - nan\n",
            "Error occurred while processing article 651: Invalid URL 'nan': No scheme supplied. Perhaps you meant https://nan?\n",
            "Processing article 652: nan - nan\n",
            "Error occurred while processing article 652: Invalid URL 'nan': No scheme supplied. Perhaps you meant https://nan?\n",
            "Processing article 653: nan - nan\n",
            "Error occurred while processing article 653: Invalid URL 'nan': No scheme supplied. Perhaps you meant https://nan?\n",
            "Processing article 654: nan - nan\n",
            "Error occurred while processing article 654: Invalid URL 'nan': No scheme supplied. Perhaps you meant https://nan?\n",
            "Processing article 655: nan - nan\n",
            "Error occurred while processing article 655: Invalid URL 'nan': No scheme supplied. Perhaps you meant https://nan?\n",
            "Processing article 656: nan - nan\n",
            "Error occurred while processing article 656: Invalid URL 'nan': No scheme supplied. Perhaps you meant https://nan?\n",
            "Processing article 657: nan - nan\n",
            "Error occurred while processing article 657: Invalid URL 'nan': No scheme supplied. Perhaps you meant https://nan?\n",
            "Processing article 658: nan - nan\n",
            "Error occurred while processing article 658: Invalid URL 'nan': No scheme supplied. Perhaps you meant https://nan?\n",
            "Processing article 659: nan - nan\n",
            "Error occurred while processing article 659: Invalid URL 'nan': No scheme supplied. Perhaps you meant https://nan?\n",
            "Processing article 660: nan - nan\n",
            "Error occurred while processing article 660: Invalid URL 'nan': No scheme supplied. Perhaps you meant https://nan?\n",
            "Processing article 661: nan - nan\n",
            "Error occurred while processing article 661: Invalid URL 'nan': No scheme supplied. Perhaps you meant https://nan?\n",
            "Processing article 662: nan - nan\n",
            "Error occurred while processing article 662: Invalid URL 'nan': No scheme supplied. Perhaps you meant https://nan?\n",
            "Processing article 663: nan - nan\n",
            "Error occurred while processing article 663: Invalid URL 'nan': No scheme supplied. Perhaps you meant https://nan?\n",
            "Processing article 664: nan - nan\n",
            "Error occurred while processing article 664: Invalid URL 'nan': No scheme supplied. Perhaps you meant https://nan?\n",
            "Processing article 665: nan - nan\n",
            "Error occurred while processing article 665: Invalid URL 'nan': No scheme supplied. Perhaps you meant https://nan?\n",
            "Processing article 666: nan - nan\n",
            "Error occurred while processing article 666: Invalid URL 'nan': No scheme supplied. Perhaps you meant https://nan?\n",
            "Processing article 667: nan - nan\n",
            "Error occurred while processing article 667: Invalid URL 'nan': No scheme supplied. Perhaps you meant https://nan?\n",
            "Processing article 668: nan - nan\n",
            "Error occurred while processing article 668: Invalid URL 'nan': No scheme supplied. Perhaps you meant https://nan?\n",
            "Processing article 669: nan - nan\n",
            "Error occurred while processing article 669: Invalid URL 'nan': No scheme supplied. Perhaps you meant https://nan?\n",
            "Processing article 670: nan - nan\n",
            "Error occurred while processing article 670: Invalid URL 'nan': No scheme supplied. Perhaps you meant https://nan?\n",
            "Processing article 671: nan - nan\n",
            "Error occurred while processing article 671: Invalid URL 'nan': No scheme supplied. Perhaps you meant https://nan?\n",
            "Processing article 672: nan - nan\n",
            "Error occurred while processing article 672: Invalid URL 'nan': No scheme supplied. Perhaps you meant https://nan?\n",
            "Processing article 673: nan - nan\n",
            "Error occurred while processing article 673: Invalid URL 'nan': No scheme supplied. Perhaps you meant https://nan?\n",
            "Processing article 674: nan - nan\n",
            "Error occurred while processing article 674: Invalid URL 'nan': No scheme supplied. Perhaps you meant https://nan?\n",
            "Processing article 675: nan - nan\n",
            "Error occurred while processing article 675: Invalid URL 'nan': No scheme supplied. Perhaps you meant https://nan?\n",
            "Processing article 676: nan - nan\n",
            "Error occurred while processing article 676: Invalid URL 'nan': No scheme supplied. Perhaps you meant https://nan?\n",
            "Processing article 677: nan - nan\n",
            "Error occurred while processing article 677: Invalid URL 'nan': No scheme supplied. Perhaps you meant https://nan?\n",
            "Processing article 678: nan - nan\n",
            "Error occurred while processing article 678: Invalid URL 'nan': No scheme supplied. Perhaps you meant https://nan?\n",
            "Processing article 679: nan - nan\n",
            "Error occurred while processing article 679: Invalid URL 'nan': No scheme supplied. Perhaps you meant https://nan?\n",
            "Processing article 680: nan - nan\n",
            "Error occurred while processing article 680: Invalid URL 'nan': No scheme supplied. Perhaps you meant https://nan?\n",
            "Processing article 681: nan - nan\n",
            "Error occurred while processing article 681: Invalid URL 'nan': No scheme supplied. Perhaps you meant https://nan?\n",
            "Processing article 682: nan - nan\n",
            "Error occurred while processing article 682: Invalid URL 'nan': No scheme supplied. Perhaps you meant https://nan?\n",
            "Processing article 683: nan - nan\n",
            "Error occurred while processing article 683: Invalid URL 'nan': No scheme supplied. Perhaps you meant https://nan?\n",
            "Processing article 684: nan - nan\n",
            "Error occurred while processing article 684: Invalid URL 'nan': No scheme supplied. Perhaps you meant https://nan?\n",
            "Processing article 685: nan - nan\n",
            "Error occurred while processing article 685: Invalid URL 'nan': No scheme supplied. Perhaps you meant https://nan?\n",
            "Processing article 686: nan - nan\n",
            "Error occurred while processing article 686: Invalid URL 'nan': No scheme supplied. Perhaps you meant https://nan?\n",
            "Processing article 687: nan - nan\n",
            "Error occurred while processing article 687: Invalid URL 'nan': No scheme supplied. Perhaps you meant https://nan?\n",
            "Processing article 688: nan - nan\n",
            "Error occurred while processing article 688: Invalid URL 'nan': No scheme supplied. Perhaps you meant https://nan?\n",
            "Processing article 689: nan - nan\n",
            "Error occurred while processing article 689: Invalid URL 'nan': No scheme supplied. Perhaps you meant https://nan?\n",
            "Processing article 690: nan - nan\n",
            "Error occurred while processing article 690: Invalid URL 'nan': No scheme supplied. Perhaps you meant https://nan?\n",
            "Processing article 691: nan - nan\n",
            "Error occurred while processing article 691: Invalid URL 'nan': No scheme supplied. Perhaps you meant https://nan?\n",
            "Processing article 692: nan - nan\n",
            "Error occurred while processing article 692: Invalid URL 'nan': No scheme supplied. Perhaps you meant https://nan?\n",
            "Processing article 693: nan - nan\n",
            "Error occurred while processing article 693: Invalid URL 'nan': No scheme supplied. Perhaps you meant https://nan?\n",
            "Processing article 694: nan - nan\n",
            "Error occurred while processing article 694: Invalid URL 'nan': No scheme supplied. Perhaps you meant https://nan?\n",
            "Processing article 695: nan - nan\n",
            "Error occurred while processing article 695: Invalid URL 'nan': No scheme supplied. Perhaps you meant https://nan?\n",
            "Processing article 696: nan - nan\n",
            "Error occurred while processing article 696: Invalid URL 'nan': No scheme supplied. Perhaps you meant https://nan?\n",
            "Processing article 697: nan - nan\n",
            "Error occurred while processing article 697: Invalid URL 'nan': No scheme supplied. Perhaps you meant https://nan?\n",
            "Processing article 698: nan - nan\n",
            "Error occurred while processing article 698: Invalid URL 'nan': No scheme supplied. Perhaps you meant https://nan?\n",
            "Processing article 699: nan - nan\n",
            "Error occurred while processing article 699: Invalid URL 'nan': No scheme supplied. Perhaps you meant https://nan?\n",
            "Processing article 700: nan - nan\n",
            "Error occurred while processing article 700: Invalid URL 'nan': No scheme supplied. Perhaps you meant https://nan?\n",
            "Processing article 701: nan - nan\n",
            "Error occurred while processing article 701: Invalid URL 'nan': No scheme supplied. Perhaps you meant https://nan?\n",
            "Processing article 702: nan - nan\n",
            "Error occurred while processing article 702: Invalid URL 'nan': No scheme supplied. Perhaps you meant https://nan?\n",
            "Processing article 703: nan - nan\n",
            "Error occurred while processing article 703: Invalid URL 'nan': No scheme supplied. Perhaps you meant https://nan?\n",
            "Processing article 704: nan - nan\n",
            "Error occurred while processing article 704: Invalid URL 'nan': No scheme supplied. Perhaps you meant https://nan?\n",
            "Processing article 705: nan - nan\n",
            "Error occurred while processing article 705: Invalid URL 'nan': No scheme supplied. Perhaps you meant https://nan?\n",
            "Processing article 706: nan - nan\n",
            "Error occurred while processing article 706: Invalid URL 'nan': No scheme supplied. Perhaps you meant https://nan?\n",
            "Processing article 707: nan - nan\n",
            "Error occurred while processing article 707: Invalid URL 'nan': No scheme supplied. Perhaps you meant https://nan?\n",
            "Processing article 708: nan - nan\n",
            "Error occurred while processing article 708: Invalid URL 'nan': No scheme supplied. Perhaps you meant https://nan?\n",
            "Processing article 709: nan - nan\n",
            "Error occurred while processing article 709: Invalid URL 'nan': No scheme supplied. Perhaps you meant https://nan?\n",
            "Processing article 710: nan - nan\n",
            "Error occurred while processing article 710: Invalid URL 'nan': No scheme supplied. Perhaps you meant https://nan?\n",
            "Processing article 711: nan - nan\n",
            "Error occurred while processing article 711: Invalid URL 'nan': No scheme supplied. Perhaps you meant https://nan?\n",
            "Processing article 712: nan - nan\n",
            "Error occurred while processing article 712: Invalid URL 'nan': No scheme supplied. Perhaps you meant https://nan?\n",
            "Processing article 713: nan - nan\n",
            "Error occurred while processing article 713: Invalid URL 'nan': No scheme supplied. Perhaps you meant https://nan?\n",
            "Processing article 714: nan - nan\n",
            "Error occurred while processing article 714: Invalid URL 'nan': No scheme supplied. Perhaps you meant https://nan?\n",
            "Processing article 715: nan - nan\n",
            "Error occurred while processing article 715: Invalid URL 'nan': No scheme supplied. Perhaps you meant https://nan?\n",
            "Processing article 716: nan - nan\n",
            "Error occurred while processing article 716: Invalid URL 'nan': No scheme supplied. Perhaps you meant https://nan?\n",
            "Processing article 717: nan - nan\n",
            "Error occurred while processing article 717: Invalid URL 'nan': No scheme supplied. Perhaps you meant https://nan?\n",
            "Processing article 718: nan - nan\n",
            "Error occurred while processing article 718: Invalid URL 'nan': No scheme supplied. Perhaps you meant https://nan?\n",
            "Processing article 719: nan - nan\n",
            "Error occurred while processing article 719: Invalid URL 'nan': No scheme supplied. Perhaps you meant https://nan?\n",
            "Processing article 720: nan - nan\n",
            "Error occurred while processing article 720: Invalid URL 'nan': No scheme supplied. Perhaps you meant https://nan?\n",
            "Processing article 721: nan - nan\n",
            "Error occurred while processing article 721: Invalid URL 'nan': No scheme supplied. Perhaps you meant https://nan?\n",
            "Processing article 722: nan - nan\n",
            "Error occurred while processing article 722: Invalid URL 'nan': No scheme supplied. Perhaps you meant https://nan?\n",
            "Processing article 723: nan - nan\n",
            "Error occurred while processing article 723: Invalid URL 'nan': No scheme supplied. Perhaps you meant https://nan?\n",
            "Processing article 724: nan - nan\n",
            "Error occurred while processing article 724: Invalid URL 'nan': No scheme supplied. Perhaps you meant https://nan?\n",
            "Processing article 725: nan - nan\n",
            "Error occurred while processing article 725: Invalid URL 'nan': No scheme supplied. Perhaps you meant https://nan?\n",
            "Processing article 726: nan - nan\n",
            "Error occurred while processing article 726: Invalid URL 'nan': No scheme supplied. Perhaps you meant https://nan?\n",
            "Processing article 727: nan - nan\n",
            "Error occurred while processing article 727: Invalid URL 'nan': No scheme supplied. Perhaps you meant https://nan?\n",
            "Processing article 728: nan - nan\n",
            "Error occurred while processing article 728: Invalid URL 'nan': No scheme supplied. Perhaps you meant https://nan?\n",
            "Processing article 729: nan - nan\n",
            "Error occurred while processing article 729: Invalid URL 'nan': No scheme supplied. Perhaps you meant https://nan?\n",
            "Processing article 730: nan - nan\n",
            "Error occurred while processing article 730: Invalid URL 'nan': No scheme supplied. Perhaps you meant https://nan?\n",
            "Processing article 731: nan - nan\n",
            "Error occurred while processing article 731: Invalid URL 'nan': No scheme supplied. Perhaps you meant https://nan?\n",
            "Processing article 732: nan - nan\n",
            "Error occurred while processing article 732: Invalid URL 'nan': No scheme supplied. Perhaps you meant https://nan?\n",
            "Processing article 733: nan - nan\n",
            "Error occurred while processing article 733: Invalid URL 'nan': No scheme supplied. Perhaps you meant https://nan?\n",
            "Processing article 734: nan - nan\n",
            "Error occurred while processing article 734: Invalid URL 'nan': No scheme supplied. Perhaps you meant https://nan?\n",
            "Processing article 735: nan - nan\n",
            "Error occurred while processing article 735: Invalid URL 'nan': No scheme supplied. Perhaps you meant https://nan?\n",
            "Processing article 736: nan - nan\n",
            "Error occurred while processing article 736: Invalid URL 'nan': No scheme supplied. Perhaps you meant https://nan?\n",
            "Processing article 737: nan - nan\n",
            "Error occurred while processing article 737: Invalid URL 'nan': No scheme supplied. Perhaps you meant https://nan?\n",
            "Processing article 738: nan - nan\n",
            "Error occurred while processing article 738: Invalid URL 'nan': No scheme supplied. Perhaps you meant https://nan?\n",
            "Processing article 739: nan - nan\n",
            "Error occurred while processing article 739: Invalid URL 'nan': No scheme supplied. Perhaps you meant https://nan?\n",
            "Processing article 740: nan - nan\n",
            "Error occurred while processing article 740: Invalid URL 'nan': No scheme supplied. Perhaps you meant https://nan?\n",
            "Processing article 741: nan - nan\n",
            "Error occurred while processing article 741: Invalid URL 'nan': No scheme supplied. Perhaps you meant https://nan?\n",
            "Processing article 742: nan - nan\n",
            "Error occurred while processing article 742: Invalid URL 'nan': No scheme supplied. Perhaps you meant https://nan?\n",
            "Processing article 743: nan - nan\n",
            "Error occurred while processing article 743: Invalid URL 'nan': No scheme supplied. Perhaps you meant https://nan?\n",
            "Processing article 744: nan - nan\n",
            "Error occurred while processing article 744: Invalid URL 'nan': No scheme supplied. Perhaps you meant https://nan?\n",
            "Processing article 745: nan - nan\n",
            "Error occurred while processing article 745: Invalid URL 'nan': No scheme supplied. Perhaps you meant https://nan?\n",
            "Processing article 746: nan - nan\n",
            "Error occurred while processing article 746: Invalid URL 'nan': No scheme supplied. Perhaps you meant https://nan?\n",
            "Processing article 747: nan - nan\n",
            "Error occurred while processing article 747: Invalid URL 'nan': No scheme supplied. Perhaps you meant https://nan?\n",
            "Processing article 748: nan - nan\n",
            "Error occurred while processing article 748: Invalid URL 'nan': No scheme supplied. Perhaps you meant https://nan?\n",
            "Processing article 749: nan - nan\n",
            "Error occurred while processing article 749: Invalid URL 'nan': No scheme supplied. Perhaps you meant https://nan?\n",
            "Processing article 750: nan - nan\n",
            "Error occurred while processing article 750: Invalid URL 'nan': No scheme supplied. Perhaps you meant https://nan?\n",
            "Processing article 751: nan - nan\n",
            "Error occurred while processing article 751: Invalid URL 'nan': No scheme supplied. Perhaps you meant https://nan?\n",
            "Processing article 752: nan - nan\n",
            "Error occurred while processing article 752: Invalid URL 'nan': No scheme supplied. Perhaps you meant https://nan?\n",
            "Processing article 753: nan - nan\n",
            "Error occurred while processing article 753: Invalid URL 'nan': No scheme supplied. Perhaps you meant https://nan?\n",
            "Processing article 754: nan - nan\n",
            "Error occurred while processing article 754: Invalid URL 'nan': No scheme supplied. Perhaps you meant https://nan?\n",
            "Processing article 755: nan - nan\n",
            "Error occurred while processing article 755: Invalid URL 'nan': No scheme supplied. Perhaps you meant https://nan?\n",
            "Processing article 756: nan - nan\n",
            "Error occurred while processing article 756: Invalid URL 'nan': No scheme supplied. Perhaps you meant https://nan?\n",
            "Processing article 757: nan - nan\n",
            "Error occurred while processing article 757: Invalid URL 'nan': No scheme supplied. Perhaps you meant https://nan?\n",
            "Processing article 758: nan - nan\n",
            "Error occurred while processing article 758: Invalid URL 'nan': No scheme supplied. Perhaps you meant https://nan?\n",
            "Processing article 759: nan - nan\n",
            "Error occurred while processing article 759: Invalid URL 'nan': No scheme supplied. Perhaps you meant https://nan?\n",
            "Processing article 760: nan - nan\n",
            "Error occurred while processing article 760: Invalid URL 'nan': No scheme supplied. Perhaps you meant https://nan?\n",
            "Processing article 761: nan - nan\n",
            "Error occurred while processing article 761: Invalid URL 'nan': No scheme supplied. Perhaps you meant https://nan?\n",
            "Processing article 762: nan - nan\n",
            "Error occurred while processing article 762: Invalid URL 'nan': No scheme supplied. Perhaps you meant https://nan?\n",
            "Processing article 763: nan - nan\n",
            "Error occurred while processing article 763: Invalid URL 'nan': No scheme supplied. Perhaps you meant https://nan?\n",
            "Processing article 764: nan - nan\n",
            "Error occurred while processing article 764: Invalid URL 'nan': No scheme supplied. Perhaps you meant https://nan?\n",
            "Processing article 765: nan - nan\n",
            "Error occurred while processing article 765: Invalid URL 'nan': No scheme supplied. Perhaps you meant https://nan?\n",
            "Processing article 766: nan - nan\n",
            "Error occurred while processing article 766: Invalid URL 'nan': No scheme supplied. Perhaps you meant https://nan?\n",
            "Processing article 767: nan - nan\n",
            "Error occurred while processing article 767: Invalid URL 'nan': No scheme supplied. Perhaps you meant https://nan?\n",
            "Processing article 768: nan - nan\n",
            "Error occurred while processing article 768: Invalid URL 'nan': No scheme supplied. Perhaps you meant https://nan?\n",
            "Processing article 769: nan - nan\n",
            "Error occurred while processing article 769: Invalid URL 'nan': No scheme supplied. Perhaps you meant https://nan?\n",
            "Processing article 770: nan - nan\n",
            "Error occurred while processing article 770: Invalid URL 'nan': No scheme supplied. Perhaps you meant https://nan?\n",
            "Processing article 771: nan - nan\n",
            "Error occurred while processing article 771: Invalid URL 'nan': No scheme supplied. Perhaps you meant https://nan?\n",
            "Processing article 772: nan - nan\n",
            "Error occurred while processing article 772: Invalid URL 'nan': No scheme supplied. Perhaps you meant https://nan?\n",
            "Processing article 773: nan - nan\n",
            "Error occurred while processing article 773: Invalid URL 'nan': No scheme supplied. Perhaps you meant https://nan?\n",
            "Processing article 774: nan - nan\n",
            "Error occurred while processing article 774: Invalid URL 'nan': No scheme supplied. Perhaps you meant https://nan?\n",
            "Processing article 775: nan - nan\n",
            "Error occurred while processing article 775: Invalid URL 'nan': No scheme supplied. Perhaps you meant https://nan?\n",
            "Processing article 776: nan - nan\n",
            "Error occurred while processing article 776: Invalid URL 'nan': No scheme supplied. Perhaps you meant https://nan?\n",
            "Processing article 777: nan - nan\n",
            "Error occurred while processing article 777: Invalid URL 'nan': No scheme supplied. Perhaps you meant https://nan?\n",
            "Processing article 778: nan - nan\n",
            "Error occurred while processing article 778: Invalid URL 'nan': No scheme supplied. Perhaps you meant https://nan?\n",
            "Processing article 779: nan - nan\n",
            "Error occurred while processing article 779: Invalid URL 'nan': No scheme supplied. Perhaps you meant https://nan?\n",
            "Processing article 780: nan - nan\n",
            "Error occurred while processing article 780: Invalid URL 'nan': No scheme supplied. Perhaps you meant https://nan?\n",
            "Processing article 781: nan - nan\n",
            "Error occurred while processing article 781: Invalid URL 'nan': No scheme supplied. Perhaps you meant https://nan?\n",
            "Processing article 782: nan - nan\n",
            "Error occurred while processing article 782: Invalid URL 'nan': No scheme supplied. Perhaps you meant https://nan?\n",
            "Processing article 783: nan - nan\n",
            "Error occurred while processing article 783: Invalid URL 'nan': No scheme supplied. Perhaps you meant https://nan?\n",
            "Processing article 784: nan - nan\n",
            "Error occurred while processing article 784: Invalid URL 'nan': No scheme supplied. Perhaps you meant https://nan?\n",
            "Processing article 785: nan - nan\n",
            "Error occurred while processing article 785: Invalid URL 'nan': No scheme supplied. Perhaps you meant https://nan?\n",
            "Processing article 786: nan - nan\n",
            "Error occurred while processing article 786: Invalid URL 'nan': No scheme supplied. Perhaps you meant https://nan?\n",
            "Processing article 787: nan - nan\n",
            "Error occurred while processing article 787: Invalid URL 'nan': No scheme supplied. Perhaps you meant https://nan?\n",
            "Processing article 788: nan - nan\n",
            "Error occurred while processing article 788: Invalid URL 'nan': No scheme supplied. Perhaps you meant https://nan?\n",
            "Processing article 789: nan - nan\n",
            "Error occurred while processing article 789: Invalid URL 'nan': No scheme supplied. Perhaps you meant https://nan?\n",
            "Processing article 790: nan - nan\n",
            "Error occurred while processing article 790: Invalid URL 'nan': No scheme supplied. Perhaps you meant https://nan?\n",
            "Processing article 791: nan - nan\n",
            "Error occurred while processing article 791: Invalid URL 'nan': No scheme supplied. Perhaps you meant https://nan?\n",
            "Processing article 792: nan - nan\n",
            "Error occurred while processing article 792: Invalid URL 'nan': No scheme supplied. Perhaps you meant https://nan?\n",
            "Processing article 793: nan - nan\n",
            "Error occurred while processing article 793: Invalid URL 'nan': No scheme supplied. Perhaps you meant https://nan?\n",
            "Processing article 794: nan - nan\n",
            "Error occurred while processing article 794: Invalid URL 'nan': No scheme supplied. Perhaps you meant https://nan?\n",
            "Processing article 795: nan - nan\n",
            "Error occurred while processing article 795: Invalid URL 'nan': No scheme supplied. Perhaps you meant https://nan?\n",
            "Processing article 796: nan - nan\n",
            "Error occurred while processing article 796: Invalid URL 'nan': No scheme supplied. Perhaps you meant https://nan?\n",
            "Processing article 797: nan - nan\n",
            "Error occurred while processing article 797: Invalid URL 'nan': No scheme supplied. Perhaps you meant https://nan?\n",
            "Processing article 798: nan - nan\n",
            "Error occurred while processing article 798: Invalid URL 'nan': No scheme supplied. Perhaps you meant https://nan?\n",
            "Processing article 799: nan - nan\n",
            "Error occurred while processing article 799: Invalid URL 'nan': No scheme supplied. Perhaps you meant https://nan?\n",
            "Processing article 800: nan - nan\n",
            "Error occurred while processing article 800: Invalid URL 'nan': No scheme supplied. Perhaps you meant https://nan?\n",
            "Processing article 801: nan - nan\n",
            "Error occurred while processing article 801: Invalid URL 'nan': No scheme supplied. Perhaps you meant https://nan?\n",
            "Processing article 802: nan - nan\n",
            "Error occurred while processing article 802: Invalid URL 'nan': No scheme supplied. Perhaps you meant https://nan?\n",
            "Processing article 803: nan - nan\n",
            "Error occurred while processing article 803: Invalid URL 'nan': No scheme supplied. Perhaps you meant https://nan?\n",
            "Processing article 804: nan - nan\n",
            "Error occurred while processing article 804: Invalid URL 'nan': No scheme supplied. Perhaps you meant https://nan?\n",
            "Processing article 805: nan - nan\n",
            "Error occurred while processing article 805: Invalid URL 'nan': No scheme supplied. Perhaps you meant https://nan?\n",
            "Processing article 806: nan - nan\n",
            "Error occurred while processing article 806: Invalid URL 'nan': No scheme supplied. Perhaps you meant https://nan?\n",
            "Processing article 807: nan - nan\n",
            "Error occurred while processing article 807: Invalid URL 'nan': No scheme supplied. Perhaps you meant https://nan?\n",
            "Processing article 808: nan - nan\n",
            "Error occurred while processing article 808: Invalid URL 'nan': No scheme supplied. Perhaps you meant https://nan?\n",
            "Processing article 809: nan - nan\n",
            "Error occurred while processing article 809: Invalid URL 'nan': No scheme supplied. Perhaps you meant https://nan?\n",
            "Processing article 810: nan - nan\n",
            "Error occurred while processing article 810: Invalid URL 'nan': No scheme supplied. Perhaps you meant https://nan?\n",
            "Processing article 811: nan - nan\n",
            "Error occurred while processing article 811: Invalid URL 'nan': No scheme supplied. Perhaps you meant https://nan?\n",
            "Processing article 812: nan - nan\n",
            "Error occurred while processing article 812: Invalid URL 'nan': No scheme supplied. Perhaps you meant https://nan?\n",
            "Processing article 813: nan - nan\n",
            "Error occurred while processing article 813: Invalid URL 'nan': No scheme supplied. Perhaps you meant https://nan?\n",
            "Processing article 814: nan - nan\n",
            "Error occurred while processing article 814: Invalid URL 'nan': No scheme supplied. Perhaps you meant https://nan?\n",
            "Processing article 815: nan - nan\n",
            "Error occurred while processing article 815: Invalid URL 'nan': No scheme supplied. Perhaps you meant https://nan?\n",
            "Processing article 816: nan - nan\n",
            "Error occurred while processing article 816: Invalid URL 'nan': No scheme supplied. Perhaps you meant https://nan?\n",
            "Processing article 817: nan - nan\n",
            "Error occurred while processing article 817: Invalid URL 'nan': No scheme supplied. Perhaps you meant https://nan?\n",
            "Processing article 818: nan - nan\n",
            "Error occurred while processing article 818: Invalid URL 'nan': No scheme supplied. Perhaps you meant https://nan?\n",
            "Processing article 819: nan - nan\n",
            "Error occurred while processing article 819: Invalid URL 'nan': No scheme supplied. Perhaps you meant https://nan?\n",
            "Processing article 820: nan - nan\n",
            "Error occurred while processing article 820: Invalid URL 'nan': No scheme supplied. Perhaps you meant https://nan?\n",
            "Processing article 821: nan - nan\n",
            "Error occurred while processing article 821: Invalid URL 'nan': No scheme supplied. Perhaps you meant https://nan?\n",
            "Processing article 822: nan - nan\n",
            "Error occurred while processing article 822: Invalid URL 'nan': No scheme supplied. Perhaps you meant https://nan?\n",
            "Processing article 823: nan - nan\n",
            "Error occurred while processing article 823: Invalid URL 'nan': No scheme supplied. Perhaps you meant https://nan?\n",
            "Processing article 824: nan - nan\n",
            "Error occurred while processing article 824: Invalid URL 'nan': No scheme supplied. Perhaps you meant https://nan?\n",
            "Processing article 825: nan - nan\n",
            "Error occurred while processing article 825: Invalid URL 'nan': No scheme supplied. Perhaps you meant https://nan?\n",
            "Processing article 826: nan - nan\n",
            "Error occurred while processing article 826: Invalid URL 'nan': No scheme supplied. Perhaps you meant https://nan?\n",
            "Processing article 827: nan - nan\n",
            "Error occurred while processing article 827: Invalid URL 'nan': No scheme supplied. Perhaps you meant https://nan?\n",
            "Processing article 828: nan - nan\n",
            "Error occurred while processing article 828: Invalid URL 'nan': No scheme supplied. Perhaps you meant https://nan?\n",
            "Processing article 829: nan - nan\n",
            "Error occurred while processing article 829: Invalid URL 'nan': No scheme supplied. Perhaps you meant https://nan?\n",
            "Processing article 830: nan - nan\n",
            "Error occurred while processing article 830: Invalid URL 'nan': No scheme supplied. Perhaps you meant https://nan?\n",
            "Processing article 831: nan - nan\n",
            "Error occurred while processing article 831: Invalid URL 'nan': No scheme supplied. Perhaps you meant https://nan?\n",
            "Processing article 832: nan - nan\n",
            "Error occurred while processing article 832: Invalid URL 'nan': No scheme supplied. Perhaps you meant https://nan?\n",
            "Processing article 833: nan - nan\n",
            "Error occurred while processing article 833: Invalid URL 'nan': No scheme supplied. Perhaps you meant https://nan?\n",
            "Processing article 834: nan - nan\n",
            "Error occurred while processing article 834: Invalid URL 'nan': No scheme supplied. Perhaps you meant https://nan?\n",
            "Processing article 835: nan - nan\n",
            "Error occurred while processing article 835: Invalid URL 'nan': No scheme supplied. Perhaps you meant https://nan?\n",
            "Processing article 836: nan - nan\n",
            "Error occurred while processing article 836: Invalid URL 'nan': No scheme supplied. Perhaps you meant https://nan?\n",
            "Processing article 837: nan - nan\n",
            "Error occurred while processing article 837: Invalid URL 'nan': No scheme supplied. Perhaps you meant https://nan?\n",
            "Processing article 838: nan - nan\n",
            "Error occurred while processing article 838: Invalid URL 'nan': No scheme supplied. Perhaps you meant https://nan?\n",
            "Processing article 839: nan - nan\n",
            "Error occurred while processing article 839: Invalid URL 'nan': No scheme supplied. Perhaps you meant https://nan?\n",
            "Processing article 840: nan - nan\n",
            "Error occurred while processing article 840: Invalid URL 'nan': No scheme supplied. Perhaps you meant https://nan?\n",
            "Processing article 841: nan - nan\n",
            "Error occurred while processing article 841: Invalid URL 'nan': No scheme supplied. Perhaps you meant https://nan?\n",
            "Processing article 842: nan - nan\n",
            "Error occurred while processing article 842: Invalid URL 'nan': No scheme supplied. Perhaps you meant https://nan?\n",
            "Processing article 843: nan - nan\n",
            "Error occurred while processing article 843: Invalid URL 'nan': No scheme supplied. Perhaps you meant https://nan?\n",
            "Processing article 844: nan - nan\n",
            "Error occurred while processing article 844: Invalid URL 'nan': No scheme supplied. Perhaps you meant https://nan?\n",
            "Processing article 845: nan - nan\n",
            "Error occurred while processing article 845: Invalid URL 'nan': No scheme supplied. Perhaps you meant https://nan?\n",
            "Processing article 846: nan - nan\n",
            "Error occurred while processing article 846: Invalid URL 'nan': No scheme supplied. Perhaps you meant https://nan?\n",
            "Processing article 847: nan - nan\n",
            "Error occurred while processing article 847: Invalid URL 'nan': No scheme supplied. Perhaps you meant https://nan?\n",
            "Processing article 848: nan - nan\n",
            "Error occurred while processing article 848: Invalid URL 'nan': No scheme supplied. Perhaps you meant https://nan?\n",
            "Processing article 849: nan - nan\n",
            "Error occurred while processing article 849: Invalid URL 'nan': No scheme supplied. Perhaps you meant https://nan?\n",
            "Processing article 850: nan - nan\n",
            "Error occurred while processing article 850: Invalid URL 'nan': No scheme supplied. Perhaps you meant https://nan?\n",
            "Processing article 851: nan - nan\n",
            "Error occurred while processing article 851: Invalid URL 'nan': No scheme supplied. Perhaps you meant https://nan?\n",
            "Processing article 852: nan - nan\n",
            "Error occurred while processing article 852: Invalid URL 'nan': No scheme supplied. Perhaps you meant https://nan?\n",
            "Processing article 853: nan - nan\n",
            "Error occurred while processing article 853: Invalid URL 'nan': No scheme supplied. Perhaps you meant https://nan?\n",
            "Processing article 854: nan - nan\n",
            "Error occurred while processing article 854: Invalid URL 'nan': No scheme supplied. Perhaps you meant https://nan?\n",
            "Processing article 855: nan - nan\n",
            "Error occurred while processing article 855: Invalid URL 'nan': No scheme supplied. Perhaps you meant https://nan?\n",
            "Processing article 856: nan - nan\n",
            "Error occurred while processing article 856: Invalid URL 'nan': No scheme supplied. Perhaps you meant https://nan?\n",
            "Processing article 857: nan - nan\n",
            "Error occurred while processing article 857: Invalid URL 'nan': No scheme supplied. Perhaps you meant https://nan?\n",
            "Processing article 858: nan - nan\n",
            "Error occurred while processing article 858: Invalid URL 'nan': No scheme supplied. Perhaps you meant https://nan?\n",
            "Processing article 859: nan - nan\n",
            "Error occurred while processing article 859: Invalid URL 'nan': No scheme supplied. Perhaps you meant https://nan?\n",
            "Processing article 860: nan - nan\n",
            "Error occurred while processing article 860: Invalid URL 'nan': No scheme supplied. Perhaps you meant https://nan?\n",
            "Processing article 861: nan - nan\n",
            "Error occurred while processing article 861: Invalid URL 'nan': No scheme supplied. Perhaps you meant https://nan?\n",
            "Processing article 862: nan - nan\n",
            "Error occurred while processing article 862: Invalid URL 'nan': No scheme supplied. Perhaps you meant https://nan?\n",
            "Processing article 863: nan - nan\n",
            "Error occurred while processing article 863: Invalid URL 'nan': No scheme supplied. Perhaps you meant https://nan?\n",
            "Processing article 864: nan - nan\n",
            "Error occurred while processing article 864: Invalid URL 'nan': No scheme supplied. Perhaps you meant https://nan?\n",
            "Processing article 865: nan - nan\n",
            "Error occurred while processing article 865: Invalid URL 'nan': No scheme supplied. Perhaps you meant https://nan?\n",
            "Processing article 866: nan - nan\n",
            "Error occurred while processing article 866: Invalid URL 'nan': No scheme supplied. Perhaps you meant https://nan?\n",
            "Processing article 867: nan - nan\n",
            "Error occurred while processing article 867: Invalid URL 'nan': No scheme supplied. Perhaps you meant https://nan?\n",
            "Processing article 868: nan - nan\n",
            "Error occurred while processing article 868: Invalid URL 'nan': No scheme supplied. Perhaps you meant https://nan?\n",
            "Processing article 869: nan - nan\n",
            "Error occurred while processing article 869: Invalid URL 'nan': No scheme supplied. Perhaps you meant https://nan?\n",
            "Processing article 870: nan - nan\n",
            "Error occurred while processing article 870: Invalid URL 'nan': No scheme supplied. Perhaps you meant https://nan?\n",
            "Processing article 871: nan - nan\n",
            "Error occurred while processing article 871: Invalid URL 'nan': No scheme supplied. Perhaps you meant https://nan?\n",
            "Processing article 872: nan - nan\n",
            "Error occurred while processing article 872: Invalid URL 'nan': No scheme supplied. Perhaps you meant https://nan?\n",
            "Processing article 873: nan - nan\n",
            "Error occurred while processing article 873: Invalid URL 'nan': No scheme supplied. Perhaps you meant https://nan?\n",
            "Processing article 874: nan - nan\n",
            "Error occurred while processing article 874: Invalid URL 'nan': No scheme supplied. Perhaps you meant https://nan?\n",
            "Processing article 875: nan - nan\n",
            "Error occurred while processing article 875: Invalid URL 'nan': No scheme supplied. Perhaps you meant https://nan?\n",
            "Processing article 876: nan - nan\n",
            "Error occurred while processing article 876: Invalid URL 'nan': No scheme supplied. Perhaps you meant https://nan?\n",
            "Processing article 877: nan - nan\n",
            "Error occurred while processing article 877: Invalid URL 'nan': No scheme supplied. Perhaps you meant https://nan?\n",
            "Processing article 878: nan - nan\n",
            "Error occurred while processing article 878: Invalid URL 'nan': No scheme supplied. Perhaps you meant https://nan?\n",
            "Processing article 879: nan - nan\n",
            "Error occurred while processing article 879: Invalid URL 'nan': No scheme supplied. Perhaps you meant https://nan?\n",
            "Processing article 880: nan - nan\n",
            "Error occurred while processing article 880: Invalid URL 'nan': No scheme supplied. Perhaps you meant https://nan?\n",
            "Processing article 881: nan - nan\n",
            "Error occurred while processing article 881: Invalid URL 'nan': No scheme supplied. Perhaps you meant https://nan?\n",
            "Processing article 882: nan - nan\n",
            "Error occurred while processing article 882: Invalid URL 'nan': No scheme supplied. Perhaps you meant https://nan?\n",
            "Processing article 883: nan - nan\n",
            "Error occurred while processing article 883: Invalid URL 'nan': No scheme supplied. Perhaps you meant https://nan?\n",
            "Processing article 884: nan - nan\n",
            "Error occurred while processing article 884: Invalid URL 'nan': No scheme supplied. Perhaps you meant https://nan?\n",
            "Processing article 885: nan - nan\n",
            "Error occurred while processing article 885: Invalid URL 'nan': No scheme supplied. Perhaps you meant https://nan?\n",
            "Processing article 886: nan - nan\n",
            "Error occurred while processing article 886: Invalid URL 'nan': No scheme supplied. Perhaps you meant https://nan?\n",
            "Processing article 887: nan - nan\n",
            "Error occurred while processing article 887: Invalid URL 'nan': No scheme supplied. Perhaps you meant https://nan?\n",
            "Processing article 888: nan - nan\n",
            "Error occurred while processing article 888: Invalid URL 'nan': No scheme supplied. Perhaps you meant https://nan?\n",
            "Processing article 889: nan - nan\n",
            "Error occurred while processing article 889: Invalid URL 'nan': No scheme supplied. Perhaps you meant https://nan?\n",
            "Processing article 890: nan - nan\n",
            "Error occurred while processing article 890: Invalid URL 'nan': No scheme supplied. Perhaps you meant https://nan?\n",
            "Processing article 891: nan - nan\n",
            "Error occurred while processing article 891: Invalid URL 'nan': No scheme supplied. Perhaps you meant https://nan?\n",
            "Processing article 892: nan - nan\n",
            "Error occurred while processing article 892: Invalid URL 'nan': No scheme supplied. Perhaps you meant https://nan?\n",
            "Processing article 893: nan - nan\n",
            "Error occurred while processing article 893: Invalid URL 'nan': No scheme supplied. Perhaps you meant https://nan?\n",
            "Processing article 894: nan - nan\n",
            "Error occurred while processing article 894: Invalid URL 'nan': No scheme supplied. Perhaps you meant https://nan?\n",
            "Processing article 895: nan - nan\n",
            "Error occurred while processing article 895: Invalid URL 'nan': No scheme supplied. Perhaps you meant https://nan?\n",
            "Processing article 896: nan - nan\n",
            "Error occurred while processing article 896: Invalid URL 'nan': No scheme supplied. Perhaps you meant https://nan?\n",
            "Processing article 897: nan - nan\n",
            "Error occurred while processing article 897: Invalid URL 'nan': No scheme supplied. Perhaps you meant https://nan?\n",
            "Processing article 898: nan - nan\n",
            "Error occurred while processing article 898: Invalid URL 'nan': No scheme supplied. Perhaps you meant https://nan?\n",
            "Processing article 899: nan - nan\n",
            "Error occurred while processing article 899: Invalid URL 'nan': No scheme supplied. Perhaps you meant https://nan?\n",
            "Processing article 900: nan - nan\n",
            "Error occurred while processing article 900: Invalid URL 'nan': No scheme supplied. Perhaps you meant https://nan?\n",
            "Processing article 901: nan - nan\n",
            "Error occurred while processing article 901: Invalid URL 'nan': No scheme supplied. Perhaps you meant https://nan?\n",
            "Processing article 902: nan - nan\n",
            "Error occurred while processing article 902: Invalid URL 'nan': No scheme supplied. Perhaps you meant https://nan?\n",
            "Processing article 903: nan - nan\n",
            "Error occurred while processing article 903: Invalid URL 'nan': No scheme supplied. Perhaps you meant https://nan?\n",
            "Processing article 904: nan - nan\n",
            "Error occurred while processing article 904: Invalid URL 'nan': No scheme supplied. Perhaps you meant https://nan?\n",
            "Processing article 905: nan - nan\n",
            "Error occurred while processing article 905: Invalid URL 'nan': No scheme supplied. Perhaps you meant https://nan?\n",
            "Processing article 906: nan - nan\n",
            "Error occurred while processing article 906: Invalid URL 'nan': No scheme supplied. Perhaps you meant https://nan?\n",
            "Processing article 907: nan - nan\n",
            "Error occurred while processing article 907: Invalid URL 'nan': No scheme supplied. Perhaps you meant https://nan?\n",
            "Processing article 908: nan - nan\n",
            "Error occurred while processing article 908: Invalid URL 'nan': No scheme supplied. Perhaps you meant https://nan?\n",
            "Processing article 909: nan - nan\n",
            "Error occurred while processing article 909: Invalid URL 'nan': No scheme supplied. Perhaps you meant https://nan?\n",
            "Processing article 910: nan - nan\n",
            "Error occurred while processing article 910: Invalid URL 'nan': No scheme supplied. Perhaps you meant https://nan?\n",
            "Processing article 911: nan - nan\n",
            "Error occurred while processing article 911: Invalid URL 'nan': No scheme supplied. Perhaps you meant https://nan?\n",
            "Processing article 912: nan - nan\n",
            "Error occurred while processing article 912: Invalid URL 'nan': No scheme supplied. Perhaps you meant https://nan?\n",
            "Processing article 913: nan - nan\n",
            "Error occurred while processing article 913: Invalid URL 'nan': No scheme supplied. Perhaps you meant https://nan?\n",
            "Processing article 914: nan - nan\n",
            "Error occurred while processing article 914: Invalid URL 'nan': No scheme supplied. Perhaps you meant https://nan?\n",
            "Processing article 915: nan - nan\n",
            "Error occurred while processing article 915: Invalid URL 'nan': No scheme supplied. Perhaps you meant https://nan?\n",
            "Processing article 916: nan - nan\n",
            "Error occurred while processing article 916: Invalid URL 'nan': No scheme supplied. Perhaps you meant https://nan?\n",
            "Processing article 917: nan - nan\n",
            "Error occurred while processing article 917: Invalid URL 'nan': No scheme supplied. Perhaps you meant https://nan?\n",
            "Processing article 918: nan - nan\n",
            "Error occurred while processing article 918: Invalid URL 'nan': No scheme supplied. Perhaps you meant https://nan?\n",
            "Processing article 919: nan - nan\n",
            "Error occurred while processing article 919: Invalid URL 'nan': No scheme supplied. Perhaps you meant https://nan?\n",
            "Processing article 920: nan - nan\n",
            "Error occurred while processing article 920: Invalid URL 'nan': No scheme supplied. Perhaps you meant https://nan?\n",
            "Processing article 921: nan - nan\n",
            "Error occurred while processing article 921: Invalid URL 'nan': No scheme supplied. Perhaps you meant https://nan?\n",
            "Processing article 922: nan - nan\n",
            "Error occurred while processing article 922: Invalid URL 'nan': No scheme supplied. Perhaps you meant https://nan?\n",
            "Processing article 923: nan - nan\n",
            "Error occurred while processing article 923: Invalid URL 'nan': No scheme supplied. Perhaps you meant https://nan?\n",
            "Processing article 924: nan - nan\n",
            "Error occurred while processing article 924: Invalid URL 'nan': No scheme supplied. Perhaps you meant https://nan?\n",
            "Processing article 925: nan - nan\n",
            "Error occurred while processing article 925: Invalid URL 'nan': No scheme supplied. Perhaps you meant https://nan?\n",
            "Processing article 926: nan - nan\n",
            "Error occurred while processing article 926: Invalid URL 'nan': No scheme supplied. Perhaps you meant https://nan?\n",
            "Processing article 927: nan - nan\n",
            "Error occurred while processing article 927: Invalid URL 'nan': No scheme supplied. Perhaps you meant https://nan?\n",
            "Processing article 928: nan - nan\n",
            "Error occurred while processing article 928: Invalid URL 'nan': No scheme supplied. Perhaps you meant https://nan?\n",
            "Processing article 929: nan - nan\n",
            "Error occurred while processing article 929: Invalid URL 'nan': No scheme supplied. Perhaps you meant https://nan?\n",
            "Processing article 930: nan - nan\n",
            "Error occurred while processing article 930: Invalid URL 'nan': No scheme supplied. Perhaps you meant https://nan?\n",
            "Processing article 931: nan - nan\n",
            "Error occurred while processing article 931: Invalid URL 'nan': No scheme supplied. Perhaps you meant https://nan?\n"
          ]
        }
      ]
    },
    {
      "cell_type": "code",
      "source": [
        "# Save the output dataframe to a file\n",
        "output.to_excel('/content/drive/MyDrive/BC_Test/Answer.xlsx', index=False)"
      ],
      "metadata": {
        "id": "TCH9NhjACGV4"
      },
      "execution_count": 17,
      "outputs": []
    },
    {
      "cell_type": "code",
      "source": [
        "Output = pd.read_excel('/content/drive/MyDrive/BC_Test/Answer.xlsx')\n",
        "Output"
      ],
      "metadata": {
        "colab": {
          "base_uri": "https://localhost:8080/",
          "height": 565
        },
        "id": "E26ff8nyCS_E",
        "outputId": "6eb62db6-5840-417d-d98b-68c3f3d8473d"
      },
      "execution_count": 18,
      "outputs": [
        {
          "output_type": "execute_result",
          "data": {
            "text/plain": [
              "             URL_ID                                                URL  \\\n",
              "0   blackassign0001  https://insights.blackcoffer.com/rising-it-cit...   \n",
              "1   blackassign0002  https://insights.blackcoffer.com/rising-it-cit...   \n",
              "2   blackassign0003  https://insights.blackcoffer.com/internet-dema...   \n",
              "3   blackassign0004  https://insights.blackcoffer.com/rise-of-cyber...   \n",
              "4   blackassign0005  https://insights.blackcoffer.com/ott-platform-...   \n",
              "..              ...                                                ...   \n",
              "93  blackassign0096  https://insights.blackcoffer.com/what-is-the-r...   \n",
              "94  blackassign0097  https://insights.blackcoffer.com/impact-of-cov...   \n",
              "95  blackassign0098  https://insights.blackcoffer.com/contribution-...   \n",
              "96  blackassign0099  https://insights.blackcoffer.com/how-covid-19-...   \n",
              "97  blackassign0100  https://insights.blackcoffer.com/how-will-covi...   \n",
              "\n",
              "    Positive Score  Negative Score  Polarity Score  Subjectivity Score  \\\n",
              "0               33               6        0.692309            0.028446   \n",
              "1               60              31        0.318682            0.053878   \n",
              "2               38              24        0.225807            0.050903   \n",
              "3               38              75       -0.327433            0.092699   \n",
              "4               22               8        0.466668            0.039370   \n",
              "..             ...             ...             ...                 ...   \n",
              "93              28              57       -0.341175            0.069959   \n",
              "94              22              35       -0.228069            0.047264   \n",
              "95               5               3        0.250001            0.018561   \n",
              "96              16               3        0.684212            0.027616   \n",
              "97              32              58       -0.288888            0.075821   \n",
              "\n",
              "    Average Sentence Length  Percentage of Complex Words  Fog Index  \\\n",
              "0                 88.371795                     0.016047  35.355137   \n",
              "1                120.175000                     0.031380  48.082552   \n",
              "2                135.052632                     0.045977  54.039443   \n",
              "3                143.557692                     0.046760  57.441781   \n",
              "4                115.717949                     0.043307  46.304502   \n",
              "..                      ...                          ...        ...   \n",
              "93               141.420000                     0.028807  56.579523   \n",
              "94               164.210526                     0.027363  65.695156   \n",
              "95               214.833333                     0.027842  85.944470   \n",
              "96               114.451613                     0.010174  45.784715   \n",
              "97               209.093750                     0.024431  83.647273   \n",
              "\n",
              "    Average Number of Words Per Sentence  Complex Word Count  Word Count  \\\n",
              "0                              88.371795                  22        1371   \n",
              "1                             120.175000                  53        1689   \n",
              "2                             135.052632                  56        1218   \n",
              "3                             143.557692                  57        1219   \n",
              "4                             115.717949                  33         762   \n",
              "..                                   ...                 ...         ...   \n",
              "93                            141.420000                  35        1215   \n",
              "94                            164.210526                  33        1206   \n",
              "95                            214.833333                  12         431   \n",
              "96                            114.451613                   7         688   \n",
              "97                            209.093750                  29        1187   \n",
              "\n",
              "    Syllables per Word  Personal Pronouns  Average Word Length  \n",
              "0             1.393144                 11             4.193290  \n",
              "1             1.633511                  6             4.874482  \n",
              "2             1.835796                 13             5.491790  \n",
              "3             1.751436                  5             5.301887  \n",
              "4             1.623360                  6             5.080052  \n",
              "..                 ...                ...                  ...  \n",
              "93            1.608230                  2             4.940741  \n",
              "94            1.401327                  6             4.312604  \n",
              "95            1.661253                  0             5.118329  \n",
              "96            1.434593                  4             4.312500  \n",
              "97            1.555181                  3             4.791070  \n",
              "\n",
              "[98 rows x 15 columns]"
            ],
            "text/html": [
              "\n",
              "  <div id=\"df-c6c48d59-f948-446e-8b93-9f0b0448d49a\" class=\"colab-df-container\">\n",
              "    <div>\n",
              "<style scoped>\n",
              "    .dataframe tbody tr th:only-of-type {\n",
              "        vertical-align: middle;\n",
              "    }\n",
              "\n",
              "    .dataframe tbody tr th {\n",
              "        vertical-align: top;\n",
              "    }\n",
              "\n",
              "    .dataframe thead th {\n",
              "        text-align: right;\n",
              "    }\n",
              "</style>\n",
              "<table border=\"1\" class=\"dataframe\">\n",
              "  <thead>\n",
              "    <tr style=\"text-align: right;\">\n",
              "      <th></th>\n",
              "      <th>URL_ID</th>\n",
              "      <th>URL</th>\n",
              "      <th>Positive Score</th>\n",
              "      <th>Negative Score</th>\n",
              "      <th>Polarity Score</th>\n",
              "      <th>Subjectivity Score</th>\n",
              "      <th>Average Sentence Length</th>\n",
              "      <th>Percentage of Complex Words</th>\n",
              "      <th>Fog Index</th>\n",
              "      <th>Average Number of Words Per Sentence</th>\n",
              "      <th>Complex Word Count</th>\n",
              "      <th>Word Count</th>\n",
              "      <th>Syllables per Word</th>\n",
              "      <th>Personal Pronouns</th>\n",
              "      <th>Average Word Length</th>\n",
              "    </tr>\n",
              "  </thead>\n",
              "  <tbody>\n",
              "    <tr>\n",
              "      <th>0</th>\n",
              "      <td>blackassign0001</td>\n",
              "      <td>https://insights.blackcoffer.com/rising-it-cit...</td>\n",
              "      <td>33</td>\n",
              "      <td>6</td>\n",
              "      <td>0.692309</td>\n",
              "      <td>0.028446</td>\n",
              "      <td>88.371795</td>\n",
              "      <td>0.016047</td>\n",
              "      <td>35.355137</td>\n",
              "      <td>88.371795</td>\n",
              "      <td>22</td>\n",
              "      <td>1371</td>\n",
              "      <td>1.393144</td>\n",
              "      <td>11</td>\n",
              "      <td>4.193290</td>\n",
              "    </tr>\n",
              "    <tr>\n",
              "      <th>1</th>\n",
              "      <td>blackassign0002</td>\n",
              "      <td>https://insights.blackcoffer.com/rising-it-cit...</td>\n",
              "      <td>60</td>\n",
              "      <td>31</td>\n",
              "      <td>0.318682</td>\n",
              "      <td>0.053878</td>\n",
              "      <td>120.175000</td>\n",
              "      <td>0.031380</td>\n",
              "      <td>48.082552</td>\n",
              "      <td>120.175000</td>\n",
              "      <td>53</td>\n",
              "      <td>1689</td>\n",
              "      <td>1.633511</td>\n",
              "      <td>6</td>\n",
              "      <td>4.874482</td>\n",
              "    </tr>\n",
              "    <tr>\n",
              "      <th>2</th>\n",
              "      <td>blackassign0003</td>\n",
              "      <td>https://insights.blackcoffer.com/internet-dema...</td>\n",
              "      <td>38</td>\n",
              "      <td>24</td>\n",
              "      <td>0.225807</td>\n",
              "      <td>0.050903</td>\n",
              "      <td>135.052632</td>\n",
              "      <td>0.045977</td>\n",
              "      <td>54.039443</td>\n",
              "      <td>135.052632</td>\n",
              "      <td>56</td>\n",
              "      <td>1218</td>\n",
              "      <td>1.835796</td>\n",
              "      <td>13</td>\n",
              "      <td>5.491790</td>\n",
              "    </tr>\n",
              "    <tr>\n",
              "      <th>3</th>\n",
              "      <td>blackassign0004</td>\n",
              "      <td>https://insights.blackcoffer.com/rise-of-cyber...</td>\n",
              "      <td>38</td>\n",
              "      <td>75</td>\n",
              "      <td>-0.327433</td>\n",
              "      <td>0.092699</td>\n",
              "      <td>143.557692</td>\n",
              "      <td>0.046760</td>\n",
              "      <td>57.441781</td>\n",
              "      <td>143.557692</td>\n",
              "      <td>57</td>\n",
              "      <td>1219</td>\n",
              "      <td>1.751436</td>\n",
              "      <td>5</td>\n",
              "      <td>5.301887</td>\n",
              "    </tr>\n",
              "    <tr>\n",
              "      <th>4</th>\n",
              "      <td>blackassign0005</td>\n",
              "      <td>https://insights.blackcoffer.com/ott-platform-...</td>\n",
              "      <td>22</td>\n",
              "      <td>8</td>\n",
              "      <td>0.466668</td>\n",
              "      <td>0.039370</td>\n",
              "      <td>115.717949</td>\n",
              "      <td>0.043307</td>\n",
              "      <td>46.304502</td>\n",
              "      <td>115.717949</td>\n",
              "      <td>33</td>\n",
              "      <td>762</td>\n",
              "      <td>1.623360</td>\n",
              "      <td>6</td>\n",
              "      <td>5.080052</td>\n",
              "    </tr>\n",
              "    <tr>\n",
              "      <th>...</th>\n",
              "      <td>...</td>\n",
              "      <td>...</td>\n",
              "      <td>...</td>\n",
              "      <td>...</td>\n",
              "      <td>...</td>\n",
              "      <td>...</td>\n",
              "      <td>...</td>\n",
              "      <td>...</td>\n",
              "      <td>...</td>\n",
              "      <td>...</td>\n",
              "      <td>...</td>\n",
              "      <td>...</td>\n",
              "      <td>...</td>\n",
              "      <td>...</td>\n",
              "      <td>...</td>\n",
              "    </tr>\n",
              "    <tr>\n",
              "      <th>93</th>\n",
              "      <td>blackassign0096</td>\n",
              "      <td>https://insights.blackcoffer.com/what-is-the-r...</td>\n",
              "      <td>28</td>\n",
              "      <td>57</td>\n",
              "      <td>-0.341175</td>\n",
              "      <td>0.069959</td>\n",
              "      <td>141.420000</td>\n",
              "      <td>0.028807</td>\n",
              "      <td>56.579523</td>\n",
              "      <td>141.420000</td>\n",
              "      <td>35</td>\n",
              "      <td>1215</td>\n",
              "      <td>1.608230</td>\n",
              "      <td>2</td>\n",
              "      <td>4.940741</td>\n",
              "    </tr>\n",
              "    <tr>\n",
              "      <th>94</th>\n",
              "      <td>blackassign0097</td>\n",
              "      <td>https://insights.blackcoffer.com/impact-of-cov...</td>\n",
              "      <td>22</td>\n",
              "      <td>35</td>\n",
              "      <td>-0.228069</td>\n",
              "      <td>0.047264</td>\n",
              "      <td>164.210526</td>\n",
              "      <td>0.027363</td>\n",
              "      <td>65.695156</td>\n",
              "      <td>164.210526</td>\n",
              "      <td>33</td>\n",
              "      <td>1206</td>\n",
              "      <td>1.401327</td>\n",
              "      <td>6</td>\n",
              "      <td>4.312604</td>\n",
              "    </tr>\n",
              "    <tr>\n",
              "      <th>95</th>\n",
              "      <td>blackassign0098</td>\n",
              "      <td>https://insights.blackcoffer.com/contribution-...</td>\n",
              "      <td>5</td>\n",
              "      <td>3</td>\n",
              "      <td>0.250001</td>\n",
              "      <td>0.018561</td>\n",
              "      <td>214.833333</td>\n",
              "      <td>0.027842</td>\n",
              "      <td>85.944470</td>\n",
              "      <td>214.833333</td>\n",
              "      <td>12</td>\n",
              "      <td>431</td>\n",
              "      <td>1.661253</td>\n",
              "      <td>0</td>\n",
              "      <td>5.118329</td>\n",
              "    </tr>\n",
              "    <tr>\n",
              "      <th>96</th>\n",
              "      <td>blackassign0099</td>\n",
              "      <td>https://insights.blackcoffer.com/how-covid-19-...</td>\n",
              "      <td>16</td>\n",
              "      <td>3</td>\n",
              "      <td>0.684212</td>\n",
              "      <td>0.027616</td>\n",
              "      <td>114.451613</td>\n",
              "      <td>0.010174</td>\n",
              "      <td>45.784715</td>\n",
              "      <td>114.451613</td>\n",
              "      <td>7</td>\n",
              "      <td>688</td>\n",
              "      <td>1.434593</td>\n",
              "      <td>4</td>\n",
              "      <td>4.312500</td>\n",
              "    </tr>\n",
              "    <tr>\n",
              "      <th>97</th>\n",
              "      <td>blackassign0100</td>\n",
              "      <td>https://insights.blackcoffer.com/how-will-covi...</td>\n",
              "      <td>32</td>\n",
              "      <td>58</td>\n",
              "      <td>-0.288888</td>\n",
              "      <td>0.075821</td>\n",
              "      <td>209.093750</td>\n",
              "      <td>0.024431</td>\n",
              "      <td>83.647273</td>\n",
              "      <td>209.093750</td>\n",
              "      <td>29</td>\n",
              "      <td>1187</td>\n",
              "      <td>1.555181</td>\n",
              "      <td>3</td>\n",
              "      <td>4.791070</td>\n",
              "    </tr>\n",
              "  </tbody>\n",
              "</table>\n",
              "<p>98 rows × 15 columns</p>\n",
              "</div>\n",
              "    <div class=\"colab-df-buttons\">\n",
              "\n",
              "  <div class=\"colab-df-container\">\n",
              "    <button class=\"colab-df-convert\" onclick=\"convertToInteractive('df-c6c48d59-f948-446e-8b93-9f0b0448d49a')\"\n",
              "            title=\"Convert this dataframe to an interactive table.\"\n",
              "            style=\"display:none;\">\n",
              "\n",
              "  <svg xmlns=\"http://www.w3.org/2000/svg\" height=\"24px\" viewBox=\"0 -960 960 960\">\n",
              "    <path d=\"M120-120v-720h720v720H120Zm60-500h600v-160H180v160Zm220 220h160v-160H400v160Zm0 220h160v-160H400v160ZM180-400h160v-160H180v160Zm440 0h160v-160H620v160ZM180-180h160v-160H180v160Zm440 0h160v-160H620v160Z\"/>\n",
              "  </svg>\n",
              "    </button>\n",
              "\n",
              "  <style>\n",
              "    .colab-df-container {\n",
              "      display:flex;\n",
              "      gap: 12px;\n",
              "    }\n",
              "\n",
              "    .colab-df-convert {\n",
              "      background-color: #E8F0FE;\n",
              "      border: none;\n",
              "      border-radius: 50%;\n",
              "      cursor: pointer;\n",
              "      display: none;\n",
              "      fill: #1967D2;\n",
              "      height: 32px;\n",
              "      padding: 0 0 0 0;\n",
              "      width: 32px;\n",
              "    }\n",
              "\n",
              "    .colab-df-convert:hover {\n",
              "      background-color: #E2EBFA;\n",
              "      box-shadow: 0px 1px 2px rgba(60, 64, 67, 0.3), 0px 1px 3px 1px rgba(60, 64, 67, 0.15);\n",
              "      fill: #174EA6;\n",
              "    }\n",
              "\n",
              "    .colab-df-buttons div {\n",
              "      margin-bottom: 4px;\n",
              "    }\n",
              "\n",
              "    [theme=dark] .colab-df-convert {\n",
              "      background-color: #3B4455;\n",
              "      fill: #D2E3FC;\n",
              "    }\n",
              "\n",
              "    [theme=dark] .colab-df-convert:hover {\n",
              "      background-color: #434B5C;\n",
              "      box-shadow: 0px 1px 3px 1px rgba(0, 0, 0, 0.15);\n",
              "      filter: drop-shadow(0px 1px 2px rgba(0, 0, 0, 0.3));\n",
              "      fill: #FFFFFF;\n",
              "    }\n",
              "  </style>\n",
              "\n",
              "    <script>\n",
              "      const buttonEl =\n",
              "        document.querySelector('#df-c6c48d59-f948-446e-8b93-9f0b0448d49a button.colab-df-convert');\n",
              "      buttonEl.style.display =\n",
              "        google.colab.kernel.accessAllowed ? 'block' : 'none';\n",
              "\n",
              "      async function convertToInteractive(key) {\n",
              "        const element = document.querySelector('#df-c6c48d59-f948-446e-8b93-9f0b0448d49a');\n",
              "        const dataTable =\n",
              "          await google.colab.kernel.invokeFunction('convertToInteractive',\n",
              "                                                    [key], {});\n",
              "        if (!dataTable) return;\n",
              "\n",
              "        const docLinkHtml = 'Like what you see? Visit the ' +\n",
              "          '<a target=\"_blank\" href=https://colab.research.google.com/notebooks/data_table.ipynb>data table notebook</a>'\n",
              "          + ' to learn more about interactive tables.';\n",
              "        element.innerHTML = '';\n",
              "        dataTable['output_type'] = 'display_data';\n",
              "        await google.colab.output.renderOutput(dataTable, element);\n",
              "        const docLink = document.createElement('div');\n",
              "        docLink.innerHTML = docLinkHtml;\n",
              "        element.appendChild(docLink);\n",
              "      }\n",
              "    </script>\n",
              "  </div>\n",
              "\n",
              "\n",
              "<div id=\"df-7cea9eeb-bcc5-4935-9092-667640a6a1ae\">\n",
              "  <button class=\"colab-df-quickchart\" onclick=\"quickchart('df-7cea9eeb-bcc5-4935-9092-667640a6a1ae')\"\n",
              "            title=\"Suggest charts\"\n",
              "            style=\"display:none;\">\n",
              "\n",
              "<svg xmlns=\"http://www.w3.org/2000/svg\" height=\"24px\"viewBox=\"0 0 24 24\"\n",
              "     width=\"24px\">\n",
              "    <g>\n",
              "        <path d=\"M19 3H5c-1.1 0-2 .9-2 2v14c0 1.1.9 2 2 2h14c1.1 0 2-.9 2-2V5c0-1.1-.9-2-2-2zM9 17H7v-7h2v7zm4 0h-2V7h2v10zm4 0h-2v-4h2v4z\"/>\n",
              "    </g>\n",
              "</svg>\n",
              "  </button>\n",
              "\n",
              "<style>\n",
              "  .colab-df-quickchart {\n",
              "      --bg-color: #E8F0FE;\n",
              "      --fill-color: #1967D2;\n",
              "      --hover-bg-color: #E2EBFA;\n",
              "      --hover-fill-color: #174EA6;\n",
              "      --disabled-fill-color: #AAA;\n",
              "      --disabled-bg-color: #DDD;\n",
              "  }\n",
              "\n",
              "  [theme=dark] .colab-df-quickchart {\n",
              "      --bg-color: #3B4455;\n",
              "      --fill-color: #D2E3FC;\n",
              "      --hover-bg-color: #434B5C;\n",
              "      --hover-fill-color: #FFFFFF;\n",
              "      --disabled-bg-color: #3B4455;\n",
              "      --disabled-fill-color: #666;\n",
              "  }\n",
              "\n",
              "  .colab-df-quickchart {\n",
              "    background-color: var(--bg-color);\n",
              "    border: none;\n",
              "    border-radius: 50%;\n",
              "    cursor: pointer;\n",
              "    display: none;\n",
              "    fill: var(--fill-color);\n",
              "    height: 32px;\n",
              "    padding: 0;\n",
              "    width: 32px;\n",
              "  }\n",
              "\n",
              "  .colab-df-quickchart:hover {\n",
              "    background-color: var(--hover-bg-color);\n",
              "    box-shadow: 0 1px 2px rgba(60, 64, 67, 0.3), 0 1px 3px 1px rgba(60, 64, 67, 0.15);\n",
              "    fill: var(--button-hover-fill-color);\n",
              "  }\n",
              "\n",
              "  .colab-df-quickchart-complete:disabled,\n",
              "  .colab-df-quickchart-complete:disabled:hover {\n",
              "    background-color: var(--disabled-bg-color);\n",
              "    fill: var(--disabled-fill-color);\n",
              "    box-shadow: none;\n",
              "  }\n",
              "\n",
              "  .colab-df-spinner {\n",
              "    border: 2px solid var(--fill-color);\n",
              "    border-color: transparent;\n",
              "    border-bottom-color: var(--fill-color);\n",
              "    animation:\n",
              "      spin 1s steps(1) infinite;\n",
              "  }\n",
              "\n",
              "  @keyframes spin {\n",
              "    0% {\n",
              "      border-color: transparent;\n",
              "      border-bottom-color: var(--fill-color);\n",
              "      border-left-color: var(--fill-color);\n",
              "    }\n",
              "    20% {\n",
              "      border-color: transparent;\n",
              "      border-left-color: var(--fill-color);\n",
              "      border-top-color: var(--fill-color);\n",
              "    }\n",
              "    30% {\n",
              "      border-color: transparent;\n",
              "      border-left-color: var(--fill-color);\n",
              "      border-top-color: var(--fill-color);\n",
              "      border-right-color: var(--fill-color);\n",
              "    }\n",
              "    40% {\n",
              "      border-color: transparent;\n",
              "      border-right-color: var(--fill-color);\n",
              "      border-top-color: var(--fill-color);\n",
              "    }\n",
              "    60% {\n",
              "      border-color: transparent;\n",
              "      border-right-color: var(--fill-color);\n",
              "    }\n",
              "    80% {\n",
              "      border-color: transparent;\n",
              "      border-right-color: var(--fill-color);\n",
              "      border-bottom-color: var(--fill-color);\n",
              "    }\n",
              "    90% {\n",
              "      border-color: transparent;\n",
              "      border-bottom-color: var(--fill-color);\n",
              "    }\n",
              "  }\n",
              "</style>\n",
              "\n",
              "  <script>\n",
              "    async function quickchart(key) {\n",
              "      const quickchartButtonEl =\n",
              "        document.querySelector('#' + key + ' button');\n",
              "      quickchartButtonEl.disabled = true;  // To prevent multiple clicks.\n",
              "      quickchartButtonEl.classList.add('colab-df-spinner');\n",
              "      try {\n",
              "        const charts = await google.colab.kernel.invokeFunction(\n",
              "            'suggestCharts', [key], {});\n",
              "      } catch (error) {\n",
              "        console.error('Error during call to suggestCharts:', error);\n",
              "      }\n",
              "      quickchartButtonEl.classList.remove('colab-df-spinner');\n",
              "      quickchartButtonEl.classList.add('colab-df-quickchart-complete');\n",
              "    }\n",
              "    (() => {\n",
              "      let quickchartButtonEl =\n",
              "        document.querySelector('#df-7cea9eeb-bcc5-4935-9092-667640a6a1ae button');\n",
              "      quickchartButtonEl.style.display =\n",
              "        google.colab.kernel.accessAllowed ? 'block' : 'none';\n",
              "    })();\n",
              "  </script>\n",
              "</div>\n",
              "    </div>\n",
              "  </div>\n"
            ]
          },
          "metadata": {},
          "execution_count": 18
        }
      ]
    },
    {
      "cell_type": "code",
      "source": [],
      "metadata": {
        "id": "dBS1BYCzCTg6"
      },
      "execution_count": null,
      "outputs": []
    }
  ]
}